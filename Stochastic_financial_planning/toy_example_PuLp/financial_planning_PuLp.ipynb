{
 "cells": [
  {
   "cell_type": "code",
   "execution_count": 39,
   "metadata": {},
   "outputs": [],
   "source": [
    "import numpy as np\n",
    "import pandas as pd\n",
    "from pulp import *"
   ]
  },
  {
   "cell_type": "code",
   "execution_count": 2,
   "metadata": {},
   "outputs": [],
   "source": [
    "invest = {'bond','stock'}\n",
    "NumNodes = 21\n",
    "NumScen = 64"
   ]
  },
  {
   "cell_type": "code",
   "execution_count": 3,
   "metadata": {},
   "outputs": [],
   "source": [
    "b = 10000\n",
    "G = 15000\n",
    "q = 1 #0.05\n",
    "r = 2 #0.10\n",
    "NumOfOutcome = 4"
   ]
  },
  {
   "cell_type": "code",
   "execution_count": 4,
   "metadata": {},
   "outputs": [
    {
     "data": {
      "text/plain": [
       "{0: {'stock': 1.25, 'bond': 1.05},\n",
       " 1: {'stock': 1.1, 'bond': 1.05},\n",
       " 2: {'stock': 1.0, 'bond': 1.06},\n",
       " 3: {'stock': 0.95, 'bond': 1.08}}"
      ]
     },
     "execution_count": 4,
     "metadata": {},
     "output_type": "execute_result"
    }
   ],
   "source": [
    "ret = {\n",
    "    0 : {'stock' : 1.25, 'bond' : 1.05},\n",
    "    1 : {'stock' : 1.10, 'bond' : 1.05},\n",
    "    2 : {'stock' : 1.00, 'bond' : 1.06},\n",
    "    3 : {'stock' : 0.95, 'bond' : 1.08}\n",
    "        }\n",
    "ret"
   ]
  },
  {
   "cell_type": "code",
   "execution_count": 5,
   "metadata": {},
   "outputs": [
    {
     "name": "stdout",
     "output_type": "stream",
     "text": [
      "{'stock': 1.25, 'bond': 1.05}\n",
      "{'stock': 1.1, 'bond': 1.05}\n",
      "{'stock': 1.0, 'bond': 1.06}\n",
      "{'stock': 0.95, 'bond': 1.08}\n",
      "<class 'dict'>\n"
     ]
    }
   ],
   "source": [
    "print(ret[0])\n",
    "print(ret[1])\n",
    "print(ret[2])\n",
    "print(ret[3])\n",
    "print(type(ret))"
   ]
  },
  {
   "cell_type": "code",
   "execution_count": 6,
   "metadata": {},
   "outputs": [
    {
     "data": {
      "text/plain": [
       "{(0, 'stock'): x_(0,_'stock'),\n",
       " (0, 'bond'): x_(0,_'bond'),\n",
       " (1, 'stock'): x_(1,_'stock'),\n",
       " (1, 'bond'): x_(1,_'bond'),\n",
       " (2, 'stock'): x_(2,_'stock'),\n",
       " (2, 'bond'): x_(2,_'bond'),\n",
       " (3, 'stock'): x_(3,_'stock'),\n",
       " (3, 'bond'): x_(3,_'bond'),\n",
       " (4, 'stock'): x_(4,_'stock'),\n",
       " (4, 'bond'): x_(4,_'bond'),\n",
       " (5, 'stock'): x_(5,_'stock'),\n",
       " (5, 'bond'): x_(5,_'bond'),\n",
       " (6, 'stock'): x_(6,_'stock'),\n",
       " (6, 'bond'): x_(6,_'bond'),\n",
       " (7, 'stock'): x_(7,_'stock'),\n",
       " (7, 'bond'): x_(7,_'bond'),\n",
       " (8, 'stock'): x_(8,_'stock'),\n",
       " (8, 'bond'): x_(8,_'bond'),\n",
       " (9, 'stock'): x_(9,_'stock'),\n",
       " (9, 'bond'): x_(9,_'bond'),\n",
       " (10, 'stock'): x_(10,_'stock'),\n",
       " (10, 'bond'): x_(10,_'bond'),\n",
       " (11, 'stock'): x_(11,_'stock'),\n",
       " (11, 'bond'): x_(11,_'bond'),\n",
       " (12, 'stock'): x_(12,_'stock'),\n",
       " (12, 'bond'): x_(12,_'bond'),\n",
       " (13, 'stock'): x_(13,_'stock'),\n",
       " (13, 'bond'): x_(13,_'bond'),\n",
       " (14, 'stock'): x_(14,_'stock'),\n",
       " (14, 'bond'): x_(14,_'bond'),\n",
       " (15, 'stock'): x_(15,_'stock'),\n",
       " (15, 'bond'): x_(15,_'bond'),\n",
       " (16, 'stock'): x_(16,_'stock'),\n",
       " (16, 'bond'): x_(16,_'bond'),\n",
       " (17, 'stock'): x_(17,_'stock'),\n",
       " (17, 'bond'): x_(17,_'bond'),\n",
       " (18, 'stock'): x_(18,_'stock'),\n",
       " (18, 'bond'): x_(18,_'bond'),\n",
       " (19, 'stock'): x_(19,_'stock'),\n",
       " (19, 'bond'): x_(19,_'bond'),\n",
       " (20, 'stock'): x_(20,_'stock'),\n",
       " (20, 'bond'): x_(20,_'bond')}"
      ]
     },
     "execution_count": 6,
     "metadata": {},
     "output_type": "execute_result"
    }
   ],
   "source": [
    "x = LpVariable.dicts('x',[(i,j) for i in range(NumNodes) for j in invest])\n",
    "x"
   ]
  },
  {
   "cell_type": "code",
   "execution_count": 7,
   "metadata": {
    "scrolled": false
   },
   "outputs": [
    {
     "name": "stdout",
     "output_type": "stream",
     "text": [
      "{0: y_0, 1: y_1, 2: y_2, 3: y_3, 4: y_4, 5: y_5, 6: y_6, 7: y_7, 8: y_8, 9: y_9, 10: y_10, 11: y_11, 12: y_12, 13: y_13, 14: y_14, 15: y_15, 16: y_16, 17: y_17, 18: y_18, 19: y_19, 20: y_20, 21: y_21, 22: y_22, 23: y_23, 24: y_24, 25: y_25, 26: y_26, 27: y_27, 28: y_28, 29: y_29, 30: y_30, 31: y_31, 32: y_32, 33: y_33, 34: y_34, 35: y_35, 36: y_36, 37: y_37, 38: y_38, 39: y_39, 40: y_40, 41: y_41, 42: y_42, 43: y_43, 44: y_44, 45: y_45, 46: y_46, 47: y_47, 48: y_48, 49: y_49, 50: y_50, 51: y_51, 52: y_52, 53: y_53, 54: y_54, 55: y_55, 56: y_56, 57: y_57, 58: y_58, 59: y_59, 60: y_60, 61: y_61, 62: y_62, 63: y_63}\n"
     ]
    }
   ],
   "source": [
    "y =  LpVariable.dicts('y', range(NumScen))\n",
    "print(y)"
   ]
  },
  {
   "cell_type": "code",
   "execution_count": 8,
   "metadata": {},
   "outputs": [
    {
     "name": "stdout",
     "output_type": "stream",
     "text": [
      "{0: z_0, 1: z_1, 2: z_2, 3: z_3, 4: z_4, 5: z_5, 6: z_6, 7: z_7, 8: z_8, 9: z_9, 10: z_10, 11: z_11, 12: z_12, 13: z_13, 14: z_14, 15: z_15, 16: z_16, 17: z_17, 18: z_18, 19: z_19, 20: z_20, 21: z_21, 22: z_22, 23: z_23, 24: z_24, 25: z_25, 26: z_26, 27: z_27, 28: z_28, 29: z_29, 30: z_30, 31: z_31, 32: z_32, 33: z_33, 34: z_34, 35: z_35, 36: z_36, 37: z_37, 38: z_38, 39: z_39, 40: z_40, 41: z_41, 42: z_42, 43: z_43, 44: z_44, 45: z_45, 46: z_46, 47: z_47, 48: z_48, 49: z_49, 50: z_50, 51: z_51, 52: z_52, 53: z_53, 54: z_54, 55: z_55, 56: z_56, 57: z_57, 58: z_58, 59: z_59, 60: z_60, 61: z_61, 62: z_62, 63: z_63}\n"
     ]
    }
   ],
   "source": [
    "z = LpVariable.dicts('z',range(NumScen))\n",
    "print(z)"
   ]
  },
  {
   "cell_type": "code",
   "execution_count": 9,
   "metadata": {},
   "outputs": [
    {
     "data": {
      "text/plain": [
       "{1: 0,\n",
       " 2: 0,\n",
       " 3: 0,\n",
       " 4: 0,\n",
       " 5: 1,\n",
       " 6: 1,\n",
       " 7: 1,\n",
       " 8: 1,\n",
       " 9: 2,\n",
       " 10: 2,\n",
       " 11: 2,\n",
       " 12: 2,\n",
       " 13: 3,\n",
       " 14: 3,\n",
       " 15: 3,\n",
       " 16: 3,\n",
       " 17: 4,\n",
       " 18: 4,\n",
       " 19: 4,\n",
       " 20: 4}"
      ]
     },
     "execution_count": 9,
     "metadata": {},
     "output_type": "execute_result"
    }
   ],
   "source": [
    "A = dict([(k, ((k-1)//NumOfOutcome)) for k in range(1, NumNodes)])\n",
    "A"
   ]
  },
  {
   "cell_type": "code",
   "execution_count": 10,
   "metadata": {},
   "outputs": [
    {
     "data": {
      "text/plain": [
       "{0: 5,\n",
       " 1: 5,\n",
       " 2: 5,\n",
       " 3: 5,\n",
       " 4: 6,\n",
       " 5: 6,\n",
       " 6: 6,\n",
       " 7: 6,\n",
       " 8: 7,\n",
       " 9: 7,\n",
       " 10: 7,\n",
       " 11: 7,\n",
       " 12: 8,\n",
       " 13: 8,\n",
       " 14: 8,\n",
       " 15: 8,\n",
       " 16: 9,\n",
       " 17: 9,\n",
       " 18: 9,\n",
       " 19: 9,\n",
       " 20: 10,\n",
       " 21: 10,\n",
       " 22: 10,\n",
       " 23: 10,\n",
       " 24: 11,\n",
       " 25: 11,\n",
       " 26: 11,\n",
       " 27: 11,\n",
       " 28: 12,\n",
       " 29: 12,\n",
       " 30: 12,\n",
       " 31: 12,\n",
       " 32: 13,\n",
       " 33: 13,\n",
       " 34: 13,\n",
       " 35: 13,\n",
       " 36: 14,\n",
       " 37: 14,\n",
       " 38: 14,\n",
       " 39: 14,\n",
       " 40: 15,\n",
       " 41: 15,\n",
       " 42: 15,\n",
       " 43: 15,\n",
       " 44: 16,\n",
       " 45: 16,\n",
       " 46: 16,\n",
       " 47: 16,\n",
       " 48: 17,\n",
       " 49: 17,\n",
       " 50: 17,\n",
       " 51: 17,\n",
       " 52: 18,\n",
       " 53: 18,\n",
       " 54: 18,\n",
       " 55: 18,\n",
       " 56: 19,\n",
       " 57: 19,\n",
       " 58: 19,\n",
       " 59: 19,\n",
       " 60: 20,\n",
       " 61: 20,\n",
       " 62: 20,\n",
       " 63: 20}"
      ]
     },
     "execution_count": 10,
     "metadata": {},
     "output_type": "execute_result"
    }
   ],
   "source": [
    "A2 = dict([(s, (5 + s//NumOfOutcome)) for s in range(NumScen)]) \n",
    "A2"
   ]
  },
  {
   "cell_type": "code",
   "execution_count": 11,
   "metadata": {},
   "outputs": [
    {
     "data": {
      "text/plain": [
       "{1: 0,\n",
       " 2: 1,\n",
       " 3: 2,\n",
       " 4: 3,\n",
       " 5: 0,\n",
       " 6: 1,\n",
       " 7: 2,\n",
       " 8: 3,\n",
       " 9: 0,\n",
       " 10: 1,\n",
       " 11: 2,\n",
       " 12: 3,\n",
       " 13: 0,\n",
       " 14: 1,\n",
       " 15: 2,\n",
       " 16: 3,\n",
       " 17: 0,\n",
       " 18: 1,\n",
       " 19: 2,\n",
       " 20: 3}"
      ]
     },
     "execution_count": 11,
     "metadata": {},
     "output_type": "execute_result"
    }
   ],
   "source": [
    "O = dict([(k,(k-1) %NumOfOutcome) for k in range(1,NumNodes)])\n",
    "O"
   ]
  },
  {
   "cell_type": "code",
   "execution_count": 12,
   "metadata": {},
   "outputs": [
    {
     "data": {
      "text/plain": [
       "{0: 0,\n",
       " 1: 1,\n",
       " 2: 2,\n",
       " 3: 3,\n",
       " 4: 0,\n",
       " 5: 1,\n",
       " 6: 2,\n",
       " 7: 3,\n",
       " 8: 0,\n",
       " 9: 1,\n",
       " 10: 2,\n",
       " 11: 3,\n",
       " 12: 0,\n",
       " 13: 1,\n",
       " 14: 2,\n",
       " 15: 3,\n",
       " 16: 0,\n",
       " 17: 1,\n",
       " 18: 2,\n",
       " 19: 3,\n",
       " 20: 0,\n",
       " 21: 1,\n",
       " 22: 2,\n",
       " 23: 3,\n",
       " 24: 0,\n",
       " 25: 1,\n",
       " 26: 2,\n",
       " 27: 3,\n",
       " 28: 0,\n",
       " 29: 1,\n",
       " 30: 2,\n",
       " 31: 3,\n",
       " 32: 0,\n",
       " 33: 1,\n",
       " 34: 2,\n",
       " 35: 3,\n",
       " 36: 0,\n",
       " 37: 1,\n",
       " 38: 2,\n",
       " 39: 3,\n",
       " 40: 0,\n",
       " 41: 1,\n",
       " 42: 2,\n",
       " 43: 3,\n",
       " 44: 0,\n",
       " 45: 1,\n",
       " 46: 2,\n",
       " 47: 3,\n",
       " 48: 0,\n",
       " 49: 1,\n",
       " 50: 2,\n",
       " 51: 3,\n",
       " 52: 0,\n",
       " 53: 1,\n",
       " 54: 2,\n",
       " 55: 3,\n",
       " 56: 0,\n",
       " 57: 1,\n",
       " 58: 2,\n",
       " 59: 3,\n",
       " 60: 0,\n",
       " 61: 1,\n",
       " 62: 2,\n",
       " 63: 3}"
      ]
     },
     "execution_count": 12,
     "metadata": {},
     "output_type": "execute_result"
    }
   ],
   "source": [
    "O2 = dict([(s, s% NumOfOutcome) for s in range(NumScen)])\n",
    "O2"
   ]
  },
  {
   "cell_type": "code",
   "execution_count": 13,
   "metadata": {},
   "outputs": [],
   "source": [
    "prob = LpProblem(\"Financial Planning\", LpMaximize)\n",
    "prob += lpSum(float(1)/NumScen * (q * y[s] + r * z[s]) for s in range(NumScen)) "
   ]
  },
  {
   "cell_type": "code",
   "execution_count": 14,
   "metadata": {},
   "outputs": [],
   "source": [
    "prob += lpSum(x[0,i] for i in invest) == b"
   ]
  },
  {
   "cell_type": "code",
   "execution_count": 31,
   "metadata": {},
   "outputs": [
    {
     "name": "stdout",
     "output_type": "stream",
     "text": [
      "-1.05*x_(0,_'bond') - 1.25*x_(0,_'stock') + x_(1,_'bond') + x_(1,_'stock') = -0.0\n",
      "-1.05*x_(0,_'bond') - 1.1*x_(0,_'stock') + x_(2,_'bond') + x_(2,_'stock') = -0.0\n",
      "-1.06*x_(0,_'bond') - x_(0,_'stock') + x_(3,_'bond') + x_(3,_'stock') = -0.0\n",
      "-1.08*x_(0,_'bond') - 0.95*x_(0,_'stock') + x_(4,_'bond') + x_(4,_'stock') = -0.0\n",
      "-1.05*x_(1,_'bond') - 1.25*x_(1,_'stock') + x_(5,_'bond') + x_(5,_'stock') = -0.0\n",
      "-1.05*x_(1,_'bond') - 1.1*x_(1,_'stock') + x_(6,_'bond') + x_(6,_'stock') = -0.0\n",
      "-1.06*x_(1,_'bond') - x_(1,_'stock') + x_(7,_'bond') + x_(7,_'stock') = -0.0\n",
      "-1.08*x_(1,_'bond') - 0.95*x_(1,_'stock') + x_(8,_'bond') + x_(8,_'stock') = -0.0\n",
      "-1.05*x_(2,_'bond') - 1.25*x_(2,_'stock') + x_(9,_'bond') + x_(9,_'stock') = -0.0\n",
      "x_(10,_'bond') + x_(10,_'stock') - 1.05*x_(2,_'bond') - 1.1*x_(2,_'stock') = -0.0\n",
      "x_(11,_'bond') + x_(11,_'stock') - 1.06*x_(2,_'bond') - x_(2,_'stock') = -0.0\n",
      "x_(12,_'bond') + x_(12,_'stock') - 1.08*x_(2,_'bond') - 0.95*x_(2,_'stock') = -0.0\n",
      "x_(13,_'bond') + x_(13,_'stock') - 1.05*x_(3,_'bond') - 1.25*x_(3,_'stock') = -0.0\n",
      "x_(14,_'bond') + x_(14,_'stock') - 1.05*x_(3,_'bond') - 1.1*x_(3,_'stock') = -0.0\n",
      "x_(15,_'bond') + x_(15,_'stock') - 1.06*x_(3,_'bond') - x_(3,_'stock') = -0.0\n",
      "x_(16,_'bond') + x_(16,_'stock') - 1.08*x_(3,_'bond') - 0.95*x_(3,_'stock') = -0.0\n",
      "x_(17,_'bond') + x_(17,_'stock') - 1.05*x_(4,_'bond') - 1.25*x_(4,_'stock') = -0.0\n",
      "x_(18,_'bond') + x_(18,_'stock') - 1.05*x_(4,_'bond') - 1.1*x_(4,_'stock') = -0.0\n",
      "x_(19,_'bond') + x_(19,_'stock') - 1.06*x_(4,_'bond') - x_(4,_'stock') = -0.0\n",
      "x_(20,_'bond') + x_(20,_'stock') - 1.08*x_(4,_'bond') - 0.95*x_(4,_'stock') = -0.0\n"
     ]
    }
   ],
   "source": [
    "for k in range(1, NumNodes):\n",
    "    prob += (lpSum(x[k,i] for i in invest) == lpSum(ret[O[k]][i] * x[A[k],i] for i in invest)) \n",
    "    print((lpSum(x[k,i] for i in invest) == lpSum(ret[O[k]][i] * x[A[k],i] for i in invest)) )"
   ]
  },
  {
   "cell_type": "code",
   "execution_count": 32,
   "metadata": {},
   "outputs": [
    {
     "name": "stdout",
     "output_type": "stream",
     "text": [
      "1.05*x_(5,_'bond') + 1.25*x_(5,_'stock') - y_0 + z_0 = 15000.0\n",
      "1.05*x_(5,_'bond') + 1.1*x_(5,_'stock') - y_1 + z_1 = 15000.0\n",
      "1.06*x_(5,_'bond') + x_(5,_'stock') - y_2 + z_2 = 15000.0\n",
      "1.08*x_(5,_'bond') + 0.95*x_(5,_'stock') - y_3 + z_3 = 15000.0\n",
      "1.05*x_(6,_'bond') + 1.25*x_(6,_'stock') - y_4 + z_4 = 15000.0\n",
      "1.05*x_(6,_'bond') + 1.1*x_(6,_'stock') - y_5 + z_5 = 15000.0\n",
      "1.06*x_(6,_'bond') + x_(6,_'stock') - y_6 + z_6 = 15000.0\n",
      "1.08*x_(6,_'bond') + 0.95*x_(6,_'stock') - y_7 + z_7 = 15000.0\n",
      "1.05*x_(7,_'bond') + 1.25*x_(7,_'stock') - y_8 + z_8 = 15000.0\n",
      "1.05*x_(7,_'bond') + 1.1*x_(7,_'stock') - y_9 + z_9 = 15000.0\n",
      "1.06*x_(7,_'bond') + x_(7,_'stock') - y_10 + z_10 = 15000.0\n",
      "1.08*x_(7,_'bond') + 0.95*x_(7,_'stock') - y_11 + z_11 = 15000.0\n",
      "1.05*x_(8,_'bond') + 1.25*x_(8,_'stock') - y_12 + z_12 = 15000.0\n",
      "1.05*x_(8,_'bond') + 1.1*x_(8,_'stock') - y_13 + z_13 = 15000.0\n",
      "1.06*x_(8,_'bond') + x_(8,_'stock') - y_14 + z_14 = 15000.0\n",
      "1.08*x_(8,_'bond') + 0.95*x_(8,_'stock') - y_15 + z_15 = 15000.0\n",
      "1.05*x_(9,_'bond') + 1.25*x_(9,_'stock') - y_16 + z_16 = 15000.0\n",
      "1.05*x_(9,_'bond') + 1.1*x_(9,_'stock') - y_17 + z_17 = 15000.0\n",
      "1.06*x_(9,_'bond') + x_(9,_'stock') - y_18 + z_18 = 15000.0\n",
      "1.08*x_(9,_'bond') + 0.95*x_(9,_'stock') - y_19 + z_19 = 15000.0\n",
      "1.05*x_(10,_'bond') + 1.25*x_(10,_'stock') - y_20 + z_20 = 15000.0\n",
      "1.05*x_(10,_'bond') + 1.1*x_(10,_'stock') - y_21 + z_21 = 15000.0\n",
      "1.06*x_(10,_'bond') + x_(10,_'stock') - y_22 + z_22 = 15000.0\n",
      "1.08*x_(10,_'bond') + 0.95*x_(10,_'stock') - y_23 + z_23 = 15000.0\n",
      "1.05*x_(11,_'bond') + 1.25*x_(11,_'stock') - y_24 + z_24 = 15000.0\n",
      "1.05*x_(11,_'bond') + 1.1*x_(11,_'stock') - y_25 + z_25 = 15000.0\n",
      "1.06*x_(11,_'bond') + x_(11,_'stock') - y_26 + z_26 = 15000.0\n",
      "1.08*x_(11,_'bond') + 0.95*x_(11,_'stock') - y_27 + z_27 = 15000.0\n",
      "1.05*x_(12,_'bond') + 1.25*x_(12,_'stock') - y_28 + z_28 = 15000.0\n",
      "1.05*x_(12,_'bond') + 1.1*x_(12,_'stock') - y_29 + z_29 = 15000.0\n",
      "1.06*x_(12,_'bond') + x_(12,_'stock') - y_30 + z_30 = 15000.0\n",
      "1.08*x_(12,_'bond') + 0.95*x_(12,_'stock') - y_31 + z_31 = 15000.0\n",
      "1.05*x_(13,_'bond') + 1.25*x_(13,_'stock') - y_32 + z_32 = 15000.0\n",
      "1.05*x_(13,_'bond') + 1.1*x_(13,_'stock') - y_33 + z_33 = 15000.0\n",
      "1.06*x_(13,_'bond') + x_(13,_'stock') - y_34 + z_34 = 15000.0\n",
      "1.08*x_(13,_'bond') + 0.95*x_(13,_'stock') - y_35 + z_35 = 15000.0\n",
      "1.05*x_(14,_'bond') + 1.25*x_(14,_'stock') - y_36 + z_36 = 15000.0\n",
      "1.05*x_(14,_'bond') + 1.1*x_(14,_'stock') - y_37 + z_37 = 15000.0\n",
      "1.06*x_(14,_'bond') + x_(14,_'stock') - y_38 + z_38 = 15000.0\n",
      "1.08*x_(14,_'bond') + 0.95*x_(14,_'stock') - y_39 + z_39 = 15000.0\n",
      "1.05*x_(15,_'bond') + 1.25*x_(15,_'stock') - y_40 + z_40 = 15000.0\n",
      "1.05*x_(15,_'bond') + 1.1*x_(15,_'stock') - y_41 + z_41 = 15000.0\n",
      "1.06*x_(15,_'bond') + x_(15,_'stock') - y_42 + z_42 = 15000.0\n",
      "1.08*x_(15,_'bond') + 0.95*x_(15,_'stock') - y_43 + z_43 = 15000.0\n",
      "1.05*x_(16,_'bond') + 1.25*x_(16,_'stock') - y_44 + z_44 = 15000.0\n",
      "1.05*x_(16,_'bond') + 1.1*x_(16,_'stock') - y_45 + z_45 = 15000.0\n",
      "1.06*x_(16,_'bond') + x_(16,_'stock') - y_46 + z_46 = 15000.0\n",
      "1.08*x_(16,_'bond') + 0.95*x_(16,_'stock') - y_47 + z_47 = 15000.0\n",
      "1.05*x_(17,_'bond') + 1.25*x_(17,_'stock') - y_48 + z_48 = 15000.0\n",
      "1.05*x_(17,_'bond') + 1.1*x_(17,_'stock') - y_49 + z_49 = 15000.0\n",
      "1.06*x_(17,_'bond') + x_(17,_'stock') - y_50 + z_50 = 15000.0\n",
      "1.08*x_(17,_'bond') + 0.95*x_(17,_'stock') - y_51 + z_51 = 15000.0\n",
      "1.05*x_(18,_'bond') + 1.25*x_(18,_'stock') - y_52 + z_52 = 15000.0\n",
      "1.05*x_(18,_'bond') + 1.1*x_(18,_'stock') - y_53 + z_53 = 15000.0\n",
      "1.06*x_(18,_'bond') + x_(18,_'stock') - y_54 + z_54 = 15000.0\n",
      "1.08*x_(18,_'bond') + 0.95*x_(18,_'stock') - y_55 + z_55 = 15000.0\n",
      "1.05*x_(19,_'bond') + 1.25*x_(19,_'stock') - y_56 + z_56 = 15000.0\n",
      "1.05*x_(19,_'bond') + 1.1*x_(19,_'stock') - y_57 + z_57 = 15000.0\n",
      "1.06*x_(19,_'bond') + x_(19,_'stock') - y_58 + z_58 = 15000.0\n",
      "1.08*x_(19,_'bond') + 0.95*x_(19,_'stock') - y_59 + z_59 = 15000.0\n",
      "1.05*x_(20,_'bond') + 1.25*x_(20,_'stock') - y_60 + z_60 = 15000.0\n",
      "1.05*x_(20,_'bond') + 1.1*x_(20,_'stock') - y_61 + z_61 = 15000.0\n",
      "1.06*x_(20,_'bond') + x_(20,_'stock') - y_62 + z_62 = 15000.0\n",
      "1.08*x_(20,_'bond') + 0.95*x_(20,_'stock') - y_63 + z_63 = 15000.0\n"
     ]
    }
   ],
   "source": [
    "for s in range(NumScen): \n",
    "    prob += lpSum(ret[O2[s]][i] * x[A2[s],i] for i in invest) - y[s] + z[s] == G\n",
    "    print(lpSum(ret[O2[s]][i] * x[A2[s],i] for i in invest) - y[s] + z[s] == G)\n"
   ]
  },
  {
   "cell_type": "code",
   "execution_count": 40,
   "metadata": {},
   "outputs": [],
   "source": [
    "prob.writeLP(\"Financial_planning.lp\")\n",
    "status = prob.solve()"
   ]
  },
  {
   "cell_type": "code",
   "execution_count": 41,
   "metadata": {},
   "outputs": [
    {
     "name": "stdout",
     "output_type": "stream",
     "text": [
      "Status: Unbounded\n"
     ]
    }
   ],
   "source": [
    "print (\"Status:\", LpStatus[prob.status])"
   ]
  },
  {
   "cell_type": "code",
   "execution_count": null,
   "metadata": {},
   "outputs": [],
   "source": []
  }
 ],
 "metadata": {
  "kernelspec": {
   "display_name": "Python 3",
   "language": "python",
   "name": "python3"
  },
  "language_info": {
   "codemirror_mode": {
    "name": "ipython",
    "version": 3
   },
   "file_extension": ".py",
   "mimetype": "text/x-python",
   "name": "python",
   "nbconvert_exporter": "python",
   "pygments_lexer": "ipython3",
   "version": "3.7.4"
  }
 },
 "nbformat": 4,
 "nbformat_minor": 2
}
