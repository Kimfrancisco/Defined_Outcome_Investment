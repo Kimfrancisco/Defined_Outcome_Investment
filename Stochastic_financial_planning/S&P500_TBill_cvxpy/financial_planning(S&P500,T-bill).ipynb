{
 "cells": [
  {
   "cell_type": "code",
   "execution_count": 1,
   "metadata": {},
   "outputs": [],
   "source": [
    "import pandas as pd\n",
    "import numpy as np\n",
    "import matplotlib.pyplot as plt\n",
    "import os \n",
    "\n",
    "currentPath = os.getcwd()\n",
    "os.chdir('/Users/kimfr/OneDrive - unist.ac.kr/Optimization')"
   ]
  },
  {
   "cell_type": "code",
   "execution_count": 2,
   "metadata": {},
   "outputs": [],
   "source": [
    "GSPC = pd.read_csv('^GSPC.csv')\n",
    "TNX = pd.read_csv('^TNX.csv')"
   ]
  },
  {
   "cell_type": "code",
   "execution_count": 3,
   "metadata": {},
   "outputs": [
    {
     "data": {
      "text/plain": [
       "0           NaN\n",
       "1      0.010502\n",
       "2     -0.006337\n",
       "3      0.005585\n",
       "4      0.006240\n",
       "         ...   \n",
       "247    0.004064\n",
       "248    0.005566\n",
       "249   -0.000833\n",
       "250    0.003248\n",
       "251   -0.003027\n",
       "Name: Adj Close, Length: 252, dtype: float64"
      ]
     },
     "execution_count": 3,
     "metadata": {},
     "output_type": "execute_result"
    }
   ],
   "source": [
    "GSPC_logret = np.log(GSPC['Adj Close']/GSPC['Adj Close'].shift(1))\n",
    "GSPC_logret"
   ]
  },
  {
   "cell_type": "code",
   "execution_count": 4,
   "metadata": {},
   "outputs": [
    {
     "data": {
      "text/html": [
       "<div>\n",
       "<style scoped>\n",
       "    .dataframe tbody tr th:only-of-type {\n",
       "        vertical-align: middle;\n",
       "    }\n",
       "\n",
       "    .dataframe tbody tr th {\n",
       "        vertical-align: top;\n",
       "    }\n",
       "\n",
       "    .dataframe thead th {\n",
       "        text-align: right;\n",
       "    }\n",
       "</style>\n",
       "<table border=\"1\" class=\"dataframe\">\n",
       "  <thead>\n",
       "    <tr style=\"text-align: right;\">\n",
       "      <th></th>\n",
       "      <th>stock</th>\n",
       "      <th>bond</th>\n",
       "    </tr>\n",
       "  </thead>\n",
       "  <tbody>\n",
       "    <tr>\n",
       "      <td>0</td>\n",
       "      <td>0.000000</td>\n",
       "      <td>0.000000</td>\n",
       "    </tr>\n",
       "    <tr>\n",
       "      <td>1</td>\n",
       "      <td>0.010502</td>\n",
       "      <td>0.000128</td>\n",
       "    </tr>\n",
       "    <tr>\n",
       "      <td>2</td>\n",
       "      <td>-0.006337</td>\n",
       "      <td>0.000128</td>\n",
       "    </tr>\n",
       "    <tr>\n",
       "      <td>3</td>\n",
       "      <td>0.005585</td>\n",
       "      <td>0.000128</td>\n",
       "    </tr>\n",
       "    <tr>\n",
       "      <td>4</td>\n",
       "      <td>0.006240</td>\n",
       "      <td>0.000128</td>\n",
       "    </tr>\n",
       "    <tr>\n",
       "      <td>...</td>\n",
       "      <td>...</td>\n",
       "      <td>...</td>\n",
       "    </tr>\n",
       "    <tr>\n",
       "      <td>247</td>\n",
       "      <td>0.004064</td>\n",
       "      <td>0.000074</td>\n",
       "    </tr>\n",
       "    <tr>\n",
       "      <td>248</td>\n",
       "      <td>0.005566</td>\n",
       "      <td>0.000073</td>\n",
       "    </tr>\n",
       "    <tr>\n",
       "      <td>249</td>\n",
       "      <td>-0.000833</td>\n",
       "      <td>0.000072</td>\n",
       "    </tr>\n",
       "    <tr>\n",
       "      <td>250</td>\n",
       "      <td>0.003248</td>\n",
       "      <td>0.000067</td>\n",
       "    </tr>\n",
       "    <tr>\n",
       "      <td>251</td>\n",
       "      <td>-0.003027</td>\n",
       "      <td>NaN</td>\n",
       "    </tr>\n",
       "  </tbody>\n",
       "</table>\n",
       "<p>252 rows × 2 columns</p>\n",
       "</div>"
      ],
      "text/plain": [
       "        stock      bond\n",
       "0    0.000000  0.000000\n",
       "1    0.010502  0.000128\n",
       "2   -0.006337  0.000128\n",
       "3    0.005585  0.000128\n",
       "4    0.006240  0.000128\n",
       "..        ...       ...\n",
       "247  0.004064  0.000074\n",
       "248  0.005566  0.000073\n",
       "249 -0.000833  0.000072\n",
       "250  0.003248  0.000067\n",
       "251 -0.003027       NaN\n",
       "\n",
       "[252 rows x 2 columns]"
      ]
     },
     "execution_count": 4,
     "metadata": {},
     "output_type": "execute_result"
    }
   ],
   "source": [
    "df_logret = pd.DataFrame({'stock' : GSPC_logret, 'bond' : TNX['Adj Close']/100/251})\n",
    "df_logret.loc[0,('stock','bond')] = 0.0\n",
    "df_logret"
   ]
  },
  {
   "cell_type": "code",
   "execution_count": 5,
   "metadata": {},
   "outputs": [
    {
     "name": "stdout",
     "output_type": "stream",
     "text": [
      "[0.11346409 0.02316323]\n",
      "[[ 2.46375503e-02 -5.31339269e-07]\n",
      " [-5.31339269e-07  1.00292976e-07]]\n"
     ]
    }
   ],
   "source": [
    "mu= df_logret.mean() * 252\n",
    "mu = mu.values.T\n",
    "sigma = df_logret.cov()*252\n",
    "sigma = sigma.values\n",
    "print(mu)\n",
    "print(sigma)"
   ]
  },
  {
   "cell_type": "code",
   "execution_count": 16,
   "metadata": {},
   "outputs": [],
   "source": [
    "num_samples = 5000\n",
    "bond, stock = np.random.multivariate_normal(mu,sigma,num_samples).T"
   ]
  },
  {
   "cell_type": "code",
   "execution_count": 17,
   "metadata": {},
   "outputs": [
    {
     "data": {
      "text/plain": [
       "<matplotlib.collections.PathCollection at 0x27c4f38c588>"
      ]
     },
     "execution_count": 17,
     "metadata": {},
     "output_type": "execute_result"
    },
    {
     "data": {
      "image/png": "[encoded data removed]",
      "text/plain": [
       "<Figure size 432x288 with 1 Axes>"
      ]
     },
     "metadata": {
      "needs_background": "light"
     },
     "output_type": "display_data"
    }
   ],
   "source": [
    "plt.scatter(bond,stock)"
   ]
  },
  {
   "cell_type": "code",
   "execution_count": 18,
   "metadata": {},
   "outputs": [],
   "source": [
    "from sklearn.cluster import KMeans\n",
    "\n",
    "num_clusters = 10\n",
    "kmeans = KMeans(n_clusters = num_clusters).fit(np.transpose([bond,stock]))"
   ]
  },
  {
   "cell_type": "code",
   "execution_count": 19,
   "metadata": {},
   "outputs": [
    {
     "data": {
      "text/plain": [
       "<matplotlib.collections.PathCollection at 0x27c5254a0c8>"
      ]
     },
     "execution_count": 19,
     "metadata": {},
     "output_type": "execute_result"
    },
    {
     "data": {
      "image/png": "[encoded data removed]",
      "text/plain": [
       "<Figure size 432x288 with 1 Axes>"
      ]
     },
     "metadata": {
      "needs_background": "light"
     },
     "output_type": "display_data"
    }
   ],
   "source": [
    "plt.scatter(bond, stock, c=kmeans.labels_)\n",
    "plt.scatter(kmeans.cluster_centers_[:,0], kmeans.cluster_centers_[:,1], s=100, \n",
    "           color = 'white', edgecolor ='black', linewidth=3)"
   ]
  },
  {
   "cell_type": "code",
   "execution_count": 24,
   "metadata": {},
   "outputs": [
    {
     "name": "stdout",
     "output_type": "stream",
     "text": [
      "Scenario probabilities\n",
      "\n",
      "cluster 0: 15.82%\n",
      "cluster 1: 10.98%\n",
      "cluster 2:  7.08%\n",
      "cluster 3: 15.38%\n",
      "cluster 4:  5.66%\n",
      "cluster 5: 10.94%\n",
      "cluster 6:  2.76%\n",
      "cluster 7: 14.16%\n",
      "cluster 8: 15.06%\n",
      "cluster 9:  2.16%\n"
     ]
    }
   ],
   "source": [
    "print(\"Scenario probabilities\\n\")\n",
    "p=np.zeros(num_clusters)\n",
    "for i in range(num_clusters):\n",
    "    p[i] = np.count_nonzero(kmeans.labels_== i)/num_samples\n",
    "    print(\"cluster \" +str(i)+\": {:6.2%}\".format(p[i],1))"
   ]
  },
  {
   "cell_type": "code",
   "execution_count": 26,
   "metadata": {},
   "outputs": [
    {
     "data": {
      "text/plain": [
       "array([[1.08616163, 1.02316252],\n",
       "       [1.29222017, 1.02317465],\n",
       "       [0.86881376, 1.0231718 ],\n",
       "       [1.15031797, 1.02314983],\n",
       "       [1.37627266, 1.02318316],\n",
       "       [0.94960571, 1.02316941],\n",
       "       [0.75063527, 1.02314826],\n",
       "       [1.21896972, 1.023163  ],\n",
       "       [1.02071676, 1.02318338],\n",
       "       [1.48214045, 1.02316295]])"
      ]
     },
     "execution_count": 26,
     "metadata": {},
     "output_type": "execute_result"
    }
   ],
   "source": [
    "scenarios = 1 + kmeans.cluster_centers_\n",
    "scenarios"
   ]
  },
  {
   "cell_type": "code",
   "execution_count": 28,
   "metadata": {},
   "outputs": [],
   "source": [
    "import cvxpy as cp\n",
    "\n",
    "x_0 = cp.Variable(2)\n",
    "y = cp.Variable(num_clusters)\n",
    "w = cp.Variable(num_clusters)\n",
    "q=1 ;r=4\n",
    "initial_amount = 100\n",
    "goal_amount = 104"
   ]
  },
  {
   "cell_type": "code",
   "execution_count": 32,
   "metadata": {},
   "outputs": [],
   "source": [
    "goal= cp.Maximize(p.T * (q*y - r*w))\n",
    "prob= cp.Problem(goal,[sum(x_0) == initial_amount, scenarios * x_0 - y + w \n",
    "                      ==goal_amount * np.ones(num_clusters),x_0>=0, y>=0, w>=0])"
   ]
  },
  {
   "cell_type": "code",
   "execution_count": 33,
   "metadata": {},
   "outputs": [
    {
     "data": {
      "text/plain": [
       "-2.5709747428815466"
      ]
     },
     "execution_count": 33,
     "metadata": {},
     "output_type": "execute_result"
    }
   ],
   "source": [
    "prob.solve(solver = cp.ECOS)"
   ]
  },
  {
   "cell_type": "code",
   "execution_count": 34,
   "metadata": {},
   "outputs": [
    {
     "name": "stdout",
     "output_type": "stream",
     "text": [
      "optimal allocation: 100.00, 0.00\n",
      "expected return: 11.30%\n"
     ]
    }
   ],
   "source": [
    "print(\"optimal allocation: \" +  \"{:2.2f}\".format(x_0.value[0]) + \", \" \n",
    "     + \"{:2.2f}\".format(x_0.value[1]))\n",
    "print(\"expected return: \"+\"{:.2%}\".format((goal_amount + np.dot(p, y.value-w.value))/initial_amount-1,1))"
   ]
  },
  {
   "cell_type": "code",
   "execution_count": 38,
   "metadata": {},
   "outputs": [
    {
     "data": {
      "text/plain": [
       "Text(0, 0.5, 'final wealth')"
      ]
     },
     "execution_count": 38,
     "metadata": {},
     "output_type": "execute_result"
    },
    {
     "data": {
      "image/png": "[encoded data removed]",
      "text/plain": [
       "<Figure size 432x288 with 1 Axes>"
      ]
     },
     "metadata": {
      "needs_background": "light"
     },
     "output_type": "display_data"
    }
   ],
   "source": [
    "fig, ax = plt.subplots(1,1)\n",
    "ax.bar(range(num_clusters), np.round(goal_amount+y.value,2),color='green',width=0.95)\n",
    "ax.bar(range(num_clusters), goal_amount, color='red', width =0.95)\n",
    "ax.bar(range(num_clusters), np.round(goal_amount-w.value,2),color ='grey',width =0.95)\n",
    "ax.set_xlabel('scenarios')\n",
    "ax.set_ylabel('final wealth')"
   ]
  },
  {
   "cell_type": "code",
   "execution_count": null,
   "metadata": {},
   "outputs": [],
   "source": []
  }
 ],
 "metadata": {
  "kernelspec": {
   "display_name": "Python 3",
   "language": "python",
   "name": "python3"
  },
  "language_info": {
   "codemirror_mode": {
    "name": "ipython",
    "version": 3
   },
   "file_extension": ".py",
   "mimetype": "text/x-python",
   "name": "python",
   "nbconvert_exporter": "python",
   "pygments_lexer": "ipython3",
   "version": "3.7.4"
  }
 },
 "nbformat": 4,
 "nbformat_minor": 2
}
