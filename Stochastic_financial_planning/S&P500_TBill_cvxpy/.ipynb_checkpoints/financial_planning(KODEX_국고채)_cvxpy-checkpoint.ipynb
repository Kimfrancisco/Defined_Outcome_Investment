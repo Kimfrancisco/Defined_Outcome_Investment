{
 "cells": [
  {
   "cell_type": "code",
   "execution_count": 1,
   "metadata": {},
   "outputs": [],
   "source": [
    "import pandas as pd\n",
    "import numpy as np\n",
    "import matplotlib.pyplot as plt\n",
    "import os \n",
    "\n",
    "currentPath = os.getcwd()\n",
    "os.chdir('/Users/kimfr/OneDrive - unist.ac.kr/Optimization/Stochastic_financial_planning/Mark_port_cvxpy/data')"
   ]
  },
  {
   "cell_type": "code",
   "execution_count": 2,
   "metadata": {},
   "outputs": [],
   "source": [
    "stock =pd.read_csv('KODEX_30.csv')\n",
    "bond = pd.read_excel('국채3년.xlsx')"
   ]
  },
  {
   "cell_type": "code",
   "execution_count": 6,
   "metadata": {},
   "outputs": [
    {
     "name": "stdout",
     "output_type": "stream",
     "text": [
      "0     -0.0031\n",
      "1     -0.0128\n",
      "2     -0.0031\n",
      "3     -0.0043\n",
      "4      0.0174\n",
      "        ...  \n",
      "730    0.0082\n",
      "731   -0.0015\n",
      "732   -0.0063\n",
      "733    0.0074\n",
      "734    0.0129\n",
      "Name: KODEX30, Length: 735, dtype: float64\n",
      "0       0.02095\n",
      "1       0.02135\n",
      "2       0.02115\n",
      "3       0.02080\n",
      "4       0.02077\n",
      "         ...   \n",
      "1089    0.01570\n",
      "1090    0.01540\n",
      "1091    0.01530\n",
      "1092    0.01530\n",
      "1093    0.01532\n",
      "Name: yield, Length: 1094, dtype: float64\n"
     ]
    }
   ],
   "source": [
    "stock_ret = stock.iloc[:,1]\n",
    "bond_ret = bond.iloc[:,1]\n",
    "print(stock_ret)\n",
    "print(bond_ret)"
   ]
  },
  {
   "cell_type": "code",
   "execution_count": 7,
   "metadata": {},
   "outputs": [
    {
     "data": {
      "text/html": [
       "<div>\n",
       "<style scoped>\n",
       "    .dataframe tbody tr th:only-of-type {\n",
       "        vertical-align: middle;\n",
       "    }\n",
       "\n",
       "    .dataframe tbody tr th {\n",
       "        vertical-align: top;\n",
       "    }\n",
       "\n",
       "    .dataframe thead th {\n",
       "        text-align: right;\n",
       "    }\n",
       "</style>\n",
       "<table border=\"1\" class=\"dataframe\">\n",
       "  <thead>\n",
       "    <tr style=\"text-align: right;\">\n",
       "      <th></th>\n",
       "      <th>stock</th>\n",
       "      <th>bond</th>\n",
       "    </tr>\n",
       "  </thead>\n",
       "  <tbody>\n",
       "    <tr>\n",
       "      <td>0</td>\n",
       "      <td>0.0000</td>\n",
       "      <td>0.000000</td>\n",
       "    </tr>\n",
       "    <tr>\n",
       "      <td>1</td>\n",
       "      <td>-0.0128</td>\n",
       "      <td>0.000085</td>\n",
       "    </tr>\n",
       "    <tr>\n",
       "      <td>2</td>\n",
       "      <td>-0.0031</td>\n",
       "      <td>0.000084</td>\n",
       "    </tr>\n",
       "    <tr>\n",
       "      <td>3</td>\n",
       "      <td>-0.0043</td>\n",
       "      <td>0.000083</td>\n",
       "    </tr>\n",
       "    <tr>\n",
       "      <td>4</td>\n",
       "      <td>0.0174</td>\n",
       "      <td>0.000083</td>\n",
       "    </tr>\n",
       "    <tr>\n",
       "      <td>...</td>\n",
       "      <td>...</td>\n",
       "      <td>...</td>\n",
       "    </tr>\n",
       "    <tr>\n",
       "      <td>1089</td>\n",
       "      <td>NaN</td>\n",
       "      <td>0.000063</td>\n",
       "    </tr>\n",
       "    <tr>\n",
       "      <td>1090</td>\n",
       "      <td>NaN</td>\n",
       "      <td>0.000061</td>\n",
       "    </tr>\n",
       "    <tr>\n",
       "      <td>1091</td>\n",
       "      <td>NaN</td>\n",
       "      <td>0.000061</td>\n",
       "    </tr>\n",
       "    <tr>\n",
       "      <td>1092</td>\n",
       "      <td>NaN</td>\n",
       "      <td>0.000061</td>\n",
       "    </tr>\n",
       "    <tr>\n",
       "      <td>1093</td>\n",
       "      <td>NaN</td>\n",
       "      <td>0.000061</td>\n",
       "    </tr>\n",
       "  </tbody>\n",
       "</table>\n",
       "<p>1094 rows × 2 columns</p>\n",
       "</div>"
      ],
      "text/plain": [
       "       stock      bond\n",
       "0     0.0000  0.000000\n",
       "1    -0.0128  0.000085\n",
       "2    -0.0031  0.000084\n",
       "3    -0.0043  0.000083\n",
       "4     0.0174  0.000083\n",
       "...      ...       ...\n",
       "1089     NaN  0.000063\n",
       "1090     NaN  0.000061\n",
       "1091     NaN  0.000061\n",
       "1092     NaN  0.000061\n",
       "1093     NaN  0.000061\n",
       "\n",
       "[1094 rows x 2 columns]"
      ]
     },
     "execution_count": 7,
     "metadata": {},
     "output_type": "execute_result"
    }
   ],
   "source": [
    "df_logret = pd.DataFrame({'stock' : stock_ret, 'bond' : bond_ret/251})\n",
    "df_logret.loc[0,('stock','bond')] = 0.0\n",
    "df_logret"
   ]
  },
  {
   "cell_type": "code",
   "execution_count": 8,
   "metadata": {},
   "outputs": [
    {
     "name": "stdout",
     "output_type": "stream",
     "text": [
      "[0.03006857 0.01784106]\n",
      "[[1.73020061e-02 1.30928088e-06]\n",
      " [1.30928088e-06 2.94671635e-08]]\n"
     ]
    }
   ],
   "source": [
    "mu= df_logret.mean() * 252\n",
    "mu = mu.values.T\n",
    "sigma = df_logret.cov()*252\n",
    "sigma = sigma.values\n",
    "print(mu)\n",
    "print(sigma)"
   ]
  },
  {
   "cell_type": "code",
   "execution_count": 9,
   "metadata": {},
   "outputs": [],
   "source": [
    "num_samples = 5000\n",
    "bond, stock = np.random.multivariate_normal(mu,sigma,num_samples).T"
   ]
  },
  {
   "cell_type": "code",
   "execution_count": 10,
   "metadata": {},
   "outputs": [
    {
     "data": {
      "text/plain": [
       "<matplotlib.collections.PathCollection at 0x1c7fd647d48>"
      ]
     },
     "execution_count": 10,
     "metadata": {},
     "output_type": "execute_result"
    },
    {
     "data": {
      "image/png": "[encoded data removed]",
      "text/plain": [
       "<Figure size 432x288 with 1 Axes>"
      ]
     },
     "metadata": {
      "needs_background": "light"
     },
     "output_type": "display_data"
    }
   ],
   "source": [
    "plt.scatter(bond,stock)"
   ]
  },
  {
   "cell_type": "code",
   "execution_count": 11,
   "metadata": {},
   "outputs": [],
   "source": [
    "from sklearn.cluster import KMeans\n",
    "\n",
    "num_clusters = 10\n",
    "kmeans = KMeans(n_clusters = num_clusters).fit(np.transpose([bond,stock]))"
   ]
  },
  {
   "cell_type": "code",
   "execution_count": 12,
   "metadata": {},
   "outputs": [
    {
     "data": {
      "text/plain": [
       "<matplotlib.collections.PathCollection at 0x1c780236748>"
      ]
     },
     "execution_count": 12,
     "metadata": {},
     "output_type": "execute_result"
    },
    {
     "data": {
      "image/png": "[encoded data removed]",
      "text/plain": [
       "<Figure size 432x288 with 1 Axes>"
      ]
     },
     "metadata": {
      "needs_background": "light"
     },
     "output_type": "display_data"
    }
   ],
   "source": [
    "plt.scatter(bond, stock, c=kmeans.labels_)\n",
    "plt.scatter(kmeans.cluster_centers_[:,0], kmeans.cluster_centers_[:,1], s=100, \n",
    "           color = 'white', edgecolor ='black', linewidth=3)"
   ]
  },
  {
   "cell_type": "code",
   "execution_count": 13,
   "metadata": {},
   "outputs": [
    {
     "name": "stdout",
     "output_type": "stream",
     "text": [
      "Scenario probabilities\n",
      "\n",
      "cluster 0: 10.42%\n",
      "cluster 1: 14.66%\n",
      "cluster 2:  6.52%\n",
      "cluster 3: 16.00%\n",
      "cluster 4:  2.22%\n",
      "cluster 5: 16.32%\n",
      "cluster 6: 10.86%\n",
      "cluster 7: 14.22%\n",
      "cluster 8:  2.08%\n",
      "cluster 9:  6.70%\n"
     ]
    }
   ],
   "source": [
    "print(\"Scenario probabilities\\n\")\n",
    "p=np.zeros(num_clusters)\n",
    "for i in range(num_clusters):\n",
    "    p[i] = np.count_nonzero(kmeans.labels_== i)/num_samples\n",
    "    print(\"cluster \" +str(i)+\": {:6.2%}\".format(p[i],1))"
   ]
  },
  {
   "cell_type": "code",
   "execution_count": 14,
   "metadata": {},
   "outputs": [
    {
     "data": {
      "text/plain": [
       "array([[1.17250612, 1.01785179],\n",
       "       [0.94699728, 1.01782716],\n",
       "       [0.81396145, 1.01783064],\n",
       "       [1.05796652, 1.01783242],\n",
       "       [1.33968164, 1.01786003],\n",
       "       [1.00281487, 1.01783921],\n",
       "       [0.88575963, 1.01783165],\n",
       "       [1.11127968, 1.01784662],\n",
       "       [0.71077767, 1.01781711],\n",
       "       [1.24471874, 1.0178651 ]])"
      ]
     },
     "execution_count": 14,
     "metadata": {},
     "output_type": "execute_result"
    }
   ],
   "source": [
    "scenarios = 1 + kmeans.cluster_centers_\n",
    "scenarios"
   ]
  },
  {
   "cell_type": "code",
   "execution_count": 20,
   "metadata": {},
   "outputs": [],
   "source": [
    "import cvxpy as cp\n",
    "\n",
    "x_0 = cp.Variable(2)\n",
    "y = cp.Variable(num_clusters)\n",
    "w = cp.Variable(num_clusters)\n",
    "q=1 ;r=10\n",
    "initial_amount = 100\n",
    "goal_amount = 104"
   ]
  },
  {
   "cell_type": "code",
   "execution_count": 21,
   "metadata": {},
   "outputs": [],
   "source": [
    "goal= cp.Maximize(p.T * (q*y - r*w))\n",
    "prob= cp.Problem(goal,[sum(x_0) == initial_amount, scenarios * x_0 - y + w \n",
    "                      ==goal_amount * np.ones(num_clusters),x_0>=0, y>=0, w>=0])"
   ]
  },
  {
   "cell_type": "code",
   "execution_count": 22,
   "metadata": {},
   "outputs": [
    {
     "data": {
      "text/plain": [
       "-21.2425118190097"
      ]
     },
     "execution_count": 22,
     "metadata": {},
     "output_type": "execute_result"
    }
   ],
   "source": [
    "prob.solve(solver = cp.ECOS)"
   ]
  },
  {
   "cell_type": "code",
   "execution_count": 23,
   "metadata": {},
   "outputs": [
    {
     "name": "stdout",
     "output_type": "stream",
     "text": [
      "optimal allocation: 9.76, 90.24\n",
      "expected return: 1.89%\n"
     ]
    }
   ],
   "source": [
    "print(\"optimal allocation: \" +  \"{:2.2f}\".format(x_0.value[0]) + \", \" \n",
    "     + \"{:2.2f}\".format(x_0.value[1]))\n",
    "print(\"expected return: \"+\"{:.2%}\".format((goal_amount + np.dot(p, y.value-w.value))/initial_amount-1,1))"
   ]
  },
  {
   "cell_type": "code",
   "execution_count": 24,
   "metadata": {},
   "outputs": [
    {
     "data": {
      "text/plain": [
       "Text(0, 0.5, 'final wealth')"
      ]
     },
     "execution_count": 24,
     "metadata": {},
     "output_type": "execute_result"
    },
    {
     "data": {
      "image/png": "[encoded data removed]",
      "text/plain": [
       "<Figure size 432x288 with 1 Axes>"
      ]
     },
     "metadata": {
      "needs_background": "light"
     },
     "output_type": "display_data"
    }
   ],
   "source": [
    "fig, ax = plt.subplots(1,1)\n",
    "ax.bar(range(num_clusters), np.round(goal_amount+y.value,2),color='green',width=0.95)\n",
    "ax.bar(range(num_clusters), goal_amount, color='red', width =0.95)\n",
    "ax.bar(range(num_clusters), np.round(goal_amount-w.value,2),color ='grey',width =0.95)\n",
    "ax.set_xlabel('scenarios')\n",
    "ax.set_ylabel('final wealth')"
   ]
  },
  {
   "cell_type": "code",
   "execution_count": null,
   "metadata": {},
   "outputs": [],
   "source": []
  },
  {
   "cell_type": "code",
   "execution_count": null,
   "metadata": {},
   "outputs": [],
   "source": []
  }
 ],
 "metadata": {
  "kernelspec": {
   "display_name": "Python 3",
   "language": "python",
   "name": "python3"
  },
  "language_info": {
   "codemirror_mode": {
    "name": "ipython",
    "version": 3
   },
   "file_extension": ".py",
   "mimetype": "text/x-python",
   "name": "python",
   "nbconvert_exporter": "python",
   "pygments_lexer": "ipython3",
   "version": "3.7.4"
  }
 },
 "nbformat": 4,
 "nbformat_minor": 2
}
