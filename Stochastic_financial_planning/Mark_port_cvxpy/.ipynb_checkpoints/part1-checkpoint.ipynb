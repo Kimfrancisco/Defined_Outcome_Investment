{
 "cells": [
  {
   "cell_type": "code",
   "execution_count": 17,
   "metadata": {},
   "outputs": [],
   "source": [
    "import pandas as pd\n",
    "import pandas_datareader.data as web\n",
    "import datetime\n",
    "import matplotlib.pyplot as plt\n",
    "import numpy as np"
   ]
  },
  {
   "cell_type": "code",
   "execution_count": 18,
   "metadata": {},
   "outputs": [],
   "source": [
    "import os\n",
    "currentPath = os.getcwd()\n",
    "os.chdir('/Users/kimfr/OneDrive - unist.ac.kr/2019-fall/OR1/groupwork/data')"
   ]
  },
  {
   "cell_type": "code",
   "execution_count": 19,
   "metadata": {},
   "outputs": [
    {
     "data": {
      "text/plain": [
       "'316140.KS'"
      ]
     },
     "execution_count": 19,
     "metadata": {},
     "output_type": "execute_result"
    }
   ],
   "source": [
    "index =  pd.read_excel('kospi200_index.xlsx')\n",
    "index.iloc[0,0]"
   ]
  },
  {
   "cell_type": "code",
   "execution_count": 20,
   "metadata": {},
   "outputs": [],
   "source": [
    "start = datetime.datetime(2018,11,1)\n",
    "end   = datetime.datetime(2019,11,1)\n",
    "## stock = pd.DataFrame(0,index=pd.date_range(start, end), columns =index.iloc[:,0])\n",
    "## datarange 사용시 결측값이 많이 관찰"
   ]
  },
  {
   "cell_type": "code",
   "execution_count": 21,
   "metadata": {},
   "outputs": [
    {
     "name": "stdout",
     "output_type": "stream",
     "text": [
      "2018-11-01 00:00:00\n",
      "2019-11-01 00:00:00\n"
     ]
    }
   ],
   "source": [
    "print(start)\n",
    "print(end)"
   ]
  },
  {
   "cell_type": "code",
   "execution_count": 22,
   "metadata": {},
   "outputs": [],
   "source": [
    "stock = pd.DataFrame(columns =index.iloc[:,0])\n",
    "# pd.date_range(start, end)\n",
    "#stock is empty dataset"
   ]
  },
  {
   "cell_type": "code",
   "execution_count": null,
   "metadata": {},
   "outputs": [],
   "source": [
    "for i in range(0,199):\n",
    "    stock.iloc[:,i] = web.DataReader(index.iloc[i,0], 'yahoo',start,end).iloc[:,5]"
   ]
  },
  {
   "cell_type": "code",
   "execution_count": 7,
   "metadata": {},
   "outputs": [],
   "source": [
    "stock.to_excel(\"stock_20181101_20191101.xlsx\")"
   ]
  },
  {
   "cell_type": "code",
   "execution_count": 23,
   "metadata": {},
   "outputs": [],
   "source": [
    "import matplotlib.pyplot as plt\n",
    "from pandas.plotting import scatter_matrix"
   ]
  },
  {
   "cell_type": "code",
   "execution_count": 24,
   "metadata": {},
   "outputs": [],
   "source": [
    "stock = pd.read_excel(\"stock_20181101_20191101_re.xlsx\")\n",
    "index = pd.read_excel(\"kospi200_index.xlsx\")"
   ]
  },
  {
   "cell_type": "code",
   "execution_count": 25,
   "metadata": {},
   "outputs": [],
   "source": [
    "#convert daily stock prices into daily returns\n",
    "for i in range(1,200):\n",
    "    stock.iloc[:,i] = stock.iloc[:,i].pct_change()\n",
    "\n",
    "#calculate mean daily return and covariance of daily returns\n",
    "mean_daily_returns = stock.mean()\n",
    "cov_matrix = stock.cov()\n",
    "\n",
    "#set number of runs of random portfolio weights\n",
    "num_portfolios = 25000"
   ]
  },
  {
   "cell_type": "code",
   "execution_count": 26,
   "metadata": {},
   "outputs": [
    {
     "data": {
      "text/plain": [
       "298040.KS   -0.001948\n",
       "294870.KS   -0.001615\n",
       "018250.KS   -0.002441\n",
       "068270.KS   -0.000185\n",
       "285130.KS   -0.001144\n",
       "               ...   \n",
       "000070.KS    0.045024\n",
       "000240.KS   -0.001179\n",
       "003490.KS   -0.000458\n",
       "000100.KS    0.002202\n",
       "000120.KS    0.000200\n",
       "Length: 199, dtype: float64"
      ]
     },
     "execution_count": 26,
     "metadata": {},
     "output_type": "execute_result"
    }
   ],
   "source": [
    "mean_daily_returns"
   ]
  },
  {
   "cell_type": "code",
   "execution_count": 27,
   "metadata": {},
   "outputs": [],
   "source": [
    "# Set up array to hold results\n",
    "# We have increased the size of the array to hold the weight values for each stock\n",
    "results =  np.zeros((200+2,num_portfolios))"
   ]
  },
  {
   "cell_type": "code",
   "execution_count": 28,
   "metadata": {},
   "outputs": [],
   "source": [
    "for i in range(num_portfolios):\n",
    "    #select random weights for portfolio holdings\n",
    "    weights = np.array(np.random.random(199))\n",
    "    #rebalance weights to sum to 1\n",
    "    weights /= np.sum(weights)\n",
    "    \n",
    "    #calculate portfolio return and volatility\n",
    "    portfolio_return = np.sum(mean_daily_returns * weights) * 252\n",
    "    portfolio_std_dev = np.sqrt(np.dot(weights.T,np.dot(cov_matrix, weights))) * np.sqrt(252)\n",
    "    \n",
    "    #store results in results array\n",
    "    results[0,i] = portfolio_return\n",
    "    results[1,i] = portfolio_std_dev\n",
    "    #store Sharpe Ratio (return / volatility) - risk free rate element excluded for simplicity\n",
    "    results[2,i] = results[0,i] / results[1,i]\n",
    "    #iterate through the weight vector and add data to results array\n",
    "    for j in range(len(weights)):\n",
    "        results[j+3,i] = weights[j]\n"
   ]
  },
  {
   "cell_type": "code",
   "execution_count": 29,
   "metadata": {},
   "outputs": [
    {
     "data": {
      "text/plain": [
       "array([0.12035882, 0.03423251, 0.12043314, ..., 0.1072076 , 0.04627619,\n",
       "       0.05879808])"
      ]
     },
     "execution_count": 29,
     "metadata": {},
     "output_type": "execute_result"
    }
   ],
   "source": [
    "results[0,:]"
   ]
  },
  {
   "cell_type": "code",
   "execution_count": 30,
   "metadata": {},
   "outputs": [
    {
     "name": "stdout",
     "output_type": "stream",
     "text": [
      "[0.12035882 0.03423251 0.12043314 ... 0.1072076  0.04627619 0.05879808]\n"
     ]
    }
   ],
   "source": [
    "print(results[0,:])"
   ]
  },
  {
   "cell_type": "code",
   "execution_count": 31,
   "metadata": {},
   "outputs": [
    {
     "name": "stdout",
     "output_type": "stream",
     "text": [
      "[0.19243983 0.1564652  0.18373345 ... 0.1820205  0.15851057 0.15736016]\n"
     ]
    }
   ],
   "source": [
    "print(results[1,:])"
   ]
  },
  {
   "cell_type": "code",
   "execution_count": 32,
   "metadata": {},
   "outputs": [],
   "source": [
    "index = stock.columns\n",
    "index = index.drop(labels=['Date'])\n",
    "col=['ret','stdev','sharpe']\n",
    "for i in range(0,199):\n",
    "    col.append(index[i])"
   ]
  },
  {
   "cell_type": "code",
   "execution_count": 33,
   "metadata": {},
   "outputs": [
    {
     "data": {
      "text/html": [
       "<div>\n",
       "<style scoped>\n",
       "    .dataframe tbody tr th:only-of-type {\n",
       "        vertical-align: middle;\n",
       "    }\n",
       "\n",
       "    .dataframe tbody tr th {\n",
       "        vertical-align: top;\n",
       "    }\n",
       "\n",
       "    .dataframe thead th {\n",
       "        text-align: right;\n",
       "    }\n",
       "</style>\n",
       "<table border=\"1\" class=\"dataframe\">\n",
       "  <thead>\n",
       "    <tr style=\"text-align: right;\">\n",
       "      <th></th>\n",
       "      <th>ret</th>\n",
       "      <th>stdev</th>\n",
       "      <th>sharpe</th>\n",
       "      <th>298040.KS</th>\n",
       "      <th>294870.KS</th>\n",
       "      <th>018250.KS</th>\n",
       "      <th>068270.KS</th>\n",
       "      <th>285130.KS</th>\n",
       "      <th>282330.KS</th>\n",
       "      <th>035720.KS</th>\n",
       "      <th>...</th>\n",
       "      <th>002270.KS</th>\n",
       "      <th>002790.KS</th>\n",
       "      <th>001680.KS</th>\n",
       "      <th>003550.KS</th>\n",
       "      <th>000640.KS</th>\n",
       "      <th>000070.KS</th>\n",
       "      <th>000240.KS</th>\n",
       "      <th>003490.KS</th>\n",
       "      <th>000100.KS</th>\n",
       "      <th>000120.KS</th>\n",
       "    </tr>\n",
       "  </thead>\n",
       "  <tbody>\n",
       "    <tr>\n",
       "      <td>0</td>\n",
       "      <td>0.120359</td>\n",
       "      <td>0.192440</td>\n",
       "      <td>0.625436</td>\n",
       "      <td>0.008583</td>\n",
       "      <td>0.001755</td>\n",
       "      <td>0.001311</td>\n",
       "      <td>0.009113</td>\n",
       "      <td>0.006645</td>\n",
       "      <td>0.000252</td>\n",
       "      <td>0.002461</td>\n",
       "      <td>...</td>\n",
       "      <td>0.001305</td>\n",
       "      <td>0.002273</td>\n",
       "      <td>0.004042</td>\n",
       "      <td>0.001262</td>\n",
       "      <td>0.003529</td>\n",
       "      <td>0.009537</td>\n",
       "      <td>0.004931</td>\n",
       "      <td>0.008947</td>\n",
       "      <td>0.003939</td>\n",
       "      <td>0.001982</td>\n",
       "    </tr>\n",
       "    <tr>\n",
       "      <td>1</td>\n",
       "      <td>0.034233</td>\n",
       "      <td>0.156465</td>\n",
       "      <td>0.218787</td>\n",
       "      <td>0.003322</td>\n",
       "      <td>0.000117</td>\n",
       "      <td>0.004343</td>\n",
       "      <td>0.007571</td>\n",
       "      <td>0.001872</td>\n",
       "      <td>0.000558</td>\n",
       "      <td>0.004989</td>\n",
       "      <td>...</td>\n",
       "      <td>0.008703</td>\n",
       "      <td>0.009965</td>\n",
       "      <td>0.004980</td>\n",
       "      <td>0.002490</td>\n",
       "      <td>0.000585</td>\n",
       "      <td>0.001836</td>\n",
       "      <td>0.001688</td>\n",
       "      <td>0.009710</td>\n",
       "      <td>0.002762</td>\n",
       "      <td>0.006156</td>\n",
       "    </tr>\n",
       "    <tr>\n",
       "      <td>2</td>\n",
       "      <td>0.120433</td>\n",
       "      <td>0.183733</td>\n",
       "      <td>0.655478</td>\n",
       "      <td>0.000329</td>\n",
       "      <td>0.007455</td>\n",
       "      <td>0.007222</td>\n",
       "      <td>0.009343</td>\n",
       "      <td>0.004779</td>\n",
       "      <td>0.002461</td>\n",
       "      <td>0.006102</td>\n",
       "      <td>...</td>\n",
       "      <td>0.000470</td>\n",
       "      <td>0.007307</td>\n",
       "      <td>0.007649</td>\n",
       "      <td>0.007140</td>\n",
       "      <td>0.009696</td>\n",
       "      <td>0.009178</td>\n",
       "      <td>0.002842</td>\n",
       "      <td>0.001972</td>\n",
       "      <td>0.000195</td>\n",
       "      <td>0.001484</td>\n",
       "    </tr>\n",
       "    <tr>\n",
       "      <td>3</td>\n",
       "      <td>0.098928</td>\n",
       "      <td>0.188409</td>\n",
       "      <td>0.525071</td>\n",
       "      <td>0.006924</td>\n",
       "      <td>0.004163</td>\n",
       "      <td>0.008436</td>\n",
       "      <td>0.008609</td>\n",
       "      <td>0.002693</td>\n",
       "      <td>0.002865</td>\n",
       "      <td>0.007524</td>\n",
       "      <td>...</td>\n",
       "      <td>0.004246</td>\n",
       "      <td>0.002596</td>\n",
       "      <td>0.009400</td>\n",
       "      <td>0.001631</td>\n",
       "      <td>0.004867</td>\n",
       "      <td>0.009075</td>\n",
       "      <td>0.003388</td>\n",
       "      <td>0.008575</td>\n",
       "      <td>0.000377</td>\n",
       "      <td>0.005545</td>\n",
       "    </tr>\n",
       "    <tr>\n",
       "      <td>4</td>\n",
       "      <td>0.077326</td>\n",
       "      <td>0.175536</td>\n",
       "      <td>0.440514</td>\n",
       "      <td>0.006067</td>\n",
       "      <td>0.002208</td>\n",
       "      <td>0.006375</td>\n",
       "      <td>0.006191</td>\n",
       "      <td>0.008655</td>\n",
       "      <td>0.008768</td>\n",
       "      <td>0.002408</td>\n",
       "      <td>...</td>\n",
       "      <td>0.002458</td>\n",
       "      <td>0.002747</td>\n",
       "      <td>0.004927</td>\n",
       "      <td>0.008735</td>\n",
       "      <td>0.008389</td>\n",
       "      <td>0.007389</td>\n",
       "      <td>0.007051</td>\n",
       "      <td>0.004353</td>\n",
       "      <td>0.003332</td>\n",
       "      <td>0.003343</td>\n",
       "    </tr>\n",
       "    <tr>\n",
       "      <td>...</td>\n",
       "      <td>...</td>\n",
       "      <td>...</td>\n",
       "      <td>...</td>\n",
       "      <td>...</td>\n",
       "      <td>...</td>\n",
       "      <td>...</td>\n",
       "      <td>...</td>\n",
       "      <td>...</td>\n",
       "      <td>...</td>\n",
       "      <td>...</td>\n",
       "      <td>...</td>\n",
       "      <td>...</td>\n",
       "      <td>...</td>\n",
       "      <td>...</td>\n",
       "      <td>...</td>\n",
       "      <td>...</td>\n",
       "      <td>...</td>\n",
       "      <td>...</td>\n",
       "      <td>...</td>\n",
       "      <td>...</td>\n",
       "      <td>...</td>\n",
       "    </tr>\n",
       "    <tr>\n",
       "      <td>24995</td>\n",
       "      <td>0.035507</td>\n",
       "      <td>0.150931</td>\n",
       "      <td>0.235256</td>\n",
       "      <td>0.000906</td>\n",
       "      <td>0.000322</td>\n",
       "      <td>0.000108</td>\n",
       "      <td>0.009131</td>\n",
       "      <td>0.002514</td>\n",
       "      <td>0.009944</td>\n",
       "      <td>0.008867</td>\n",
       "      <td>...</td>\n",
       "      <td>0.007957</td>\n",
       "      <td>0.004445</td>\n",
       "      <td>0.002588</td>\n",
       "      <td>0.004625</td>\n",
       "      <td>0.007527</td>\n",
       "      <td>0.000261</td>\n",
       "      <td>0.007321</td>\n",
       "      <td>0.002529</td>\n",
       "      <td>0.009913</td>\n",
       "      <td>0.002777</td>\n",
       "    </tr>\n",
       "    <tr>\n",
       "      <td>24996</td>\n",
       "      <td>0.081024</td>\n",
       "      <td>0.170742</td>\n",
       "      <td>0.474537</td>\n",
       "      <td>0.002616</td>\n",
       "      <td>0.009617</td>\n",
       "      <td>0.004851</td>\n",
       "      <td>0.002041</td>\n",
       "      <td>0.003103</td>\n",
       "      <td>0.009361</td>\n",
       "      <td>0.000151</td>\n",
       "      <td>...</td>\n",
       "      <td>0.006213</td>\n",
       "      <td>0.003413</td>\n",
       "      <td>0.004274</td>\n",
       "      <td>0.006893</td>\n",
       "      <td>0.006320</td>\n",
       "      <td>0.006094</td>\n",
       "      <td>0.010069</td>\n",
       "      <td>0.003492</td>\n",
       "      <td>0.001462</td>\n",
       "      <td>0.004054</td>\n",
       "    </tr>\n",
       "    <tr>\n",
       "      <td>24997</td>\n",
       "      <td>0.107208</td>\n",
       "      <td>0.182020</td>\n",
       "      <td>0.588986</td>\n",
       "      <td>0.001271</td>\n",
       "      <td>0.003644</td>\n",
       "      <td>0.003801</td>\n",
       "      <td>0.009166</td>\n",
       "      <td>0.007014</td>\n",
       "      <td>0.004560</td>\n",
       "      <td>0.004218</td>\n",
       "      <td>...</td>\n",
       "      <td>0.007134</td>\n",
       "      <td>0.000392</td>\n",
       "      <td>0.006815</td>\n",
       "      <td>0.009372</td>\n",
       "      <td>0.005383</td>\n",
       "      <td>0.008406</td>\n",
       "      <td>0.008092</td>\n",
       "      <td>0.000590</td>\n",
       "      <td>0.004002</td>\n",
       "      <td>0.008281</td>\n",
       "    </tr>\n",
       "    <tr>\n",
       "      <td>24998</td>\n",
       "      <td>0.046276</td>\n",
       "      <td>0.158511</td>\n",
       "      <td>0.291944</td>\n",
       "      <td>0.008960</td>\n",
       "      <td>0.004201</td>\n",
       "      <td>0.008256</td>\n",
       "      <td>0.005219</td>\n",
       "      <td>0.000737</td>\n",
       "      <td>0.006763</td>\n",
       "      <td>0.008253</td>\n",
       "      <td>...</td>\n",
       "      <td>0.006425</td>\n",
       "      <td>0.002143</td>\n",
       "      <td>0.001016</td>\n",
       "      <td>0.007607</td>\n",
       "      <td>0.009286</td>\n",
       "      <td>0.003038</td>\n",
       "      <td>0.009531</td>\n",
       "      <td>0.008969</td>\n",
       "      <td>0.003644</td>\n",
       "      <td>0.000862</td>\n",
       "    </tr>\n",
       "    <tr>\n",
       "      <td>24999</td>\n",
       "      <td>0.058798</td>\n",
       "      <td>0.157360</td>\n",
       "      <td>0.373653</td>\n",
       "      <td>0.008282</td>\n",
       "      <td>0.005562</td>\n",
       "      <td>0.005389</td>\n",
       "      <td>0.005816</td>\n",
       "      <td>0.008990</td>\n",
       "      <td>0.009701</td>\n",
       "      <td>0.008962</td>\n",
       "      <td>...</td>\n",
       "      <td>0.006990</td>\n",
       "      <td>0.001987</td>\n",
       "      <td>0.005150</td>\n",
       "      <td>0.000273</td>\n",
       "      <td>0.001872</td>\n",
       "      <td>0.002769</td>\n",
       "      <td>0.001172</td>\n",
       "      <td>0.009417</td>\n",
       "      <td>0.002235</td>\n",
       "      <td>0.004787</td>\n",
       "    </tr>\n",
       "  </tbody>\n",
       "</table>\n",
       "<p>25000 rows × 202 columns</p>\n",
       "</div>"
      ],
      "text/plain": [
       "            ret     stdev    sharpe  298040.KS  294870.KS  018250.KS  \\\n",
       "0      0.120359  0.192440  0.625436   0.008583   0.001755   0.001311   \n",
       "1      0.034233  0.156465  0.218787   0.003322   0.000117   0.004343   \n",
       "2      0.120433  0.183733  0.655478   0.000329   0.007455   0.007222   \n",
       "3      0.098928  0.188409  0.525071   0.006924   0.004163   0.008436   \n",
       "4      0.077326  0.175536  0.440514   0.006067   0.002208   0.006375   \n",
       "...         ...       ...       ...        ...        ...        ...   \n",
       "24995  0.035507  0.150931  0.235256   0.000906   0.000322   0.000108   \n",
       "24996  0.081024  0.170742  0.474537   0.002616   0.009617   0.004851   \n",
       "24997  0.107208  0.182020  0.588986   0.001271   0.003644   0.003801   \n",
       "24998  0.046276  0.158511  0.291944   0.008960   0.004201   0.008256   \n",
       "24999  0.058798  0.157360  0.373653   0.008282   0.005562   0.005389   \n",
       "\n",
       "       068270.KS  285130.KS  282330.KS  035720.KS  ...  002270.KS  002790.KS  \\\n",
       "0       0.009113   0.006645   0.000252   0.002461  ...   0.001305   0.002273   \n",
       "1       0.007571   0.001872   0.000558   0.004989  ...   0.008703   0.009965   \n",
       "2       0.009343   0.004779   0.002461   0.006102  ...   0.000470   0.007307   \n",
       "3       0.008609   0.002693   0.002865   0.007524  ...   0.004246   0.002596   \n",
       "4       0.006191   0.008655   0.008768   0.002408  ...   0.002458   0.002747   \n",
       "...          ...        ...        ...        ...  ...        ...        ...   \n",
       "24995   0.009131   0.002514   0.009944   0.008867  ...   0.007957   0.004445   \n",
       "24996   0.002041   0.003103   0.009361   0.000151  ...   0.006213   0.003413   \n",
       "24997   0.009166   0.007014   0.004560   0.004218  ...   0.007134   0.000392   \n",
       "24998   0.005219   0.000737   0.006763   0.008253  ...   0.006425   0.002143   \n",
       "24999   0.005816   0.008990   0.009701   0.008962  ...   0.006990   0.001987   \n",
       "\n",
       "       001680.KS  003550.KS  000640.KS  000070.KS  000240.KS  003490.KS  \\\n",
       "0       0.004042   0.001262   0.003529   0.009537   0.004931   0.008947   \n",
       "1       0.004980   0.002490   0.000585   0.001836   0.001688   0.009710   \n",
       "2       0.007649   0.007140   0.009696   0.009178   0.002842   0.001972   \n",
       "3       0.009400   0.001631   0.004867   0.009075   0.003388   0.008575   \n",
       "4       0.004927   0.008735   0.008389   0.007389   0.007051   0.004353   \n",
       "...          ...        ...        ...        ...        ...        ...   \n",
       "24995   0.002588   0.004625   0.007527   0.000261   0.007321   0.002529   \n",
       "24996   0.004274   0.006893   0.006320   0.006094   0.010069   0.003492   \n",
       "24997   0.006815   0.009372   0.005383   0.008406   0.008092   0.000590   \n",
       "24998   0.001016   0.007607   0.009286   0.003038   0.009531   0.008969   \n",
       "24999   0.005150   0.000273   0.001872   0.002769   0.001172   0.009417   \n",
       "\n",
       "       000100.KS  000120.KS  \n",
       "0       0.003939   0.001982  \n",
       "1       0.002762   0.006156  \n",
       "2       0.000195   0.001484  \n",
       "3       0.000377   0.005545  \n",
       "4       0.003332   0.003343  \n",
       "...          ...        ...  \n",
       "24995   0.009913   0.002777  \n",
       "24996   0.001462   0.004054  \n",
       "24997   0.004002   0.008281  \n",
       "24998   0.003644   0.000862  \n",
       "24999   0.002235   0.004787  \n",
       "\n",
       "[25000 rows x 202 columns]"
      ]
     },
     "execution_count": 33,
     "metadata": {},
     "output_type": "execute_result"
    }
   ],
   "source": [
    "#convert results array to Pandas DataFrame\n",
    "results_frame = pd.DataFrame(results.T, columns=col)\n",
    "results_frame"
   ]
  },
  {
   "cell_type": "code",
   "execution_count": 36,
   "metadata": {},
   "outputs": [],
   "source": [
    "results_frame.to_excel(\"portfolio_generation.xlsx\")"
   ]
  },
  {
   "cell_type": "code",
   "execution_count": null,
   "metadata": {},
   "outputs": [],
   "source": []
  }
 ],
 "metadata": {
  "kernelspec": {
   "display_name": "Python 3",
   "language": "python",
   "name": "python3"
  },
  "language_info": {
   "codemirror_mode": {
    "name": "ipython",
    "version": 3
   },
   "file_extension": ".py",
   "mimetype": "text/x-python",
   "name": "python",
   "nbconvert_exporter": "python",
   "pygments_lexer": "ipython3",
   "version": "3.7.4"
  }
 },
 "nbformat": 4,
 "nbformat_minor": 2
}
