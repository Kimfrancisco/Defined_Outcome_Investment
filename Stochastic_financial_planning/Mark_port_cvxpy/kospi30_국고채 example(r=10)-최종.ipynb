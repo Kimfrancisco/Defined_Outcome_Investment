{
 "cells": [
  {
   "cell_type": "code",
   "execution_count": 30,
   "metadata": {},
   "outputs": [],
   "source": [
    "import pandas as pd\n",
    "import numpy as np\n",
    "import matplotlib.pyplot as plt\n",
    "from pandas.plotting import scatter_matrix\n",
    "import os\n",
    "import scipy.stats\n",
    "from scipy.stats import t, norm\n",
    "import seaborn as sns\n",
    "currentPath = os.getcwd()\n",
    "os.chdir('/Users/kimfr/OneDrive - unist.ac.kr/Optimization/Stochastic_financial_planning/Mark_port_cvxpy/data')"
   ]
  },
  {
   "cell_type": "code",
   "execution_count": 31,
   "metadata": {},
   "outputs": [],
   "source": [
    "stock =pd.read_excel('kospi_30.xlsx')\n",
    "bond = pd.read_excel('국채3년.xlsx')"
   ]
  },
  {
   "cell_type": "code",
   "execution_count": 32,
   "metadata": {},
   "outputs": [
    {
     "data": {
      "text/html": [
       "<div>\n",
       "<style scoped>\n",
       "    .dataframe tbody tr th:only-of-type {\n",
       "        vertical-align: middle;\n",
       "    }\n",
       "\n",
       "    .dataframe tbody tr th {\n",
       "        vertical-align: top;\n",
       "    }\n",
       "\n",
       "    .dataframe thead th {\n",
       "        text-align: right;\n",
       "    }\n",
       "</style>\n",
       "<table border=\"1\" class=\"dataframe\">\n",
       "  <thead>\n",
       "    <tr style=\"text-align: right;\">\n",
       "      <th></th>\n",
       "      <th>Date</th>\n",
       "      <th>005930</th>\n",
       "      <th>000660</th>\n",
       "      <th>005935</th>\n",
       "      <th>035420</th>\n",
       "      <th>005380</th>\n",
       "      <th>012330</th>\n",
       "      <th>068270</th>\n",
       "      <th>051910</th>\n",
       "      <th>055550</th>\n",
       "      <th>...</th>\n",
       "      <th>096770</th>\n",
       "      <th>033780</th>\n",
       "      <th>035720</th>\n",
       "      <th>003550</th>\n",
       "      <th>036570</th>\n",
       "      <th>066570</th>\n",
       "      <th>000810</th>\n",
       "      <th>090430</th>\n",
       "      <th>086790</th>\n",
       "      <th>010950</th>\n",
       "    </tr>\n",
       "  </thead>\n",
       "  <tbody>\n",
       "    <tr>\n",
       "      <td>0</td>\n",
       "      <td>2016-11-03</td>\n",
       "      <td>0.0000</td>\n",
       "      <td>0.0403</td>\n",
       "      <td>0.0268</td>\n",
       "      <td>0.0316</td>\n",
       "      <td>-0.0035</td>\n",
       "      <td>0.0000</td>\n",
       "      <td>-0.0206</td>\n",
       "      <td>-0.0133</td>\n",
       "      <td>0.0303</td>\n",
       "      <td>...</td>\n",
       "      <td>0.0342</td>\n",
       "      <td>0.0047</td>\n",
       "      <td>-0.0179</td>\n",
       "      <td>0.0321</td>\n",
       "      <td>-0.0090</td>\n",
       "      <td>0.0164</td>\n",
       "      <td>-0.0052</td>\n",
       "      <td>-0.0036</td>\n",
       "      <td>0.0243</td>\n",
       "      <td>-0.0168</td>\n",
       "    </tr>\n",
       "    <tr>\n",
       "      <td>1</td>\n",
       "      <td>2016-11-04</td>\n",
       "      <td>0.0080</td>\n",
       "      <td>0.0018</td>\n",
       "      <td>0.0752</td>\n",
       "      <td>0.0000</td>\n",
       "      <td>-0.0244</td>\n",
       "      <td>-0.0042</td>\n",
       "      <td>0.0184</td>\n",
       "      <td>-0.0045</td>\n",
       "      <td>-0.0106</td>\n",
       "      <td>...</td>\n",
       "      <td>-0.0041</td>\n",
       "      <td>-0.0047</td>\n",
       "      <td>-0.0043</td>\n",
       "      <td>0.0311</td>\n",
       "      <td>-0.0227</td>\n",
       "      <td>0.0000</td>\n",
       "      <td>-0.0052</td>\n",
       "      <td>0.0000</td>\n",
       "      <td>0.0055</td>\n",
       "      <td>0.0000</td>\n",
       "    </tr>\n",
       "    <tr>\n",
       "      <td>2</td>\n",
       "      <td>2016-11-05</td>\n",
       "      <td>-0.0224</td>\n",
       "      <td>-0.0351</td>\n",
       "      <td>0.0010</td>\n",
       "      <td>-0.0051</td>\n",
       "      <td>-0.0179</td>\n",
       "      <td>0.0106</td>\n",
       "      <td>0.0009</td>\n",
       "      <td>-0.0105</td>\n",
       "      <td>-0.0048</td>\n",
       "      <td>...</td>\n",
       "      <td>0.0373</td>\n",
       "      <td>-0.0140</td>\n",
       "      <td>0.0148</td>\n",
       "      <td>0.0067</td>\n",
       "      <td>0.0209</td>\n",
       "      <td>-0.0072</td>\n",
       "      <td>-0.0157</td>\n",
       "      <td>-0.0218</td>\n",
       "      <td>-0.0145</td>\n",
       "      <td>0.0249</td>\n",
       "    </tr>\n",
       "    <tr>\n",
       "      <td>3</td>\n",
       "      <td>2016-11-06</td>\n",
       "      <td>-0.0163</td>\n",
       "      <td>0.0237</td>\n",
       "      <td>0.0000</td>\n",
       "      <td>-0.0103</td>\n",
       "      <td>-0.0073</td>\n",
       "      <td>0.0168</td>\n",
       "      <td>-0.0300</td>\n",
       "      <td>0.0000</td>\n",
       "      <td>0.0120</td>\n",
       "      <td>...</td>\n",
       "      <td>-0.0080</td>\n",
       "      <td>0.0000</td>\n",
       "      <td>0.0292</td>\n",
       "      <td>-0.0150</td>\n",
       "      <td>-0.0136</td>\n",
       "      <td>0.0270</td>\n",
       "      <td>-0.0035</td>\n",
       "      <td>0.0372</td>\n",
       "      <td>0.0203</td>\n",
       "      <td>0.0397</td>\n",
       "    </tr>\n",
       "    <tr>\n",
       "      <td>4</td>\n",
       "      <td>2016-11-07</td>\n",
       "      <td>0.0090</td>\n",
       "      <td>0.0000</td>\n",
       "      <td>-0.0051</td>\n",
       "      <td>-0.0052</td>\n",
       "      <td>0.0000</td>\n",
       "      <td>0.0083</td>\n",
       "      <td>0.0018</td>\n",
       "      <td>0.0396</td>\n",
       "      <td>0.0083</td>\n",
       "      <td>...</td>\n",
       "      <td>0.0081</td>\n",
       "      <td>0.0000</td>\n",
       "      <td>-0.0075</td>\n",
       "      <td>-0.0085</td>\n",
       "      <td>0.0138</td>\n",
       "      <td>-0.0053</td>\n",
       "      <td>-0.0374</td>\n",
       "      <td>0.0179</td>\n",
       "      <td>0.0090</td>\n",
       "      <td>-0.0062</td>\n",
       "    </tr>\n",
       "    <tr>\n",
       "      <td>...</td>\n",
       "      <td>...</td>\n",
       "      <td>...</td>\n",
       "      <td>...</td>\n",
       "      <td>...</td>\n",
       "      <td>...</td>\n",
       "      <td>...</td>\n",
       "      <td>...</td>\n",
       "      <td>...</td>\n",
       "      <td>...</td>\n",
       "      <td>...</td>\n",
       "      <td>...</td>\n",
       "      <td>...</td>\n",
       "      <td>...</td>\n",
       "      <td>...</td>\n",
       "      <td>...</td>\n",
       "      <td>...</td>\n",
       "      <td>...</td>\n",
       "      <td>...</td>\n",
       "      <td>...</td>\n",
       "      <td>...</td>\n",
       "      <td>...</td>\n",
       "    </tr>\n",
       "    <tr>\n",
       "      <td>1089</td>\n",
       "      <td>2019-10-28</td>\n",
       "      <td>0.0079</td>\n",
       "      <td>0.0000</td>\n",
       "      <td>-0.0012</td>\n",
       "      <td>0.0295</td>\n",
       "      <td>-0.0162</td>\n",
       "      <td>0.0000</td>\n",
       "      <td>0.0203</td>\n",
       "      <td>0.0017</td>\n",
       "      <td>0.0023</td>\n",
       "      <td>...</td>\n",
       "      <td>-0.0062</td>\n",
       "      <td>-0.0192</td>\n",
       "      <td>0.0000</td>\n",
       "      <td>0.0058</td>\n",
       "      <td>-0.0191</td>\n",
       "      <td>0.0088</td>\n",
       "      <td>-0.0067</td>\n",
       "      <td>-0.0096</td>\n",
       "      <td>-0.0424</td>\n",
       "      <td>-0.0189</td>\n",
       "    </tr>\n",
       "    <tr>\n",
       "      <td>1090</td>\n",
       "      <td>2019-10-29</td>\n",
       "      <td>-0.0039</td>\n",
       "      <td>0.0012</td>\n",
       "      <td>-0.0097</td>\n",
       "      <td>-0.0255</td>\n",
       "      <td>0.0082</td>\n",
       "      <td>0.0021</td>\n",
       "      <td>0.0224</td>\n",
       "      <td>-0.0066</td>\n",
       "      <td>0.0080</td>\n",
       "      <td>...</td>\n",
       "      <td>0.0093</td>\n",
       "      <td>-0.0049</td>\n",
       "      <td>-0.0036</td>\n",
       "      <td>0.0043</td>\n",
       "      <td>0.0000</td>\n",
       "      <td>0.0029</td>\n",
       "      <td>0.0000</td>\n",
       "      <td>0.0354</td>\n",
       "      <td>0.0177</td>\n",
       "      <td>-0.0192</td>\n",
       "    </tr>\n",
       "    <tr>\n",
       "      <td>1091</td>\n",
       "      <td>2019-10-30</td>\n",
       "      <td>-0.0137</td>\n",
       "      <td>-0.0181</td>\n",
       "      <td>0.0024</td>\n",
       "      <td>0.0098</td>\n",
       "      <td>0.0000</td>\n",
       "      <td>0.0021</td>\n",
       "      <td>-0.0073</td>\n",
       "      <td>0.0167</td>\n",
       "      <td>-0.0193</td>\n",
       "      <td>...</td>\n",
       "      <td>-0.0215</td>\n",
       "      <td>0.0000</td>\n",
       "      <td>-0.0108</td>\n",
       "      <td>-0.0058</td>\n",
       "      <td>0.0117</td>\n",
       "      <td>-0.0072</td>\n",
       "      <td>-0.0136</td>\n",
       "      <td>0.1429</td>\n",
       "      <td>-0.0189</td>\n",
       "      <td>-0.0049</td>\n",
       "    </tr>\n",
       "    <tr>\n",
       "      <td>1092</td>\n",
       "      <td>2019-10-31</td>\n",
       "      <td>0.0000</td>\n",
       "      <td>0.0061</td>\n",
       "      <td>-0.0012</td>\n",
       "      <td>0.0615</td>\n",
       "      <td>-0.0041</td>\n",
       "      <td>0.0000</td>\n",
       "      <td>-0.0196</td>\n",
       "      <td>0.0082</td>\n",
       "      <td>-0.0151</td>\n",
       "      <td>...</td>\n",
       "      <td>0.0063</td>\n",
       "      <td>-0.0148</td>\n",
       "      <td>0.0254</td>\n",
       "      <td>0.0043</td>\n",
       "      <td>-0.0058</td>\n",
       "      <td>-0.0234</td>\n",
       "      <td>-0.0069</td>\n",
       "      <td>0.0435</td>\n",
       "      <td>-0.0030</td>\n",
       "      <td>-0.0177</td>\n",
       "    </tr>\n",
       "    <tr>\n",
       "      <td>1093</td>\n",
       "      <td>2019-11-01</td>\n",
       "      <td>0.0159</td>\n",
       "      <td>0.0134</td>\n",
       "      <td>0.0231</td>\n",
       "      <td>0.0183</td>\n",
       "      <td>0.0164</td>\n",
       "      <td>0.0210</td>\n",
       "      <td>-0.0050</td>\n",
       "      <td>0.0049</td>\n",
       "      <td>0.0035</td>\n",
       "      <td>...</td>\n",
       "      <td>0.0031</td>\n",
       "      <td>0.0100</td>\n",
       "      <td>0.0283</td>\n",
       "      <td>0.0101</td>\n",
       "      <td>0.0426</td>\n",
       "      <td>0.0045</td>\n",
       "      <td>0.0115</td>\n",
       "      <td>0.0208</td>\n",
       "      <td>0.0148</td>\n",
       "      <td>0.0181</td>\n",
       "    </tr>\n",
       "  </tbody>\n",
       "</table>\n",
       "<p>1094 rows × 31 columns</p>\n",
       "</div>"
      ],
      "text/plain": [
       "           Date  005930  000660  005935  035420  005380  012330  068270  \\\n",
       "0    2016-11-03  0.0000  0.0403  0.0268  0.0316 -0.0035  0.0000 -0.0206   \n",
       "1    2016-11-04  0.0080  0.0018  0.0752  0.0000 -0.0244 -0.0042  0.0184   \n",
       "2    2016-11-05 -0.0224 -0.0351  0.0010 -0.0051 -0.0179  0.0106  0.0009   \n",
       "3    2016-11-06 -0.0163  0.0237  0.0000 -0.0103 -0.0073  0.0168 -0.0300   \n",
       "4    2016-11-07  0.0090  0.0000 -0.0051 -0.0052  0.0000  0.0083  0.0018   \n",
       "...         ...     ...     ...     ...     ...     ...     ...     ...   \n",
       "1089 2019-10-28  0.0079  0.0000 -0.0012  0.0295 -0.0162  0.0000  0.0203   \n",
       "1090 2019-10-29 -0.0039  0.0012 -0.0097 -0.0255  0.0082  0.0021  0.0224   \n",
       "1091 2019-10-30 -0.0137 -0.0181  0.0024  0.0098  0.0000  0.0021 -0.0073   \n",
       "1092 2019-10-31  0.0000  0.0061 -0.0012  0.0615 -0.0041  0.0000 -0.0196   \n",
       "1093 2019-11-01  0.0159  0.0134  0.0231  0.0183  0.0164  0.0210 -0.0050   \n",
       "\n",
       "      051910  055550  ...  096770  033780  035720  003550  036570  066570  \\\n",
       "0    -0.0133  0.0303  ...  0.0342  0.0047 -0.0179  0.0321 -0.0090  0.0164   \n",
       "1    -0.0045 -0.0106  ... -0.0041 -0.0047 -0.0043  0.0311 -0.0227  0.0000   \n",
       "2    -0.0105 -0.0048  ...  0.0373 -0.0140  0.0148  0.0067  0.0209 -0.0072   \n",
       "3     0.0000  0.0120  ... -0.0080  0.0000  0.0292 -0.0150 -0.0136  0.0270   \n",
       "4     0.0396  0.0083  ...  0.0081  0.0000 -0.0075 -0.0085  0.0138 -0.0053   \n",
       "...      ...     ...  ...     ...     ...     ...     ...     ...     ...   \n",
       "1089  0.0017  0.0023  ... -0.0062 -0.0192  0.0000  0.0058 -0.0191  0.0088   \n",
       "1090 -0.0066  0.0080  ...  0.0093 -0.0049 -0.0036  0.0043  0.0000  0.0029   \n",
       "1091  0.0167 -0.0193  ... -0.0215  0.0000 -0.0108 -0.0058  0.0117 -0.0072   \n",
       "1092  0.0082 -0.0151  ...  0.0063 -0.0148  0.0254  0.0043 -0.0058 -0.0234   \n",
       "1093  0.0049  0.0035  ...  0.0031  0.0100  0.0283  0.0101  0.0426  0.0045   \n",
       "\n",
       "      000810  090430  086790  010950  \n",
       "0    -0.0052 -0.0036  0.0243 -0.0168  \n",
       "1    -0.0052  0.0000  0.0055  0.0000  \n",
       "2    -0.0157 -0.0218 -0.0145  0.0249  \n",
       "3    -0.0035  0.0372  0.0203  0.0397  \n",
       "4    -0.0374  0.0179  0.0090 -0.0062  \n",
       "...      ...     ...     ...     ...  \n",
       "1089 -0.0067 -0.0096 -0.0424 -0.0189  \n",
       "1090  0.0000  0.0354  0.0177 -0.0192  \n",
       "1091 -0.0136  0.1429 -0.0189 -0.0049  \n",
       "1092 -0.0069  0.0435 -0.0030 -0.0177  \n",
       "1093  0.0115  0.0208  0.0148  0.0181  \n",
       "\n",
       "[1094 rows x 31 columns]"
      ]
     },
     "execution_count": 32,
     "metadata": {},
     "output_type": "execute_result"
    }
   ],
   "source": [
    "stock"
   ]
  },
  {
   "cell_type": "code",
   "execution_count": 33,
   "metadata": {},
   "outputs": [
    {
     "data": {
      "text/plain": [
       "Index(['Date', '005930', '000660', '005935', '035420', '005380', '012330',\n",
       "       '068270', '051910', '055550', '017670', '051900', '105560', '028260',\n",
       "       '005490', '034730', '015760', '000270', '006400', '018260', '032830',\n",
       "       '096770', '033780', '035720', '003550', '036570', '066570', '000810',\n",
       "       '090430', '086790', '010950'],\n",
       "      dtype='object')"
      ]
     },
     "execution_count": 33,
     "metadata": {},
     "output_type": "execute_result"
    }
   ],
   "source": [
    "stock.columns"
   ]
  },
  {
   "cell_type": "code",
   "execution_count": 34,
   "metadata": {},
   "outputs": [],
   "source": [
    "index = stock.columns\n",
    "ret = stock\n",
    "index = index.drop(labels=['Date'])"
   ]
  },
  {
   "cell_type": "code",
   "execution_count": 35,
   "metadata": {},
   "outputs": [
    {
     "data": {
      "text/plain": [
       "Index(['005930', '000660', '005935', '035420', '005380', '012330', '068270',\n",
       "       '051910', '055550', '017670', '051900', '105560', '028260', '005490',\n",
       "       '034730', '015760', '000270', '006400', '018260', '032830', '096770',\n",
       "       '033780', '035720', '003550', '036570', '066570', '000810', '090430',\n",
       "       '086790', '010950'],\n",
       "      dtype='object')"
      ]
     },
     "execution_count": 35,
     "metadata": {},
     "output_type": "execute_result"
    }
   ],
   "source": [
    "index"
   ]
  },
  {
   "cell_type": "code",
   "execution_count": 36,
   "metadata": {},
   "outputs": [
    {
     "data": {
      "image/png": "[encoded data removed]",
      "text/plain": [
       "<Figure size 576x396 with 1 Axes>"
      ]
     },
     "metadata": {},
     "output_type": "display_data"
    }
   ],
   "source": [
    "x= pd.date_range('2016-11-03',periods=1094)\n",
    "plt.xlabel('Date')\n",
    "plt.ylabel('Normalized Price')\n",
    "for i in range(0,29):\n",
    "    plt.plot(x,stock.iloc[:,i+1])\n",
    "plt.show()"
   ]
  },
  {
   "cell_type": "markdown",
   "metadata": {},
   "source": [
    " Markowitz portfolio optimization 사용"
   ]
  },
  {
   "cell_type": "code",
   "execution_count": 6,
   "metadata": {},
   "outputs": [],
   "source": [
    "mu = ret.mean()\n",
    "sigma = stock.cov()\n",
    "#set number of runs of random portfolio weights\n",
    "num_portfolios = 25000"
   ]
  },
  {
   "cell_type": "code",
   "execution_count": 14,
   "metadata": {},
   "outputs": [],
   "source": [
    "results =  np.zeros((30+3 ,num_portfolios))"
   ]
  },
  {
   "cell_type": "code",
   "execution_count": 15,
   "metadata": {},
   "outputs": [],
   "source": [
    "for i in range(num_portfolios):\n",
    "    #select random weights for portfolio holdings\n",
    "    weights = np.array(np.random.random(30))\n",
    "    #rebalance weights to sum to 1\n",
    "    weights /= np.sum(weights)\n",
    "    \n",
    "    #calculate portfolio return and volatility\n",
    "    portfolio_return = np.sum(mu * weights) * 1192\n",
    "    portfolio_std_dev = np.sqrt(np.dot(weights.T,np.dot(sigma, weights))) * np.sqrt(1192)\n",
    "    \n",
    "    #store results in results array\n",
    "    results[0,i] = portfolio_return\n",
    "    results[1,i] = portfolio_std_dev\n",
    "    #store Sharpe Ratio (return / volatility) - risk free rate element excluded for simplicity\n",
    "    results[2,i] = results[0,i] / results[1,i]\n",
    "    #iterate through the weight vector and add data to results array\n",
    "    for j in range(len(weights)):\n",
    "        results[j+2,i] = weights[j]"
   ]
  },
  {
   "cell_type": "code",
   "execution_count": 16,
   "metadata": {},
   "outputs": [
    {
     "data": {
      "text/plain": [
       "array([0.32487397, 0.27134848, 0.3011149 , ..., 0.23311027, 0.38582332,\n",
       "       0.37252416])"
      ]
     },
     "execution_count": 16,
     "metadata": {},
     "output_type": "execute_result"
    }
   ],
   "source": [
    "results[0,:]"
   ]
  },
  {
   "cell_type": "code",
   "execution_count": 17,
   "metadata": {},
   "outputs": [
    {
     "data": {
      "text/plain": [
       "Index(['005930', '000660', '005935', '035420', '005380', '012330', '068270',\n",
       "       '051910', '055550', '017670', '051900', '105560', '028260', '005490',\n",
       "       '034730', '015760', '000270', '006400', '018260', '032830', '096770',\n",
       "       '033780', '035720', '003550', '036570', '066570', '000810', '090430',\n",
       "       '086790', '010950'],\n",
       "      dtype='object')"
      ]
     },
     "execution_count": 17,
     "metadata": {},
     "output_type": "execute_result"
    }
   ],
   "source": [
    "index"
   ]
  },
  {
   "cell_type": "code",
   "execution_count": 18,
   "metadata": {},
   "outputs": [],
   "source": [
    "col=['ret','stdev','sharpe']\n",
    "for i in range(0,30):\n",
    "    col.append(index[i])"
   ]
  },
  {
   "cell_type": "code",
   "execution_count": 19,
   "metadata": {},
   "outputs": [],
   "source": [
    "results_frame = pd.DataFrame(results.T, columns = col)"
   ]
  },
  {
   "cell_type": "code",
   "execution_count": 20,
   "metadata": {},
   "outputs": [
    {
     "data": {
      "text/html": [
       "<div>\n",
       "<style scoped>\n",
       "    .dataframe tbody tr th:only-of-type {\n",
       "        vertical-align: middle;\n",
       "    }\n",
       "\n",
       "    .dataframe tbody tr th {\n",
       "        vertical-align: top;\n",
       "    }\n",
       "\n",
       "    .dataframe thead th {\n",
       "        text-align: right;\n",
       "    }\n",
       "</style>\n",
       "<table border=\"1\" class=\"dataframe\">\n",
       "  <thead>\n",
       "    <tr style=\"text-align: right;\">\n",
       "      <th></th>\n",
       "      <th>ret</th>\n",
       "      <th>stdev</th>\n",
       "      <th>sharpe</th>\n",
       "      <th>005930</th>\n",
       "      <th>000660</th>\n",
       "      <th>005935</th>\n",
       "      <th>035420</th>\n",
       "      <th>005380</th>\n",
       "      <th>012330</th>\n",
       "      <th>068270</th>\n",
       "      <th>...</th>\n",
       "      <th>096770</th>\n",
       "      <th>033780</th>\n",
       "      <th>035720</th>\n",
       "      <th>003550</th>\n",
       "      <th>036570</th>\n",
       "      <th>066570</th>\n",
       "      <th>000810</th>\n",
       "      <th>090430</th>\n",
       "      <th>086790</th>\n",
       "      <th>010950</th>\n",
       "    </tr>\n",
       "  </thead>\n",
       "  <tbody>\n",
       "    <tr>\n",
       "      <td>0</td>\n",
       "      <td>0.324874</td>\n",
       "      <td>0.123886</td>\n",
       "      <td>0.061867</td>\n",
       "      <td>0.019801</td>\n",
       "      <td>0.042846</td>\n",
       "      <td>0.012974</td>\n",
       "      <td>0.000278</td>\n",
       "      <td>0.056622</td>\n",
       "      <td>0.009440</td>\n",
       "      <td>0.036675</td>\n",
       "      <td>...</td>\n",
       "      <td>0.032770</td>\n",
       "      <td>0.022155</td>\n",
       "      <td>0.061939</td>\n",
       "      <td>0.042035</td>\n",
       "      <td>0.019860</td>\n",
       "      <td>0.033414</td>\n",
       "      <td>0.003794</td>\n",
       "      <td>0.023148</td>\n",
       "      <td>0.058021</td>\n",
       "      <td>0.0</td>\n",
       "    </tr>\n",
       "    <tr>\n",
       "      <td>1</td>\n",
       "      <td>0.271348</td>\n",
       "      <td>0.134045</td>\n",
       "      <td>0.010262</td>\n",
       "      <td>0.051428</td>\n",
       "      <td>0.023291</td>\n",
       "      <td>0.041497</td>\n",
       "      <td>0.022384</td>\n",
       "      <td>0.051220</td>\n",
       "      <td>0.000723</td>\n",
       "      <td>0.017739</td>\n",
       "      <td>...</td>\n",
       "      <td>0.019858</td>\n",
       "      <td>0.028886</td>\n",
       "      <td>0.033002</td>\n",
       "      <td>0.013351</td>\n",
       "      <td>0.046393</td>\n",
       "      <td>0.053349</td>\n",
       "      <td>0.052909</td>\n",
       "      <td>0.048671</td>\n",
       "      <td>0.032810</td>\n",
       "      <td>0.0</td>\n",
       "    </tr>\n",
       "    <tr>\n",
       "      <td>2</td>\n",
       "      <td>0.301115</td>\n",
       "      <td>0.129219</td>\n",
       "      <td>0.055395</td>\n",
       "      <td>0.035678</td>\n",
       "      <td>0.009562</td>\n",
       "      <td>0.031999</td>\n",
       "      <td>0.043511</td>\n",
       "      <td>0.046492</td>\n",
       "      <td>0.023015</td>\n",
       "      <td>0.033842</td>\n",
       "      <td>...</td>\n",
       "      <td>0.015898</td>\n",
       "      <td>0.018492</td>\n",
       "      <td>0.003499</td>\n",
       "      <td>0.035458</td>\n",
       "      <td>0.057621</td>\n",
       "      <td>0.020957</td>\n",
       "      <td>0.022312</td>\n",
       "      <td>0.007107</td>\n",
       "      <td>0.037263</td>\n",
       "      <td>0.0</td>\n",
       "    </tr>\n",
       "    <tr>\n",
       "      <td>3</td>\n",
       "      <td>0.406410</td>\n",
       "      <td>0.145096</td>\n",
       "      <td>0.039870</td>\n",
       "      <td>0.064262</td>\n",
       "      <td>0.051697</td>\n",
       "      <td>0.000832</td>\n",
       "      <td>0.011656</td>\n",
       "      <td>0.041540</td>\n",
       "      <td>0.058013</td>\n",
       "      <td>0.009766</td>\n",
       "      <td>...</td>\n",
       "      <td>0.041489</td>\n",
       "      <td>0.052000</td>\n",
       "      <td>0.053715</td>\n",
       "      <td>0.020531</td>\n",
       "      <td>0.034508</td>\n",
       "      <td>0.045817</td>\n",
       "      <td>0.049801</td>\n",
       "      <td>0.002524</td>\n",
       "      <td>0.001343</td>\n",
       "      <td>0.0</td>\n",
       "    </tr>\n",
       "    <tr>\n",
       "      <td>4</td>\n",
       "      <td>0.372072</td>\n",
       "      <td>0.154954</td>\n",
       "      <td>0.012224</td>\n",
       "      <td>0.058824</td>\n",
       "      <td>0.012478</td>\n",
       "      <td>0.042802</td>\n",
       "      <td>0.001965</td>\n",
       "      <td>0.077375</td>\n",
       "      <td>0.060581</td>\n",
       "      <td>0.040798</td>\n",
       "      <td>...</td>\n",
       "      <td>0.000764</td>\n",
       "      <td>0.051822</td>\n",
       "      <td>0.019368</td>\n",
       "      <td>0.058664</td>\n",
       "      <td>0.013191</td>\n",
       "      <td>0.027462</td>\n",
       "      <td>0.048908</td>\n",
       "      <td>0.012730</td>\n",
       "      <td>0.064347</td>\n",
       "      <td>0.0</td>\n",
       "    </tr>\n",
       "    <tr>\n",
       "      <td>...</td>\n",
       "      <td>...</td>\n",
       "      <td>...</td>\n",
       "      <td>...</td>\n",
       "      <td>...</td>\n",
       "      <td>...</td>\n",
       "      <td>...</td>\n",
       "      <td>...</td>\n",
       "      <td>...</td>\n",
       "      <td>...</td>\n",
       "      <td>...</td>\n",
       "      <td>...</td>\n",
       "      <td>...</td>\n",
       "      <td>...</td>\n",
       "      <td>...</td>\n",
       "      <td>...</td>\n",
       "      <td>...</td>\n",
       "      <td>...</td>\n",
       "      <td>...</td>\n",
       "      <td>...</td>\n",
       "      <td>...</td>\n",
       "      <td>...</td>\n",
       "    </tr>\n",
       "    <tr>\n",
       "      <td>24995</td>\n",
       "      <td>0.317934</td>\n",
       "      <td>0.138092</td>\n",
       "      <td>0.011520</td>\n",
       "      <td>0.028746</td>\n",
       "      <td>0.044904</td>\n",
       "      <td>0.039649</td>\n",
       "      <td>0.052266</td>\n",
       "      <td>0.025660</td>\n",
       "      <td>0.026166</td>\n",
       "      <td>0.057214</td>\n",
       "      <td>...</td>\n",
       "      <td>0.022808</td>\n",
       "      <td>0.057459</td>\n",
       "      <td>0.029309</td>\n",
       "      <td>0.001259</td>\n",
       "      <td>0.005418</td>\n",
       "      <td>0.008898</td>\n",
       "      <td>0.008486</td>\n",
       "      <td>0.031765</td>\n",
       "      <td>0.045278</td>\n",
       "      <td>0.0</td>\n",
       "    </tr>\n",
       "    <tr>\n",
       "      <td>24996</td>\n",
       "      <td>0.183851</td>\n",
       "      <td>0.144700</td>\n",
       "      <td>0.030953</td>\n",
       "      <td>0.017649</td>\n",
       "      <td>0.031237</td>\n",
       "      <td>0.057392</td>\n",
       "      <td>0.052050</td>\n",
       "      <td>0.051936</td>\n",
       "      <td>0.024228</td>\n",
       "      <td>0.050061</td>\n",
       "      <td>...</td>\n",
       "      <td>0.046223</td>\n",
       "      <td>0.057279</td>\n",
       "      <td>0.001708</td>\n",
       "      <td>0.003286</td>\n",
       "      <td>0.052301</td>\n",
       "      <td>0.037696</td>\n",
       "      <td>0.035998</td>\n",
       "      <td>0.014846</td>\n",
       "      <td>0.012117</td>\n",
       "      <td>0.0</td>\n",
       "    </tr>\n",
       "    <tr>\n",
       "      <td>24997</td>\n",
       "      <td>0.233110</td>\n",
       "      <td>0.139969</td>\n",
       "      <td>0.002051</td>\n",
       "      <td>0.037213</td>\n",
       "      <td>0.009522</td>\n",
       "      <td>0.018335</td>\n",
       "      <td>0.038045</td>\n",
       "      <td>0.039119</td>\n",
       "      <td>0.042650</td>\n",
       "      <td>0.041869</td>\n",
       "      <td>...</td>\n",
       "      <td>0.009069</td>\n",
       "      <td>0.054490</td>\n",
       "      <td>0.042882</td>\n",
       "      <td>0.012795</td>\n",
       "      <td>0.050815</td>\n",
       "      <td>0.036035</td>\n",
       "      <td>0.064421</td>\n",
       "      <td>0.004446</td>\n",
       "      <td>0.058338</td>\n",
       "      <td>0.0</td>\n",
       "    </tr>\n",
       "    <tr>\n",
       "      <td>24998</td>\n",
       "      <td>0.385823</td>\n",
       "      <td>0.147990</td>\n",
       "      <td>0.020367</td>\n",
       "      <td>0.039171</td>\n",
       "      <td>0.048477</td>\n",
       "      <td>0.005939</td>\n",
       "      <td>0.054685</td>\n",
       "      <td>0.001109</td>\n",
       "      <td>0.063340</td>\n",
       "      <td>0.004468</td>\n",
       "      <td>...</td>\n",
       "      <td>0.008969</td>\n",
       "      <td>0.035846</td>\n",
       "      <td>0.063534</td>\n",
       "      <td>0.004761</td>\n",
       "      <td>0.016449</td>\n",
       "      <td>0.015478</td>\n",
       "      <td>0.063023</td>\n",
       "      <td>0.045238</td>\n",
       "      <td>0.032553</td>\n",
       "      <td>0.0</td>\n",
       "    </tr>\n",
       "    <tr>\n",
       "      <td>24999</td>\n",
       "      <td>0.372524</td>\n",
       "      <td>0.154933</td>\n",
       "      <td>0.051323</td>\n",
       "      <td>0.023417</td>\n",
       "      <td>0.041129</td>\n",
       "      <td>0.054543</td>\n",
       "      <td>0.031916</td>\n",
       "      <td>0.018348</td>\n",
       "      <td>0.061112</td>\n",
       "      <td>0.066377</td>\n",
       "      <td>...</td>\n",
       "      <td>0.025580</td>\n",
       "      <td>0.015994</td>\n",
       "      <td>0.006861</td>\n",
       "      <td>0.053001</td>\n",
       "      <td>0.024151</td>\n",
       "      <td>0.061955</td>\n",
       "      <td>0.012390</td>\n",
       "      <td>0.070073</td>\n",
       "      <td>0.029427</td>\n",
       "      <td>0.0</td>\n",
       "    </tr>\n",
       "  </tbody>\n",
       "</table>\n",
       "<p>25000 rows × 33 columns</p>\n",
       "</div>"
      ],
      "text/plain": [
       "            ret     stdev    sharpe    005930    000660    005935    035420  \\\n",
       "0      0.324874  0.123886  0.061867  0.019801  0.042846  0.012974  0.000278   \n",
       "1      0.271348  0.134045  0.010262  0.051428  0.023291  0.041497  0.022384   \n",
       "2      0.301115  0.129219  0.055395  0.035678  0.009562  0.031999  0.043511   \n",
       "3      0.406410  0.145096  0.039870  0.064262  0.051697  0.000832  0.011656   \n",
       "4      0.372072  0.154954  0.012224  0.058824  0.012478  0.042802  0.001965   \n",
       "...         ...       ...       ...       ...       ...       ...       ...   \n",
       "24995  0.317934  0.138092  0.011520  0.028746  0.044904  0.039649  0.052266   \n",
       "24996  0.183851  0.144700  0.030953  0.017649  0.031237  0.057392  0.052050   \n",
       "24997  0.233110  0.139969  0.002051  0.037213  0.009522  0.018335  0.038045   \n",
       "24998  0.385823  0.147990  0.020367  0.039171  0.048477  0.005939  0.054685   \n",
       "24999  0.372524  0.154933  0.051323  0.023417  0.041129  0.054543  0.031916   \n",
       "\n",
       "         005380    012330    068270  ...    096770    033780    035720  \\\n",
       "0      0.056622  0.009440  0.036675  ...  0.032770  0.022155  0.061939   \n",
       "1      0.051220  0.000723  0.017739  ...  0.019858  0.028886  0.033002   \n",
       "2      0.046492  0.023015  0.033842  ...  0.015898  0.018492  0.003499   \n",
       "3      0.041540  0.058013  0.009766  ...  0.041489  0.052000  0.053715   \n",
       "4      0.077375  0.060581  0.040798  ...  0.000764  0.051822  0.019368   \n",
       "...         ...       ...       ...  ...       ...       ...       ...   \n",
       "24995  0.025660  0.026166  0.057214  ...  0.022808  0.057459  0.029309   \n",
       "24996  0.051936  0.024228  0.050061  ...  0.046223  0.057279  0.001708   \n",
       "24997  0.039119  0.042650  0.041869  ...  0.009069  0.054490  0.042882   \n",
       "24998  0.001109  0.063340  0.004468  ...  0.008969  0.035846  0.063534   \n",
       "24999  0.018348  0.061112  0.066377  ...  0.025580  0.015994  0.006861   \n",
       "\n",
       "         003550    036570    066570    000810    090430    086790  010950  \n",
       "0      0.042035  0.019860  0.033414  0.003794  0.023148  0.058021     0.0  \n",
       "1      0.013351  0.046393  0.053349  0.052909  0.048671  0.032810     0.0  \n",
       "2      0.035458  0.057621  0.020957  0.022312  0.007107  0.037263     0.0  \n",
       "3      0.020531  0.034508  0.045817  0.049801  0.002524  0.001343     0.0  \n",
       "4      0.058664  0.013191  0.027462  0.048908  0.012730  0.064347     0.0  \n",
       "...         ...       ...       ...       ...       ...       ...     ...  \n",
       "24995  0.001259  0.005418  0.008898  0.008486  0.031765  0.045278     0.0  \n",
       "24996  0.003286  0.052301  0.037696  0.035998  0.014846  0.012117     0.0  \n",
       "24997  0.012795  0.050815  0.036035  0.064421  0.004446  0.058338     0.0  \n",
       "24998  0.004761  0.016449  0.015478  0.063023  0.045238  0.032553     0.0  \n",
       "24999  0.053001  0.024151  0.061955  0.012390  0.070073  0.029427     0.0  \n",
       "\n",
       "[25000 rows x 33 columns]"
      ]
     },
     "execution_count": 20,
     "metadata": {},
     "output_type": "execute_result"
    }
   ],
   "source": [
    "results_frame"
   ]
  },
  {
   "cell_type": "code",
   "execution_count": 21,
   "metadata": {},
   "outputs": [],
   "source": [
    "results_frame.to_excel(\"portfolio_generation_30.xlsx\")"
   ]
  },
  {
   "cell_type": "code",
   "execution_count": 22,
   "metadata": {},
   "outputs": [],
   "source": [
    "#locate position of portfolio with highest Sharpe Ratio\n",
    "max_sharpe_port = results_frame.iloc[results_frame['sharpe'].idxmax()]\n",
    "#locate positon of portfolio with minimum standard deviation\n",
    "min_vol_port = results_frame.iloc[results_frame['stdev'].idxmin()]"
   ]
  },
  {
   "cell_type": "code",
   "execution_count": 23,
   "metadata": {},
   "outputs": [
    {
     "name": "stdout",
     "output_type": "stream",
     "text": [
      "ret       0.320217\n",
      "stdev     0.119081\n",
      "sharpe    0.029399\n",
      "005930    0.035560\n",
      "000660    0.033358\n",
      "005935    0.012087\n",
      "035420    0.041369\n",
      "005380    0.039202\n",
      "012330    0.014612\n",
      "068270    0.045964\n",
      "051910    0.044033\n",
      "055550    0.049679\n",
      "017670    0.024423\n",
      "051900    0.010622\n",
      "105560    0.020711\n",
      "028260    0.023059\n",
      "005490    0.053648\n",
      "034730    0.050220\n",
      "015760    0.056377\n",
      "000270    0.042974\n",
      "006400    0.015050\n",
      "018260    0.029408\n",
      "032830    0.030678\n",
      "096770    0.029720\n",
      "033780    0.021062\n",
      "035720    0.058265\n",
      "003550    0.043322\n",
      "036570    0.020085\n",
      "066570    0.023259\n",
      "000810    0.022502\n",
      "090430    0.047282\n",
      "086790    0.032071\n",
      "010950    0.000000\n",
      "Name: 6267, dtype: float64\n"
     ]
    }
   ],
   "source": [
    "print(min_vol_port)"
   ]
  },
  {
   "cell_type": "code",
   "execution_count": 24,
   "metadata": {
    "scrolled": true
   },
   "outputs": [
    {
     "data": {
      "text/plain": [
       "Text(0, 0.5, 'Returns')"
      ]
     },
     "execution_count": 24,
     "metadata": {},
     "output_type": "execute_result"
    },
    {
     "data": {
      "image/png": "[encoded data removed]",
      "text/plain": [
       "<Figure size 432x288 with 1 Axes>"
      ]
     },
     "metadata": {
      "needs_background": "light"
     },
     "output_type": "display_data"
    }
   ],
   "source": [
    "#create scatter plot coloured by Sharpe Ratio\n",
    "plt.scatter(results_frame.stdev,results_frame.ret,c=results_frame.sharpe)\n",
    "plt.xlabel('Volatility')\n",
    "plt.ylabel('Returns')"
   ]
  },
  {
   "cell_type": "code",
   "execution_count": 26,
   "metadata": {},
   "outputs": [
    {
     "name": "stdout",
     "output_type": "stream",
     "text": [
      "optimal portfolio in market has return 0.3202170851054291 volatility 0.11908054643359241 for 3 years\n"
     ]
    }
   ],
   "source": [
    "print(\"optimal portfolio in market has return\" , min_vol_port[0] , \"volatility\" , min_vol_port[1], \"for 3 years\")"
   ]
  },
  {
   "cell_type": "code",
   "execution_count": 27,
   "metadata": {},
   "outputs": [
    {
     "data": {
      "text/plain": [
       "6267"
      ]
     },
     "execution_count": 27,
     "metadata": {},
     "output_type": "execute_result"
    }
   ],
   "source": [
    "best = results_frame[results_frame['ret']== min_vol_port[0]].index.tolist()\n",
    "best[0]"
   ]
  },
  {
   "cell_type": "code",
   "execution_count": 28,
   "metadata": {},
   "outputs": [
    {
     "data": {
      "text/html": [
       "<div>\n",
       "<style scoped>\n",
       "    .dataframe tbody tr th:only-of-type {\n",
       "        vertical-align: middle;\n",
       "    }\n",
       "\n",
       "    .dataframe tbody tr th {\n",
       "        vertical-align: top;\n",
       "    }\n",
       "\n",
       "    .dataframe thead th {\n",
       "        text-align: right;\n",
       "    }\n",
       "</style>\n",
       "<table border=\"1\" class=\"dataframe\">\n",
       "  <thead>\n",
       "    <tr style=\"text-align: right;\">\n",
       "      <th></th>\n",
       "      <th>005930</th>\n",
       "      <th>000660</th>\n",
       "      <th>005935</th>\n",
       "      <th>035420</th>\n",
       "      <th>005380</th>\n",
       "      <th>012330</th>\n",
       "      <th>068270</th>\n",
       "      <th>051910</th>\n",
       "      <th>055550</th>\n",
       "      <th>017670</th>\n",
       "      <th>...</th>\n",
       "      <th>096770</th>\n",
       "      <th>033780</th>\n",
       "      <th>035720</th>\n",
       "      <th>003550</th>\n",
       "      <th>036570</th>\n",
       "      <th>066570</th>\n",
       "      <th>000810</th>\n",
       "      <th>090430</th>\n",
       "      <th>086790</th>\n",
       "      <th>010950</th>\n",
       "    </tr>\n",
       "  </thead>\n",
       "  <tbody>\n",
       "    <tr>\n",
       "      <td>0</td>\n",
       "      <td>0.0000</td>\n",
       "      <td>0.0403</td>\n",
       "      <td>0.0268</td>\n",
       "      <td>0.0316</td>\n",
       "      <td>-0.0035</td>\n",
       "      <td>0.0000</td>\n",
       "      <td>-0.0206</td>\n",
       "      <td>-0.0133</td>\n",
       "      <td>0.0303</td>\n",
       "      <td>-0.0060</td>\n",
       "      <td>...</td>\n",
       "      <td>0.0342</td>\n",
       "      <td>0.0047</td>\n",
       "      <td>-0.0179</td>\n",
       "      <td>0.0321</td>\n",
       "      <td>-0.0090</td>\n",
       "      <td>0.0164</td>\n",
       "      <td>-0.0052</td>\n",
       "      <td>-0.0036</td>\n",
       "      <td>0.0243</td>\n",
       "      <td>-0.0168</td>\n",
       "    </tr>\n",
       "    <tr>\n",
       "      <td>1</td>\n",
       "      <td>0.0080</td>\n",
       "      <td>0.0018</td>\n",
       "      <td>0.0752</td>\n",
       "      <td>0.0000</td>\n",
       "      <td>-0.0244</td>\n",
       "      <td>-0.0042</td>\n",
       "      <td>0.0184</td>\n",
       "      <td>-0.0045</td>\n",
       "      <td>-0.0106</td>\n",
       "      <td>0.0000</td>\n",
       "      <td>...</td>\n",
       "      <td>-0.0041</td>\n",
       "      <td>-0.0047</td>\n",
       "      <td>-0.0043</td>\n",
       "      <td>0.0311</td>\n",
       "      <td>-0.0227</td>\n",
       "      <td>0.0000</td>\n",
       "      <td>-0.0052</td>\n",
       "      <td>0.0000</td>\n",
       "      <td>0.0055</td>\n",
       "      <td>0.0000</td>\n",
       "    </tr>\n",
       "    <tr>\n",
       "      <td>2</td>\n",
       "      <td>-0.0224</td>\n",
       "      <td>-0.0351</td>\n",
       "      <td>0.0010</td>\n",
       "      <td>-0.0051</td>\n",
       "      <td>-0.0179</td>\n",
       "      <td>0.0106</td>\n",
       "      <td>0.0009</td>\n",
       "      <td>-0.0105</td>\n",
       "      <td>-0.0048</td>\n",
       "      <td>0.0160</td>\n",
       "      <td>...</td>\n",
       "      <td>0.0373</td>\n",
       "      <td>-0.0140</td>\n",
       "      <td>0.0148</td>\n",
       "      <td>0.0067</td>\n",
       "      <td>0.0209</td>\n",
       "      <td>-0.0072</td>\n",
       "      <td>-0.0157</td>\n",
       "      <td>-0.0218</td>\n",
       "      <td>-0.0145</td>\n",
       "      <td>0.0249</td>\n",
       "    </tr>\n",
       "    <tr>\n",
       "      <td>3</td>\n",
       "      <td>-0.0163</td>\n",
       "      <td>0.0237</td>\n",
       "      <td>0.0000</td>\n",
       "      <td>-0.0103</td>\n",
       "      <td>-0.0073</td>\n",
       "      <td>0.0168</td>\n",
       "      <td>-0.0300</td>\n",
       "      <td>0.0000</td>\n",
       "      <td>0.0120</td>\n",
       "      <td>-0.0079</td>\n",
       "      <td>...</td>\n",
       "      <td>-0.0080</td>\n",
       "      <td>0.0000</td>\n",
       "      <td>0.0292</td>\n",
       "      <td>-0.0150</td>\n",
       "      <td>-0.0136</td>\n",
       "      <td>0.0270</td>\n",
       "      <td>-0.0035</td>\n",
       "      <td>0.0372</td>\n",
       "      <td>0.0203</td>\n",
       "      <td>0.0397</td>\n",
       "    </tr>\n",
       "    <tr>\n",
       "      <td>4</td>\n",
       "      <td>0.0090</td>\n",
       "      <td>0.0000</td>\n",
       "      <td>-0.0051</td>\n",
       "      <td>-0.0052</td>\n",
       "      <td>0.0000</td>\n",
       "      <td>0.0083</td>\n",
       "      <td>0.0018</td>\n",
       "      <td>0.0396</td>\n",
       "      <td>0.0083</td>\n",
       "      <td>-0.0119</td>\n",
       "      <td>...</td>\n",
       "      <td>0.0081</td>\n",
       "      <td>0.0000</td>\n",
       "      <td>-0.0075</td>\n",
       "      <td>-0.0085</td>\n",
       "      <td>0.0138</td>\n",
       "      <td>-0.0053</td>\n",
       "      <td>-0.0374</td>\n",
       "      <td>0.0179</td>\n",
       "      <td>0.0090</td>\n",
       "      <td>-0.0062</td>\n",
       "    </tr>\n",
       "    <tr>\n",
       "      <td>...</td>\n",
       "      <td>...</td>\n",
       "      <td>...</td>\n",
       "      <td>...</td>\n",
       "      <td>...</td>\n",
       "      <td>...</td>\n",
       "      <td>...</td>\n",
       "      <td>...</td>\n",
       "      <td>...</td>\n",
       "      <td>...</td>\n",
       "      <td>...</td>\n",
       "      <td>...</td>\n",
       "      <td>...</td>\n",
       "      <td>...</td>\n",
       "      <td>...</td>\n",
       "      <td>...</td>\n",
       "      <td>...</td>\n",
       "      <td>...</td>\n",
       "      <td>...</td>\n",
       "      <td>...</td>\n",
       "      <td>...</td>\n",
       "      <td>...</td>\n",
       "    </tr>\n",
       "    <tr>\n",
       "      <td>1089</td>\n",
       "      <td>0.0079</td>\n",
       "      <td>0.0000</td>\n",
       "      <td>-0.0012</td>\n",
       "      <td>0.0295</td>\n",
       "      <td>-0.0162</td>\n",
       "      <td>0.0000</td>\n",
       "      <td>0.0203</td>\n",
       "      <td>0.0017</td>\n",
       "      <td>0.0023</td>\n",
       "      <td>0.0064</td>\n",
       "      <td>...</td>\n",
       "      <td>-0.0062</td>\n",
       "      <td>-0.0192</td>\n",
       "      <td>0.0000</td>\n",
       "      <td>0.0058</td>\n",
       "      <td>-0.0191</td>\n",
       "      <td>0.0088</td>\n",
       "      <td>-0.0067</td>\n",
       "      <td>-0.0096</td>\n",
       "      <td>-0.0424</td>\n",
       "      <td>-0.0189</td>\n",
       "    </tr>\n",
       "    <tr>\n",
       "      <td>1090</td>\n",
       "      <td>-0.0039</td>\n",
       "      <td>0.0012</td>\n",
       "      <td>-0.0097</td>\n",
       "      <td>-0.0255</td>\n",
       "      <td>0.0082</td>\n",
       "      <td>0.0021</td>\n",
       "      <td>0.0224</td>\n",
       "      <td>-0.0066</td>\n",
       "      <td>0.0080</td>\n",
       "      <td>-0.0084</td>\n",
       "      <td>...</td>\n",
       "      <td>0.0093</td>\n",
       "      <td>-0.0049</td>\n",
       "      <td>-0.0036</td>\n",
       "      <td>0.0043</td>\n",
       "      <td>0.0000</td>\n",
       "      <td>0.0029</td>\n",
       "      <td>0.0000</td>\n",
       "      <td>0.0354</td>\n",
       "      <td>0.0177</td>\n",
       "      <td>-0.0192</td>\n",
       "    </tr>\n",
       "    <tr>\n",
       "      <td>1091</td>\n",
       "      <td>-0.0137</td>\n",
       "      <td>-0.0181</td>\n",
       "      <td>0.0024</td>\n",
       "      <td>0.0098</td>\n",
       "      <td>0.0000</td>\n",
       "      <td>0.0021</td>\n",
       "      <td>-0.0073</td>\n",
       "      <td>0.0167</td>\n",
       "      <td>-0.0193</td>\n",
       "      <td>-0.0043</td>\n",
       "      <td>...</td>\n",
       "      <td>-0.0215</td>\n",
       "      <td>0.0000</td>\n",
       "      <td>-0.0108</td>\n",
       "      <td>-0.0058</td>\n",
       "      <td>0.0117</td>\n",
       "      <td>-0.0072</td>\n",
       "      <td>-0.0136</td>\n",
       "      <td>0.1429</td>\n",
       "      <td>-0.0189</td>\n",
       "      <td>-0.0049</td>\n",
       "    </tr>\n",
       "    <tr>\n",
       "      <td>1092</td>\n",
       "      <td>0.0000</td>\n",
       "      <td>0.0061</td>\n",
       "      <td>-0.0012</td>\n",
       "      <td>0.0615</td>\n",
       "      <td>-0.0041</td>\n",
       "      <td>0.0000</td>\n",
       "      <td>-0.0196</td>\n",
       "      <td>0.0082</td>\n",
       "      <td>-0.0151</td>\n",
       "      <td>0.0128</td>\n",
       "      <td>...</td>\n",
       "      <td>0.0063</td>\n",
       "      <td>-0.0148</td>\n",
       "      <td>0.0254</td>\n",
       "      <td>0.0043</td>\n",
       "      <td>-0.0058</td>\n",
       "      <td>-0.0234</td>\n",
       "      <td>-0.0069</td>\n",
       "      <td>0.0435</td>\n",
       "      <td>-0.0030</td>\n",
       "      <td>-0.0177</td>\n",
       "    </tr>\n",
       "    <tr>\n",
       "      <td>1093</td>\n",
       "      <td>0.0159</td>\n",
       "      <td>0.0134</td>\n",
       "      <td>0.0231</td>\n",
       "      <td>0.0183</td>\n",
       "      <td>0.0164</td>\n",
       "      <td>0.0210</td>\n",
       "      <td>-0.0050</td>\n",
       "      <td>0.0049</td>\n",
       "      <td>0.0035</td>\n",
       "      <td>-0.0042</td>\n",
       "      <td>...</td>\n",
       "      <td>0.0031</td>\n",
       "      <td>0.0100</td>\n",
       "      <td>0.0283</td>\n",
       "      <td>0.0101</td>\n",
       "      <td>0.0426</td>\n",
       "      <td>0.0045</td>\n",
       "      <td>0.0115</td>\n",
       "      <td>0.0208</td>\n",
       "      <td>0.0148</td>\n",
       "      <td>0.0181</td>\n",
       "    </tr>\n",
       "  </tbody>\n",
       "</table>\n",
       "<p>1094 rows × 30 columns</p>\n",
       "</div>"
      ],
      "text/plain": [
       "      005930  000660  005935  035420  005380  012330  068270  051910  055550  \\\n",
       "0     0.0000  0.0403  0.0268  0.0316 -0.0035  0.0000 -0.0206 -0.0133  0.0303   \n",
       "1     0.0080  0.0018  0.0752  0.0000 -0.0244 -0.0042  0.0184 -0.0045 -0.0106   \n",
       "2    -0.0224 -0.0351  0.0010 -0.0051 -0.0179  0.0106  0.0009 -0.0105 -0.0048   \n",
       "3    -0.0163  0.0237  0.0000 -0.0103 -0.0073  0.0168 -0.0300  0.0000  0.0120   \n",
       "4     0.0090  0.0000 -0.0051 -0.0052  0.0000  0.0083  0.0018  0.0396  0.0083   \n",
       "...      ...     ...     ...     ...     ...     ...     ...     ...     ...   \n",
       "1089  0.0079  0.0000 -0.0012  0.0295 -0.0162  0.0000  0.0203  0.0017  0.0023   \n",
       "1090 -0.0039  0.0012 -0.0097 -0.0255  0.0082  0.0021  0.0224 -0.0066  0.0080   \n",
       "1091 -0.0137 -0.0181  0.0024  0.0098  0.0000  0.0021 -0.0073  0.0167 -0.0193   \n",
       "1092  0.0000  0.0061 -0.0012  0.0615 -0.0041  0.0000 -0.0196  0.0082 -0.0151   \n",
       "1093  0.0159  0.0134  0.0231  0.0183  0.0164  0.0210 -0.0050  0.0049  0.0035   \n",
       "\n",
       "      017670  ...  096770  033780  035720  003550  036570  066570  000810  \\\n",
       "0    -0.0060  ...  0.0342  0.0047 -0.0179  0.0321 -0.0090  0.0164 -0.0052   \n",
       "1     0.0000  ... -0.0041 -0.0047 -0.0043  0.0311 -0.0227  0.0000 -0.0052   \n",
       "2     0.0160  ...  0.0373 -0.0140  0.0148  0.0067  0.0209 -0.0072 -0.0157   \n",
       "3    -0.0079  ... -0.0080  0.0000  0.0292 -0.0150 -0.0136  0.0270 -0.0035   \n",
       "4    -0.0119  ...  0.0081  0.0000 -0.0075 -0.0085  0.0138 -0.0053 -0.0374   \n",
       "...      ...  ...     ...     ...     ...     ...     ...     ...     ...   \n",
       "1089  0.0064  ... -0.0062 -0.0192  0.0000  0.0058 -0.0191  0.0088 -0.0067   \n",
       "1090 -0.0084  ...  0.0093 -0.0049 -0.0036  0.0043  0.0000  0.0029  0.0000   \n",
       "1091 -0.0043  ... -0.0215  0.0000 -0.0108 -0.0058  0.0117 -0.0072 -0.0136   \n",
       "1092  0.0128  ...  0.0063 -0.0148  0.0254  0.0043 -0.0058 -0.0234 -0.0069   \n",
       "1093 -0.0042  ...  0.0031  0.0100  0.0283  0.0101  0.0426  0.0045  0.0115   \n",
       "\n",
       "      090430  086790  010950  \n",
       "0    -0.0036  0.0243 -0.0168  \n",
       "1     0.0000  0.0055  0.0000  \n",
       "2    -0.0218 -0.0145  0.0249  \n",
       "3     0.0372  0.0203  0.0397  \n",
       "4     0.0179  0.0090 -0.0062  \n",
       "...      ...     ...     ...  \n",
       "1089 -0.0096 -0.0424 -0.0189  \n",
       "1090  0.0354  0.0177 -0.0192  \n",
       "1091  0.1429 -0.0189 -0.0049  \n",
       "1092  0.0435 -0.0030 -0.0177  \n",
       "1093  0.0208  0.0148  0.0181  \n",
       "\n",
       "[1094 rows x 30 columns]"
      ]
     },
     "execution_count": 28,
     "metadata": {},
     "output_type": "execute_result"
    }
   ],
   "source": [
    "del stock['Date']\n",
    "stock"
   ]
  },
  {
   "cell_type": "code",
   "execution_count": 29,
   "metadata": {},
   "outputs": [
    {
     "data": {
      "text/plain": [
       "array([0.0355599 , 0.03335763, 0.01208714, 0.04136908, 0.03920228,\n",
       "       0.01461161, 0.0459639 , 0.04403259, 0.04967873, 0.02442349,\n",
       "       0.01062212, 0.02071059, 0.02305891, 0.05364769, 0.05022024,\n",
       "       0.05637697, 0.0429739 , 0.01505008, 0.02940833, 0.03067821,\n",
       "       0.0297199 , 0.02106192, 0.05826475, 0.04332176, 0.02008537,\n",
       "       0.02325874, 0.02250187, 0.04728201, 0.03207137, 0.        ])"
      ]
     },
     "execution_count": 29,
     "metadata": {},
     "output_type": "execute_result"
    }
   ],
   "source": [
    "port = np.zeros(30)\n",
    "for i in range(0,30):\n",
    "    port[i]=min_vol_port.iloc[i+3]\n",
    "port"
   ]
  },
  {
   "cell_type": "code",
   "execution_count": 30,
   "metadata": {},
   "outputs": [
    {
     "name": "stdout",
     "output_type": "stream",
     "text": [
      "[ 0.00484637  0.00243417 -0.0068013  ...  0.00337699  0.00412613\n",
      "  0.01032399]\n"
     ]
    }
   ],
   "source": [
    "equity_fund = np.dot(stock,port)\n",
    "print(equity_fund)"
   ]
  },
  {
   "cell_type": "code",
   "execution_count": 31,
   "metadata": {},
   "outputs": [
    {
     "data": {
      "text/html": [
       "<div>\n",
       "<style scoped>\n",
       "    .dataframe tbody tr th:only-of-type {\n",
       "        vertical-align: middle;\n",
       "    }\n",
       "\n",
       "    .dataframe tbody tr th {\n",
       "        vertical-align: top;\n",
       "    }\n",
       "\n",
       "    .dataframe thead th {\n",
       "        text-align: right;\n",
       "    }\n",
       "</style>\n",
       "<table border=\"1\" class=\"dataframe\">\n",
       "  <thead>\n",
       "    <tr style=\"text-align: right;\">\n",
       "      <th></th>\n",
       "      <th>equity_fund</th>\n",
       "    </tr>\n",
       "  </thead>\n",
       "  <tbody>\n",
       "    <tr>\n",
       "      <td>0</td>\n",
       "      <td>0.004846</td>\n",
       "    </tr>\n",
       "    <tr>\n",
       "      <td>1</td>\n",
       "      <td>0.002434</td>\n",
       "    </tr>\n",
       "    <tr>\n",
       "      <td>2</td>\n",
       "      <td>-0.006801</td>\n",
       "    </tr>\n",
       "    <tr>\n",
       "      <td>3</td>\n",
       "      <td>0.004324</td>\n",
       "    </tr>\n",
       "    <tr>\n",
       "      <td>4</td>\n",
       "      <td>-0.000043</td>\n",
       "    </tr>\n",
       "    <tr>\n",
       "      <td>...</td>\n",
       "      <td>...</td>\n",
       "    </tr>\n",
       "    <tr>\n",
       "      <td>1089</td>\n",
       "      <td>0.000228</td>\n",
       "    </tr>\n",
       "    <tr>\n",
       "      <td>1090</td>\n",
       "      <td>0.004260</td>\n",
       "    </tr>\n",
       "    <tr>\n",
       "      <td>1091</td>\n",
       "      <td>0.003377</td>\n",
       "    </tr>\n",
       "    <tr>\n",
       "      <td>1092</td>\n",
       "      <td>0.004126</td>\n",
       "    </tr>\n",
       "    <tr>\n",
       "      <td>1093</td>\n",
       "      <td>0.010324</td>\n",
       "    </tr>\n",
       "  </tbody>\n",
       "</table>\n",
       "<p>1094 rows × 1 columns</p>\n",
       "</div>"
      ],
      "text/plain": [
       "      equity_fund\n",
       "0        0.004846\n",
       "1        0.002434\n",
       "2       -0.006801\n",
       "3        0.004324\n",
       "4       -0.000043\n",
       "...           ...\n",
       "1089     0.000228\n",
       "1090     0.004260\n",
       "1091     0.003377\n",
       "1092     0.004126\n",
       "1093     0.010324\n",
       "\n",
       "[1094 rows x 1 columns]"
      ]
     },
     "execution_count": 31,
     "metadata": {},
     "output_type": "execute_result"
    }
   ],
   "source": [
    "equity = pd.DataFrame(equity_fund, columns = ['equity_fund'])\n",
    "equity"
   ]
  },
  {
   "cell_type": "code",
   "execution_count": 32,
   "metadata": {},
   "outputs": [
    {
     "data": {
      "text/html": [
       "<div>\n",
       "<style scoped>\n",
       "    .dataframe tbody tr th:only-of-type {\n",
       "        vertical-align: middle;\n",
       "    }\n",
       "\n",
       "    .dataframe tbody tr th {\n",
       "        vertical-align: top;\n",
       "    }\n",
       "\n",
       "    .dataframe thead th {\n",
       "        text-align: right;\n",
       "    }\n",
       "</style>\n",
       "<table border=\"1\" class=\"dataframe\">\n",
       "  <thead>\n",
       "    <tr style=\"text-align: right;\">\n",
       "      <th></th>\n",
       "      <th>date</th>\n",
       "      <th>yield</th>\n",
       "    </tr>\n",
       "  </thead>\n",
       "  <tbody>\n",
       "    <tr>\n",
       "      <td>0</td>\n",
       "      <td>2014/12/31</td>\n",
       "      <td>0.02095</td>\n",
       "    </tr>\n",
       "    <tr>\n",
       "      <td>1</td>\n",
       "      <td>2015/01/02</td>\n",
       "      <td>0.02135</td>\n",
       "    </tr>\n",
       "    <tr>\n",
       "      <td>2</td>\n",
       "      <td>2015/01/05</td>\n",
       "      <td>0.02115</td>\n",
       "    </tr>\n",
       "    <tr>\n",
       "      <td>3</td>\n",
       "      <td>2015/01/06</td>\n",
       "      <td>0.02080</td>\n",
       "    </tr>\n",
       "    <tr>\n",
       "      <td>4</td>\n",
       "      <td>2015/01/07</td>\n",
       "      <td>0.02077</td>\n",
       "    </tr>\n",
       "    <tr>\n",
       "      <td>...</td>\n",
       "      <td>...</td>\n",
       "      <td>...</td>\n",
       "    </tr>\n",
       "    <tr>\n",
       "      <td>1089</td>\n",
       "      <td>2019/06/04</td>\n",
       "      <td>0.01570</td>\n",
       "    </tr>\n",
       "    <tr>\n",
       "      <td>1090</td>\n",
       "      <td>2019/06/05</td>\n",
       "      <td>0.01540</td>\n",
       "    </tr>\n",
       "    <tr>\n",
       "      <td>1091</td>\n",
       "      <td>2019/06/07</td>\n",
       "      <td>0.01530</td>\n",
       "    </tr>\n",
       "    <tr>\n",
       "      <td>1092</td>\n",
       "      <td>2019/06/10</td>\n",
       "      <td>0.01530</td>\n",
       "    </tr>\n",
       "    <tr>\n",
       "      <td>1093</td>\n",
       "      <td>2019/06/11</td>\n",
       "      <td>0.01532</td>\n",
       "    </tr>\n",
       "  </tbody>\n",
       "</table>\n",
       "<p>1094 rows × 2 columns</p>\n",
       "</div>"
      ],
      "text/plain": [
       "            date    yield\n",
       "0     2014/12/31  0.02095\n",
       "1     2015/01/02  0.02135\n",
       "2     2015/01/05  0.02115\n",
       "3     2015/01/06  0.02080\n",
       "4     2015/01/07  0.02077\n",
       "...          ...      ...\n",
       "1089  2019/06/04  0.01570\n",
       "1090  2019/06/05  0.01540\n",
       "1091  2019/06/07  0.01530\n",
       "1092  2019/06/10  0.01530\n",
       "1093  2019/06/11  0.01532\n",
       "\n",
       "[1094 rows x 2 columns]"
      ]
     },
     "execution_count": 32,
     "metadata": {},
     "output_type": "execute_result"
    }
   ],
   "source": [
    "bond"
   ]
  },
  {
   "cell_type": "code",
   "execution_count": 33,
   "metadata": {},
   "outputs": [
    {
     "data": {
      "text/html": [
       "<div>\n",
       "<style scoped>\n",
       "    .dataframe tbody tr th:only-of-type {\n",
       "        vertical-align: middle;\n",
       "    }\n",
       "\n",
       "    .dataframe tbody tr th {\n",
       "        vertical-align: top;\n",
       "    }\n",
       "\n",
       "    .dataframe thead th {\n",
       "        text-align: right;\n",
       "    }\n",
       "</style>\n",
       "<table border=\"1\" class=\"dataframe\">\n",
       "  <thead>\n",
       "    <tr style=\"text-align: right;\">\n",
       "      <th></th>\n",
       "      <th>equity_fund</th>\n",
       "    </tr>\n",
       "  </thead>\n",
       "  <tbody>\n",
       "    <tr>\n",
       "      <td>0</td>\n",
       "      <td>0.004846</td>\n",
       "    </tr>\n",
       "    <tr>\n",
       "      <td>1</td>\n",
       "      <td>0.002434</td>\n",
       "    </tr>\n",
       "    <tr>\n",
       "      <td>2</td>\n",
       "      <td>-0.006801</td>\n",
       "    </tr>\n",
       "    <tr>\n",
       "      <td>3</td>\n",
       "      <td>0.004324</td>\n",
       "    </tr>\n",
       "    <tr>\n",
       "      <td>4</td>\n",
       "      <td>-0.000043</td>\n",
       "    </tr>\n",
       "    <tr>\n",
       "      <td>...</td>\n",
       "      <td>...</td>\n",
       "    </tr>\n",
       "    <tr>\n",
       "      <td>1089</td>\n",
       "      <td>0.000228</td>\n",
       "    </tr>\n",
       "    <tr>\n",
       "      <td>1090</td>\n",
       "      <td>0.004260</td>\n",
       "    </tr>\n",
       "    <tr>\n",
       "      <td>1091</td>\n",
       "      <td>0.003377</td>\n",
       "    </tr>\n",
       "    <tr>\n",
       "      <td>1092</td>\n",
       "      <td>0.004126</td>\n",
       "    </tr>\n",
       "    <tr>\n",
       "      <td>1093</td>\n",
       "      <td>0.010324</td>\n",
       "    </tr>\n",
       "  </tbody>\n",
       "</table>\n",
       "<p>1094 rows × 1 columns</p>\n",
       "</div>"
      ],
      "text/plain": [
       "      equity_fund\n",
       "0        0.004846\n",
       "1        0.002434\n",
       "2       -0.006801\n",
       "3        0.004324\n",
       "4       -0.000043\n",
       "...           ...\n",
       "1089     0.000228\n",
       "1090     0.004260\n",
       "1091     0.003377\n",
       "1092     0.004126\n",
       "1093     0.010324\n",
       "\n",
       "[1094 rows x 1 columns]"
      ]
     },
     "execution_count": 33,
     "metadata": {},
     "output_type": "execute_result"
    }
   ],
   "source": [
    "equity"
   ]
  },
  {
   "cell_type": "code",
   "execution_count": 35,
   "metadata": {},
   "outputs": [
    {
     "data": {
      "text/html": [
       "<div>\n",
       "<style scoped>\n",
       "    .dataframe tbody tr th:only-of-type {\n",
       "        vertical-align: middle;\n",
       "    }\n",
       "\n",
       "    .dataframe tbody tr th {\n",
       "        vertical-align: top;\n",
       "    }\n",
       "\n",
       "    .dataframe thead th {\n",
       "        text-align: right;\n",
       "    }\n",
       "</style>\n",
       "<table border=\"1\" class=\"dataframe\">\n",
       "  <thead>\n",
       "    <tr style=\"text-align: right;\">\n",
       "      <th></th>\n",
       "      <th>stock</th>\n",
       "      <th>bond</th>\n",
       "    </tr>\n",
       "  </thead>\n",
       "  <tbody>\n",
       "    <tr>\n",
       "      <td>0</td>\n",
       "      <td>0.004846</td>\n",
       "      <td>0.02095</td>\n",
       "    </tr>\n",
       "    <tr>\n",
       "      <td>1</td>\n",
       "      <td>0.002434</td>\n",
       "      <td>0.02135</td>\n",
       "    </tr>\n",
       "    <tr>\n",
       "      <td>2</td>\n",
       "      <td>-0.006801</td>\n",
       "      <td>0.02115</td>\n",
       "    </tr>\n",
       "    <tr>\n",
       "      <td>3</td>\n",
       "      <td>0.004324</td>\n",
       "      <td>0.02080</td>\n",
       "    </tr>\n",
       "    <tr>\n",
       "      <td>4</td>\n",
       "      <td>-0.000043</td>\n",
       "      <td>0.02077</td>\n",
       "    </tr>\n",
       "    <tr>\n",
       "      <td>...</td>\n",
       "      <td>...</td>\n",
       "      <td>...</td>\n",
       "    </tr>\n",
       "    <tr>\n",
       "      <td>1089</td>\n",
       "      <td>0.000228</td>\n",
       "      <td>0.01570</td>\n",
       "    </tr>\n",
       "    <tr>\n",
       "      <td>1090</td>\n",
       "      <td>0.004260</td>\n",
       "      <td>0.01540</td>\n",
       "    </tr>\n",
       "    <tr>\n",
       "      <td>1091</td>\n",
       "      <td>0.003377</td>\n",
       "      <td>0.01530</td>\n",
       "    </tr>\n",
       "    <tr>\n",
       "      <td>1092</td>\n",
       "      <td>0.004126</td>\n",
       "      <td>0.01530</td>\n",
       "    </tr>\n",
       "    <tr>\n",
       "      <td>1093</td>\n",
       "      <td>0.010324</td>\n",
       "      <td>0.01532</td>\n",
       "    </tr>\n",
       "  </tbody>\n",
       "</table>\n",
       "<p>1094 rows × 2 columns</p>\n",
       "</div>"
      ],
      "text/plain": [
       "         stock     bond\n",
       "0     0.004846  0.02095\n",
       "1     0.002434  0.02135\n",
       "2    -0.006801  0.02115\n",
       "3     0.004324  0.02080\n",
       "4    -0.000043  0.02077\n",
       "...        ...      ...\n",
       "1089  0.000228  0.01570\n",
       "1090  0.004260  0.01540\n",
       "1091  0.003377  0.01530\n",
       "1092  0.004126  0.01530\n",
       "1093  0.010324  0.01532\n",
       "\n",
       "[1094 rows x 2 columns]"
      ]
     },
     "execution_count": 35,
     "metadata": {},
     "output_type": "execute_result"
    }
   ],
   "source": [
    "df_logret = pd.DataFrame({'stock':equity['equity_fund'], 'bond':bond['yield'] })\n",
    "df_logret"
   ]
  },
  {
   "cell_type": "code",
   "execution_count": 36,
   "metadata": {},
   "outputs": [
    {
     "name": "stdout",
     "output_type": "stream",
     "text": [
      "stock    0.052288\n",
      "bond     0.017789\n",
      "dtype: float64\n"
     ]
    }
   ],
   "source": [
    "df_logret.iloc[:,1]=df_logret.iloc[:,1]/252\n",
    "mu = df_logret.mean()*252\n",
    "print(mu)"
   ]
  },
  {
   "cell_type": "code",
   "execution_count": 37,
   "metadata": {
    "scrolled": true
   },
   "outputs": [
    {
     "name": "stdout",
     "output_type": "stream",
     "text": [
      "mean of portfolio is stock    0.052288\n",
      "bond     0.017789\n",
      "dtype: float64\n",
      "cov of portfolio is [[ 3.82757126e-03 -1.18274743e-06]\n",
      " [-1.18274743e-06  2.81225309e-08]]\n"
     ]
    }
   ],
   "source": [
    "sigma = df_logret.cov()*252\n",
    "sigma = sigma.values\n",
    "print(\"mean of portfolio is\", mu)\n",
    "print(\"cov of portfolio is\", sigma)"
   ]
  },
  {
   "cell_type": "code",
   "execution_count": 38,
   "metadata": {},
   "outputs": [],
   "source": [
    "num_samples = 5000\n",
    "bond, stock = np.random.multivariate_normal(mu, sigma, num_samples).T"
   ]
  },
  {
   "cell_type": "code",
   "execution_count": 39,
   "metadata": {},
   "outputs": [
    {
     "data": {
      "text/plain": [
       "<matplotlib.collections.PathCollection at 0x225fbfb0cc8>"
      ]
     },
     "execution_count": 39,
     "metadata": {},
     "output_type": "execute_result"
    },
    {
     "data": {
      "image/png": "[encoded data removed]",
      "text/plain": [
       "<Figure size 432x288 with 1 Axes>"
      ]
     },
     "metadata": {
      "needs_background": "light"
     },
     "output_type": "display_data"
    }
   ],
   "source": [
    "plt.scatter(stock, bond)"
   ]
  },
  {
   "cell_type": "code",
   "execution_count": 40,
   "metadata": {},
   "outputs": [
    {
     "data": {
      "text/plain": [
       "<matplotlib.collections.PathCollection at 0x22580445a88>"
      ]
     },
     "execution_count": 40,
     "metadata": {},
     "output_type": "execute_result"
    },
    {
     "data": {
      "image/png": "[encoded data removed]",
      "text/plain": [
       "<Figure size 432x288 with 1 Axes>"
      ]
     },
     "metadata": {
      "needs_background": "light"
     },
     "output_type": "display_data"
    }
   ],
   "source": [
    "from sklearn.cluster import KMeans\n",
    "\n",
    "num_clusters =10\n",
    "kmeans = KMeans(n_clusters = num_clusters).fit(np.transpose([bond,stock]))\n",
    "\n",
    "plt.scatter(bond, stock, c=kmeans.labels_)\n",
    "plt.scatter(kmeans.cluster_centers_[:,0], kmeans.cluster_centers_[:,1], s=100,\n",
    "           color='white', edgecolor = 'black', linewidth=3)"
   ]
  },
  {
   "cell_type": "code",
   "execution_count": 41,
   "metadata": {},
   "outputs": [
    {
     "name": "stdout",
     "output_type": "stream",
     "text": [
      "Scenario probabilities\n",
      "\n",
      "cluster 0:  6.68%\n",
      "cluster 1: 13.16%\n",
      "cluster 2: 15.86%\n",
      "cluster 3:  2.96%\n",
      "cluster 4: 11.96%\n",
      "cluster 5:  3.06%\n",
      "cluster 6: 15.60%\n",
      "cluster 7: 13.50%\n",
      "cluster 8: 10.22%\n",
      "cluster 9:  7.00%\n"
     ]
    }
   ],
   "source": [
    "print(\"Scenario probabilities\\n\")\n",
    "p=np.zeros(num_clusters)\n",
    "for i in range(num_clusters):\n",
    "    p[i] = np.count_nonzero(kmeans.labels_== i)/num_samples\n",
    "    print(\"cluster \" +str(i)+\": {:6.2%}\".format(p[i],1))"
   ]
  },
  {
   "cell_type": "code",
   "execution_count": 42,
   "metadata": {},
   "outputs": [
    {
     "data": {
      "text/plain": [
       "array([[1.14740056, 1.01774808],\n",
       "       [1.01528359, 1.01779923],\n",
       "       [1.06440699, 1.01778922],\n",
       "       [0.90653605, 1.01781443],\n",
       "       [0.98704676, 1.01779979],\n",
       "       [1.19257383, 1.01774309],\n",
       "       [1.03997289, 1.01780211],\n",
       "       [1.08914885, 1.01778921],\n",
       "       [1.11553479, 1.01777629],\n",
       "       [0.95389052, 1.01781737]])"
      ]
     },
     "execution_count": 42,
     "metadata": {},
     "output_type": "execute_result"
    }
   ],
   "source": [
    "scenarios = 1 + kmeans.cluster_centers_\n",
    "scenarios"
   ]
  },
  {
   "cell_type": "code",
   "execution_count": 43,
   "metadata": {},
   "outputs": [],
   "source": [
    "import cvxpy as cp\n",
    "\n",
    "x_0 = cp.Variable(2)\n",
    "y = cp.Variable(num_clusters)\n",
    "w = cp.Variable(num_clusters)\n",
    "q=1 ;r=10\n",
    "initial_amount = 100\n",
    "goal_amount = 104"
   ]
  },
  {
   "cell_type": "code",
   "execution_count": 44,
   "metadata": {},
   "outputs": [],
   "source": [
    "goal= cp.Maximize(p.T * (q*y - r*w))\n",
    "prob= cp.Problem(goal,[sum(x_0) == initial_amount, scenarios * x_0 - y + w \n",
    "                      ==goal_amount * np.ones(num_clusters),x_0>=0, y>=0, w>=0])"
   ]
  },
  {
   "cell_type": "code",
   "execution_count": 45,
   "metadata": {},
   "outputs": [
    {
     "data": {
      "text/plain": [
       "-14.353946487016671"
      ]
     },
     "execution_count": 45,
     "metadata": {},
     "output_type": "execute_result"
    }
   ],
   "source": [
    "prob.solve(solver = cp.ECOS)"
   ]
  },
  {
   "cell_type": "code",
   "execution_count": 46,
   "metadata": {},
   "outputs": [
    {
     "name": "stdout",
     "output_type": "stream",
     "text": [
      "optiman asset allocation is stock:  47.64444903199438    bond : 52.35555096800562\n"
     ]
    }
   ],
   "source": [
    "print(\"optiman asset allocation is stock: \" ,x_0.value[0], \"   bond :\" ,x_0.value[1])"
   ]
  },
  {
   "cell_type": "code",
   "execution_count": 47,
   "metadata": {},
   "outputs": [
    {
     "name": "stdout",
     "output_type": "stream",
     "text": [
      "optimal allocation: 47.64, 52.36\n",
      "expected return: 3.34%\n"
     ]
    }
   ],
   "source": [
    "print(\"optimal allocation: \" +  \"{:2.2f}\".format(x_0.value[0]) + \", \" \n",
    "     + \"{:2.2f}\".format(x_0.value[1]))\n",
    "print(\"expected return: \"+\"{:.2%}\".format((goal_amount + np.dot(p, y.value-w.value))/initial_amount-1,1))"
   ]
  },
  {
   "cell_type": "code",
   "execution_count": 48,
   "metadata": {},
   "outputs": [
    {
     "data": {
      "text/plain": [
       "Text(0, 0.5, 'final wealth')"
      ]
     },
     "execution_count": 48,
     "metadata": {},
     "output_type": "execute_result"
    },
    {
     "data": {
      "image/png": "[encoded data removed]",
      "text/plain": [
       "<Figure size 432x288 with 1 Axes>"
      ]
     },
     "metadata": {
      "needs_background": "light"
     },
     "output_type": "display_data"
    }
   ],
   "source": [
    "fig, ax = plt.subplots(1,1)\n",
    "ax.bar(range(num_clusters), np.round(goal_amount+y.value,2),color='green',width=0.95)\n",
    "ax.bar(range(num_clusters), goal_amount, color='red', width =0.95)\n",
    "ax.bar(range(num_clusters), np.round(goal_amount-w.value,2),color ='grey',width =0.95)\n",
    "ax.set_xlabel('scenarios')\n",
    "ax.set_ylabel('final wealth')"
   ]
  },
  {
   "cell_type": "markdown",
   "metadata": {},
   "source": [
    "Value at risk and Expected shortfall measure"
   ]
  },
  {
   "cell_type": "code",
   "execution_count": 51,
   "metadata": {},
   "outputs": [
    {
     "data": {
      "text/html": [
       "<div>\n",
       "<style scoped>\n",
       "    .dataframe tbody tr th:only-of-type {\n",
       "        vertical-align: middle;\n",
       "    }\n",
       "\n",
       "    .dataframe tbody tr th {\n",
       "        vertical-align: top;\n",
       "    }\n",
       "\n",
       "    .dataframe thead th {\n",
       "        text-align: right;\n",
       "    }\n",
       "</style>\n",
       "<table border=\"1\" class=\"dataframe\">\n",
       "  <thead>\n",
       "    <tr style=\"text-align: right;\">\n",
       "      <th></th>\n",
       "      <th>stock</th>\n",
       "      <th>bond</th>\n",
       "      <th>port</th>\n",
       "    </tr>\n",
       "  </thead>\n",
       "  <tbody>\n",
       "    <tr>\n",
       "      <td>0</td>\n",
       "      <td>0.230903</td>\n",
       "      <td>0.004353</td>\n",
       "      <td>0.235255</td>\n",
       "    </tr>\n",
       "    <tr>\n",
       "      <td>1</td>\n",
       "      <td>0.115975</td>\n",
       "      <td>0.004436</td>\n",
       "      <td>0.120410</td>\n",
       "    </tr>\n",
       "    <tr>\n",
       "      <td>2</td>\n",
       "      <td>-0.324044</td>\n",
       "      <td>0.004394</td>\n",
       "      <td>-0.319650</td>\n",
       "    </tr>\n",
       "    <tr>\n",
       "      <td>3</td>\n",
       "      <td>0.206006</td>\n",
       "      <td>0.004321</td>\n",
       "      <td>0.210327</td>\n",
       "    </tr>\n",
       "    <tr>\n",
       "      <td>4</td>\n",
       "      <td>-0.002051</td>\n",
       "      <td>0.004315</td>\n",
       "      <td>0.002264</td>\n",
       "    </tr>\n",
       "    <tr>\n",
       "      <td>...</td>\n",
       "      <td>...</td>\n",
       "      <td>...</td>\n",
       "      <td>...</td>\n",
       "    </tr>\n",
       "    <tr>\n",
       "      <td>1089</td>\n",
       "      <td>0.010881</td>\n",
       "      <td>0.003262</td>\n",
       "      <td>0.014143</td>\n",
       "    </tr>\n",
       "    <tr>\n",
       "      <td>1090</td>\n",
       "      <td>0.202946</td>\n",
       "      <td>0.003200</td>\n",
       "      <td>0.206146</td>\n",
       "    </tr>\n",
       "    <tr>\n",
       "      <td>1091</td>\n",
       "      <td>0.160895</td>\n",
       "      <td>0.003179</td>\n",
       "      <td>0.164074</td>\n",
       "    </tr>\n",
       "    <tr>\n",
       "      <td>1092</td>\n",
       "      <td>0.196587</td>\n",
       "      <td>0.003179</td>\n",
       "      <td>0.199766</td>\n",
       "    </tr>\n",
       "    <tr>\n",
       "      <td>1093</td>\n",
       "      <td>0.491881</td>\n",
       "      <td>0.003183</td>\n",
       "      <td>0.495064</td>\n",
       "    </tr>\n",
       "  </tbody>\n",
       "</table>\n",
       "<p>1094 rows × 3 columns</p>\n",
       "</div>"
      ],
      "text/plain": [
       "         stock      bond      port\n",
       "0     0.230903  0.004353  0.235255\n",
       "1     0.115975  0.004436  0.120410\n",
       "2    -0.324044  0.004394 -0.319650\n",
       "3     0.206006  0.004321  0.210327\n",
       "4    -0.002051  0.004315  0.002264\n",
       "...        ...       ...       ...\n",
       "1089  0.010881  0.003262  0.014143\n",
       "1090  0.202946  0.003200  0.206146\n",
       "1091  0.160895  0.003179  0.164074\n",
       "1092  0.196587  0.003179  0.199766\n",
       "1093  0.491881  0.003183  0.495064\n",
       "\n",
       "[1094 rows x 3 columns]"
      ]
     },
     "execution_count": 51,
     "metadata": {},
     "output_type": "execute_result"
    }
   ],
   "source": [
    "port_return = df_logret\n",
    "for i in range(0,1094):\n",
    "    port_return.iloc[i,0] = port_return.iloc[i,0]*x_0.value[0]\n",
    "    port_return.iloc[i,1] = port_return.iloc[i,1]*x_0.value[1]\n",
    "port_return['port'] = port_return.iloc[:,1]+port_return.iloc[:,0]\n",
    "port_return"
   ]
  },
  {
   "cell_type": "code",
   "execution_count": 54,
   "metadata": {},
   "outputs": [
    {
     "name": "stdout",
     "output_type": "stream",
     "text": [
      "expected daily return 0.013581862349352472\n",
      "expected daily stdev 0.1856214192930056\n"
     ]
    }
   ],
   "source": [
    "print(\"expected daily return\", port_return.iloc[:,2].mean())\n",
    "print(\"expected daily stdev\", port_return.iloc[:,2].std())"
   ]
  },
  {
   "cell_type": "code",
   "execution_count": 70,
   "metadata": {},
   "outputs": [
    {
     "name": "stdout",
     "output_type": "stream",
     "text": [
      "Sample mean  = 0.00136\n",
      "Sample stdev = 0.01855\n",
      "\n",
      "nu = 13.00\n",
      "\n"
     ]
    }
   ],
   "source": [
    "# N(x; mu, sig) best fit (finding: mu, stdev)\n",
    "mu_norm, sig_norm = norm.fit(port_return.iloc[:,2])\n",
    "dx = 0.0001  # resolution\n",
    "x = np.arange(-0.1, 0.1, dx)\n",
    "pdf = norm.pdf(x, mu_norm, sig_norm)\n",
    "\n",
    "mu_norm = mu_norm/10\n",
    "sig_norm = sig_norm/10\n",
    "\n",
    "print(\"Sample mean  = %.5f\" % mu_norm)\n",
    "print(\"Sample stdev = %.5f\" % sig_norm)\n",
    "print()\n",
    " \n",
    "# Student t best fit (finding: nu)\n",
    "parm = t.fit(port_return.iloc[:,2])\n",
    "nu, mu_t, sig_t = parm\n",
    "nu = np.round(nu)\n",
    "pdf2 = t.pdf(x, nu, mu_t, sig_t)\n",
    "print(\"nu = %.2f\" % nu)\n",
    "print()\n",
    " \n",
    "# Compute VaRs and CVaRs\n",
    " \n",
    "h = 1\n",
    "alpha = 0.01  # significance level\n",
    "lev = 100*(1-alpha)\n",
    "xanu = t.ppf(alpha, nu)\n",
    " \n",
    "CVaR_n = alpha**-1 * norm.pdf(norm.ppf(alpha))*sig_norm - mu_norm\n",
    "VaR_n = norm.ppf(1-alpha)*sig_norm - mu_norm\n",
    " \n",
    "VaR_t = np.sqrt((nu-2)/nu) * t.ppf(1-alpha, nu)*sig_norm  - h*mu_norm\n",
    "CVaR_t = -1/alpha * (1-nu)**(-1) * (nu-2+xanu**2) * \\\n",
    "                t.pdf(xanu, nu)*sig_norm  - h*mu_norm"
   ]
  },
  {
   "cell_type": "code",
   "execution_count": 71,
   "metadata": {},
   "outputs": [
    {
     "name": "stdout",
     "output_type": "stream",
     "text": [
      "99% 1-day Normal VaR     = 4.18%\n",
      "99% 1-day Normal t CVaR  = 4.81%\n",
      "99% 1-day Student t VaR  = 4.39%\n",
      "99% 1-day Student t CVaR = 5.17%\n"
     ]
    }
   ],
   "source": [
    "print(\"%g%% %g-day Normal VaR     = %.2f%%\" % (lev, h, VaR_n*100))\n",
    "print(\"%g%% %g-day Normal t CVaR  = %.2f%%\" % (lev, h, CVaR_n*100))\n",
    "print(\"%g%% %g-day Student t VaR  = %.2f%%\" % (lev, h, VaR_t *100))\n",
    "print(\"%g%% %g-day Student t CVaR = %.2f%%\" % (lev, h, CVaR_t*100))"
   ]
  },
  {
   "cell_type": "code",
   "execution_count": 59,
   "metadata": {},
   "outputs": [
    {
     "name": "stdout",
     "output_type": "stream",
     "text": [
      "[1.78279491 1.78338298 1.78397073 ... 1.93062504 1.93014184 1.92965819]\n",
      "[1.8030112  1.80377113 1.80453076 ... 2.03067517 2.0300481  2.0294205 ]\n"
     ]
    }
   ],
   "source": [
    "print(pdf)\n",
    "print(pdf2)"
   ]
  },
  {
   "cell_type": "code",
   "execution_count": 216,
   "metadata": {},
   "outputs": [
    {
     "ename": "AttributeError",
     "evalue": "module 'matplotlib.pyplot' has no attribute 'hold'",
     "output_type": "error",
     "traceback": [
      "\u001b[1;31m---------------------------------------------------------------------------\u001b[0m",
      "\u001b[1;31mAttributeError\u001b[0m                            Traceback (most recent call last)",
      "\u001b[1;32m<ipython-input-216-b95e8527c046>\u001b[0m in \u001b[0;36m<module>\u001b[1;34m\u001b[0m\n\u001b[0;32m      2\u001b[0m \u001b[1;31m# main figure\u001b[0m\u001b[1;33m\u001b[0m\u001b[1;33m\u001b[0m\u001b[1;33m\u001b[0m\u001b[0m\n\u001b[0;32m      3\u001b[0m \u001b[0mplt\u001b[0m\u001b[1;33m.\u001b[0m\u001b[0mhist\u001b[0m\u001b[1;33m(\u001b[0m\u001b[0mport_return\u001b[0m\u001b[1;33m.\u001b[0m\u001b[0miloc\u001b[0m\u001b[1;33m[\u001b[0m\u001b[1;33m:\u001b[0m\u001b[1;33m,\u001b[0m\u001b[1;36m2\u001b[0m\u001b[1;33m]\u001b[0m\u001b[1;33m,\u001b[0m \u001b[0mbins\u001b[0m\u001b[1;33m=\u001b[0m\u001b[1;36m50\u001b[0m\u001b[1;33m,\u001b[0m \u001b[0mdensity\u001b[0m\u001b[1;33m=\u001b[0m\u001b[1;32mTrue\u001b[0m\u001b[1;33m,\u001b[0m\u001b[0mcolor\u001b[0m\u001b[1;33m=\u001b[0m\u001b[0mgrey\u001b[0m\u001b[1;33m,\u001b[0m \u001b[0medgecolor\u001b[0m\u001b[1;33m=\u001b[0m\u001b[1;34m'none'\u001b[0m\u001b[1;33m)\u001b[0m\u001b[1;33m\u001b[0m\u001b[1;33m\u001b[0m\u001b[0m\n\u001b[1;32m----> 4\u001b[1;33m \u001b[0mplt\u001b[0m\u001b[1;33m.\u001b[0m\u001b[0mhold\u001b[0m\u001b[1;33m(\u001b[0m\u001b[1;32mTrue\u001b[0m\u001b[1;33m)\u001b[0m\u001b[1;33m\u001b[0m\u001b[1;33m\u001b[0m\u001b[0m\n\u001b[0m\u001b[0;32m      5\u001b[0m \u001b[0mplt\u001b[0m\u001b[1;33m.\u001b[0m\u001b[0maxis\u001b[0m\u001b[1;33m(\u001b[0m\u001b[1;34m\"tight\"\u001b[0m\u001b[1;33m)\u001b[0m\u001b[1;33m\u001b[0m\u001b[1;33m\u001b[0m\u001b[0m\n\u001b[0;32m      6\u001b[0m \u001b[0mplt\u001b[0m\u001b[1;33m.\u001b[0m\u001b[0mxlim\u001b[0m\u001b[1;33m(\u001b[0m\u001b[1;33m[\u001b[0m\u001b[1;33m-\u001b[0m\u001b[1;36m0.2\u001b[0m\u001b[1;33m,\u001b[0m \u001b[1;36m0.1\u001b[0m\u001b[1;33m]\u001b[0m\u001b[1;33m)\u001b[0m\u001b[1;33m\u001b[0m\u001b[1;33m\u001b[0m\u001b[0m\n",
      "\u001b[1;31mAttributeError\u001b[0m: module 'matplotlib.pyplot' has no attribute 'hold'"
     ]
    },
    {
     "data": {
      "image/png": "[encoded data removed]",
      "text/plain": [
       "<Figure size 792x432 with 1 Axes>"
      ]
     },
     "metadata": {
      "needs_background": "light"
     },
     "output_type": "display_data"
    }
   ],
   "source": [
    "plt.figure(num=1, figsize=(11, 6))\n",
    "# main figure\n",
    "plt.hist(port_return.iloc[:,2], bins=50, density=True,color=grey, edgecolor='none')\n",
    "plt.hold(True)\n",
    "plt.axis(\"tight\")\n",
    "plt.xlim([-0.2, 0.1])\n",
    "plt.ylim([0, 50])\n",
    "plt.xlabel(\"Daily Returns of optimal portfolio\")\n",
    "plt.ylabel(\"Normalised Return Distribution\")\n",
    "plt.show()"
   ]
  },
  {
   "cell_type": "code",
   "execution_count": 218,
   "metadata": {},
   "outputs": [
    {
     "data": {
      "image/png": "[encoded data removed]",
      "text/plain": [
       "<Figure size 792x432 with 1 Axes>"
      ]
     },
     "metadata": {
      "needs_background": "light"
     },
     "output_type": "display_data"
    },
    {
     "data": {
      "text/plain": [
       "<Figure size 432x288 with 0 Axes>"
      ]
     },
     "metadata": {},
     "output_type": "display_data"
    }
   ],
   "source": [
    "plt.figure(num=1, figsize=(11, 6))\n",
    "# main figure\n",
    "plt.hist(port_return.iloc[:,2], bins=50, density=True,color=grey, edgecolor='none')\n",
    "plt.axis(\"tight\")\n",
    "plt.xlim([-0.2, 0.1])\n",
    "plt.ylim([0, 50])\n",
    "plt.xlabel(\"Daily Returns of optimal portfolio\")\n",
    "plt.ylabel(\"Normalised Return Distribution\")\n",
    "plt.show()\n",
    "plt.savefig('histogram.png')"
   ]
  },
  {
   "cell_type": "code",
   "execution_count": null,
   "metadata": {},
   "outputs": [],
   "source": []
  }
 ],
 "metadata": {
  "kernelspec": {
   "display_name": "Python 3",
   "language": "python",
   "name": "python3"
  },
  "language_info": {
   "codemirror_mode": {
    "name": "ipython",
    "version": 3
   },
   "file_extension": ".py",
   "mimetype": "text/x-python",
   "name": "python",
   "nbconvert_exporter": "python",
   "pygments_lexer": "ipython3",
   "version": "3.8.5"
  }
 },
 "nbformat": 4,
 "nbformat_minor": 2
}
