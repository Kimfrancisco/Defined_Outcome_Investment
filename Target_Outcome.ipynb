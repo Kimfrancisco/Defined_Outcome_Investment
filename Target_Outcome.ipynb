{
 "cells": [
  {
   "cell_type": "code",
   "execution_count": 1,
   "metadata": {
    "collapsed": true
   },
   "outputs": [],
   "source": [
    "### Target Outcome Fund Aims to achieve return profile with certainty\n",
    "## It is also known as Defined Outcome"
   ]
  },
  {
   "cell_type": "code",
   "execution_count": 2,
   "outputs": [],
   "source": [
    "import os\n",
    "import pandas as pd\n",
    "import numpy as np\n",
    "\n",
    "import pricing"
   ],
   "metadata": {
    "collapsed": false,
    "pycharm": {
     "name": "#%%\n"
    }
   }
  },
  {
   "cell_type": "code",
   "execution_count": 3,
   "outputs": [],
   "source": [
    "BASE_DIR = 'C:\\work\\Defined_Outcome_Investment'\n",
    "data_dir =  os.path.join(BASE_DIR , 'Data')"
   ],
   "metadata": {
    "collapsed": false,
    "pycharm": {
     "name": "#%%\n"
    }
   }
  },
  {
   "cell_type": "code",
   "execution_count": 4,
   "outputs": [],
   "source": [
    "risk_free_historical = pd.read_csv(os.path.join(data_dir,'DTB3.csv'))\n",
    "dividend_yield_historical = pd.read_csv(os.path.join(data_dir,'MULTPL-SP500_DIV_YIELD_MONTH.csv'))"
   ],
   "metadata": {
    "collapsed": false,
    "pycharm": {
     "name": "#%%\n"
    }
   }
  },
  {
   "cell_type": "code",
   "execution_count": 5,
   "outputs": [],
   "source": [
    "# option_type, position, time_to_maturity, spot_price, strike_price, risk_free, 'dividend_yield', 'implied_vol'\n",
    "aa = pricing.option_pricing(option_type='call', position = 'long', time_to_maturity=1, spot_price=421, strike_price=400, risk_free=0.0165, dividend_yield=0.02, implied_vol=0.10)"
   ],
   "metadata": {
    "collapsed": false,
    "pycharm": {
     "name": "#%%\n"
    }
   }
  },
  {
   "cell_type": "code",
   "execution_count": 6,
   "outputs": [
    {
     "name": "stdout",
     "output_type": "stream",
     "text": [
      "27.468155957029694\n",
      "[  0.           0.           0.         ... 104.95812352 104.96812352\n",
      " 104.97812352]\n",
      "option price is : 27.468155957029694\n",
      "[-6.52450260e-02 -6.52450260e-02 -6.52450260e-02 ...  1.04892878e+02\n",
      "  1.04902878e+02  1.04912878e+02]\n"
     ]
    }
   ],
   "source": [
    "print(aa.bsm())\n",
    "print(aa.plain_payoff())\n",
    "print(aa.option_payoff())\n"
   ],
   "metadata": {
    "collapsed": false,
    "pycharm": {
     "name": "#%%\n"
    }
   }
  },
  {
   "cell_type": "code",
   "execution_count": 10,
   "outputs": [],
   "source": [
    "a_layer = pricing.option_pricing(option_type = 'call', position = 'long', time_to_maturity = 1, spot_price = 423.94, strike_price = 0.6 * 429.94 , risk_free=0.0165, dividend_yield=0.02, implied_vol=0.10)\n",
    "b_layer = pricing.option_pricing(option_type = 'put' , position = 'short', time_to_maturity = 1, spot_price = 423.94, strike_price = 0.6 * 429.94 , risk_free=0.0165, dividend_yield=0.02, implied_vol=0.10)\n",
    "c_layer = pricing.option_pricing(option_type = 'put' , position = 'long', time_to_maturity = 1, spot_price = 423.94, strike_price = 1.2 * 429.94 , risk_free=0.0165, dividend_yield=0.02, implied_vol=0.10)\n",
    "d_layer = pricing.option_pricing(option_type = 'call', position = 'short', time_to_maturity = 1, spot_price = 423.94, strike_price = 1.2 * 429.94 , risk_free=0.0165, dividend_yield=0.02, implied_vol=0.10)\n",
    "f_layer = pricing.option_pricing(option_type = 'put' , position = 'short', time_to_maturity = 1, spot_price = 423.94, strike_price = 0.85 * 429.94, risk_free=0.0165, dividend_yield=0.02, implied_vol=0.10)\n",
    "g_layer = pricing.option_pricing(option_type = 'put' , position = 'long', time_to_maturity = 1, spot_price = 423.94, strike_price = 1.0 * 429.94 , risk_free=0.0165, dividend_yield=0.02, implied_vol=0.10)"
   ],
   "metadata": {
    "collapsed": false,
    "pycharm": {
     "name": "#%%\n"
    }
   }
  },
  {
   "cell_type": "code",
   "execution_count": 11,
   "outputs": [
    {
     "name": "stdout",
     "output_type": "stream",
     "text": [
      "161.80291103445325\n",
      "[  0.           0.           0.         ... 139.12082323 139.13082323\n",
      " 139.14082323]\n",
      "option price is : 161.80291103445325\n",
      "[ -0.38166465  -0.38166465  -0.38166465 ... 138.73915858 138.74915858\n",
      " 138.75915858]\n"
     ]
    }
   ],
   "source": [
    "print(a_layer.bsm())\n",
    "print(a_layer.plain_payoff())\n",
    "print(a_layer.option_payoff())"
   ],
   "metadata": {
    "collapsed": false,
    "pycharm": {
     "name": "#%%\n"
    }
   }
  },
  {
   "cell_type": "code",
   "execution_count": 15,
   "outputs": [
    {
     "name": "stdout",
     "output_type": "stream",
     "text": [
      "option price is : 161.80291103445325\n"
     ]
    },
    {
     "ename": "AttributeError",
     "evalue": "'option_pricing' object has no attribute 'payoff_space'",
     "output_type": "error",
     "traceback": [
      "\u001B[1;31m---------------------------------------------------------------------------\u001B[0m",
      "\u001B[1;31mAttributeError\u001B[0m                            Traceback (most recent call last)",
      "\u001B[1;32m<ipython-input-15-2db4470246d1>\u001B[0m in \u001B[0;36m<module>\u001B[1;34m\u001B[0m\n\u001B[0;32m      1\u001B[0m \u001B[0mresult_payoff\u001B[0m \u001B[1;33m=\u001B[0m \u001B[0ma_layer\u001B[0m\u001B[1;33m.\u001B[0m\u001B[0moption_payoff\u001B[0m\u001B[1;33m(\u001B[0m\u001B[1;33m)\u001B[0m\u001B[1;33m\u001B[0m\u001B[1;33m\u001B[0m\u001B[0m\n\u001B[1;32m----> 2\u001B[1;33m \u001B[0mresult_payoff\u001B[0m \u001B[1;33m=\u001B[0m \u001B[0mresult_payoff\u001B[0m \u001B[1;33m+\u001B[0m \u001B[0mb_layer\u001B[0m\u001B[1;33m.\u001B[0m\u001B[0moption_payoff\u001B[0m\u001B[1;33m(\u001B[0m\u001B[1;33m)\u001B[0m\u001B[1;33m\u001B[0m\u001B[1;33m\u001B[0m\u001B[0m\n\u001B[0m\u001B[0;32m      3\u001B[0m \u001B[0mresult_payoff\u001B[0m \u001B[1;33m=\u001B[0m \u001B[0mresult_payoff\u001B[0m \u001B[1;33m+\u001B[0m \u001B[0mc_layer\u001B[0m\u001B[1;33m.\u001B[0m\u001B[0moption_payoff\u001B[0m\u001B[1;33m(\u001B[0m\u001B[1;33m)\u001B[0m\u001B[1;33m\u001B[0m\u001B[1;33m\u001B[0m\u001B[0m\n\u001B[0;32m      4\u001B[0m \u001B[0mresult_payoff\u001B[0m \u001B[1;33m=\u001B[0m \u001B[0mresult_payoff\u001B[0m \u001B[1;33m+\u001B[0m \u001B[0md_layer\u001B[0m\u001B[1;33m.\u001B[0m\u001B[0moption_payoff\u001B[0m\u001B[1;33m(\u001B[0m\u001B[1;33m)\u001B[0m\u001B[1;33m\u001B[0m\u001B[1;33m\u001B[0m\u001B[0m\n\u001B[0;32m      5\u001B[0m \u001B[0mresult_payoff\u001B[0m \u001B[1;33m=\u001B[0m \u001B[0mresult_payoff\u001B[0m \u001B[1;33m+\u001B[0m \u001B[0mf_layer\u001B[0m\u001B[1;33m.\u001B[0m\u001B[0moption_payoff\u001B[0m\u001B[1;33m(\u001B[0m\u001B[1;33m)\u001B[0m\u001B[1;33m\u001B[0m\u001B[1;33m\u001B[0m\u001B[0m\n",
      "\u001B[1;32mC:\\work\\Defined_Outcome_Investment\\pricing.py\u001B[0m in \u001B[0;36moption_payoff\u001B[1;34m(self)\u001B[0m\n\u001B[0;32m    101\u001B[0m             \u001B[0mself\u001B[0m\u001B[1;33m.\u001B[0m\u001B[0mopt_payoff\u001B[0m \u001B[1;33m=\u001B[0m \u001B[0mself\u001B[0m\u001B[1;33m.\u001B[0m\u001B[0mpayoff_space\u001B[0m \u001B[1;33m-\u001B[0m \u001B[1;33m(\u001B[0m\u001B[0mself\u001B[0m\u001B[1;33m.\u001B[0m\u001B[0mopt_price\u001B[0m\u001B[1;33m/\u001B[0m\u001B[0mself\u001B[0m\u001B[1;33m.\u001B[0m\u001B[0mspot_price\u001B[0m\u001B[1;33m)\u001B[0m\u001B[1;33m\u001B[0m\u001B[1;33m\u001B[0m\u001B[0m\n\u001B[0;32m    102\u001B[0m         \u001B[1;32melif\u001B[0m \u001B[0mself\u001B[0m\u001B[1;33m.\u001B[0m\u001B[0mposition\u001B[0m \u001B[1;33m==\u001B[0m \u001B[1;34m'short'\u001B[0m\u001B[1;33m:\u001B[0m\u001B[1;33m\u001B[0m\u001B[1;33m\u001B[0m\u001B[0m\n\u001B[1;32m--> 103\u001B[1;33m             \u001B[0mself\u001B[0m\u001B[1;33m.\u001B[0m\u001B[0mopt_payoff\u001B[0m \u001B[1;33m=\u001B[0m \u001B[0mself\u001B[0m\u001B[1;33m.\u001B[0m\u001B[0mpayoff_space\u001B[0m \u001B[1;33m+\u001B[0m \u001B[1;33m(\u001B[0m\u001B[0mself\u001B[0m\u001B[1;33m.\u001B[0m\u001B[0mopt_price\u001B[0m\u001B[1;33m/\u001B[0m\u001B[0mself\u001B[0m\u001B[1;33m.\u001B[0m\u001B[0mspot_price\u001B[0m\u001B[1;33m)\u001B[0m\u001B[1;33m\u001B[0m\u001B[1;33m\u001B[0m\u001B[0m\n\u001B[0m\u001B[0;32m    104\u001B[0m         \u001B[1;32melse\u001B[0m\u001B[1;33m:\u001B[0m\u001B[1;33m\u001B[0m\u001B[1;33m\u001B[0m\u001B[0m\n\u001B[0;32m    105\u001B[0m             \u001B[0mprint\u001B[0m\u001B[1;33m(\u001B[0m\u001B[1;34m\"option position is not valid\"\u001B[0m\u001B[1;33m)\u001B[0m\u001B[1;33m\u001B[0m\u001B[1;33m\u001B[0m\u001B[0m\n",
      "\u001B[1;31mAttributeError\u001B[0m: 'option_pricing' object has no attribute 'payoff_space'"
     ]
    }
   ],
   "source": [
    "result_payoff = a_layer.option_payoff()\n",
    "result_payoff = result_payoff + b_layer.option_payoff()\n",
    "result_payoff = result_payoff + c_layer.option_payoff()\n",
    "result_payoff = result_payoff + d_layer.option_payoff()\n",
    "result_payoff = result_payoff + f_layer.option_payoff()\n",
    "result_payoff = result_payoff + g_layer.option_payoff()\n",
    "print(result_payoff)"
   ],
   "metadata": {
    "collapsed": false,
    "pycharm": {
     "name": "#%%\n"
    }
   }
  },
  {
   "cell_type": "code",
   "execution_count": null,
   "outputs": [],
   "source": [],
   "metadata": {
    "collapsed": false,
    "pycharm": {
     "name": "#%%\n"
    }
   }
  }
 ],
 "metadata": {
  "kernelspec": {
   "display_name": "Python 3",
   "language": "python",
   "name": "python3"
  },
  "language_info": {
   "codemirror_mode": {
    "name": "ipython",
    "version": 2
   },
   "file_extension": ".py",
   "mimetype": "text/x-python",
   "name": "python",
   "nbconvert_exporter": "python",
   "pygments_lexer": "ipython2",
   "version": "2.7.6"
  }
 },
 "nbformat": 4,
 "nbformat_minor": 0
}