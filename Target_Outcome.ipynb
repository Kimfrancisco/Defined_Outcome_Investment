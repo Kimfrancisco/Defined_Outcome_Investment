{
 "cells": [
  {
   "cell_type": "code",
   "execution_count": 1,
   "metadata": {
    "collapsed": true
   },
   "outputs": [],
   "source": [
    "### Target Outcome Fund Aims to achieve return profile with certainty\n",
    "## It is also known as Defined Outcome"
   ]
  },
  {
   "cell_type": "code",
   "execution_count": 1,
   "outputs": [],
   "source": [
    "import os\n",
    "import pandas as pd\n",
    "import numpy as np\n",
    "import matplotlib.pyplot as plt\n",
    "\n",
    "import pricing"
   ],
   "metadata": {
    "collapsed": false,
    "pycharm": {
     "name": "#%%\n"
    }
   }
  },
  {
   "cell_type": "code",
   "execution_count": 2,
   "outputs": [],
   "source": [
    "BASE_DIR = 'C:\\work\\Defined_Outcome_Investment'\n",
    "data_dir =  os.path.join(BASE_DIR , 'Data')"
   ],
   "metadata": {
    "collapsed": false,
    "pycharm": {
     "name": "#%%\n"
    }
   }
  },
  {
   "cell_type": "code",
   "execution_count": 3,
   "outputs": [],
   "source": [
    "risk_free_historical = pd.read_csv(os.path.join(data_dir,'DTB3.csv'))\n",
    "dividend_yield_historical = pd.read_csv(os.path.join(data_dir,'MULTPL-SP500_DIV_YIELD_MONTH.csv'))"
   ],
   "metadata": {
    "collapsed": false,
    "pycharm": {
     "name": "#%%\n"
    }
   }
  },
  {
   "cell_type": "code",
   "execution_count": 4,
   "outputs": [],
   "source": [
    "# option_type, position, time_to_maturity, spot_price, strike_price, risk_free, 'dividend_yield', 'implied_vol'\n",
    "aa = pricing.option_pricing(option_type='call', position = 'long', time_to_maturity=1, spot_price=421, strike_price=400, risk_free=0.0165, dividend_yield=0.02, implied_vol=0.10)"
   ],
   "metadata": {
    "collapsed": false,
    "pycharm": {
     "name": "#%%\n"
    }
   }
  },
  {
   "cell_type": "code",
   "execution_count": 5,
   "outputs": [
    {
     "name": "stdout",
     "output_type": "stream",
     "text": [
      "27.468155957029694\n",
      "[  0.           0.           0.         ... 104.95812352 104.96812352\n",
      " 104.97812352]\n",
      "[-6.52450260e-02 -6.52450260e-02 -6.52450260e-02 ...  1.04892878e+02\n",
      "  1.04902878e+02  1.04912878e+02]\n"
     ]
    }
   ],
   "source": [
    "print(aa.bsm())\n",
    "print(aa.plain_payoff())\n",
    "print(aa.option_payoff())\n"
   ],
   "metadata": {
    "collapsed": false,
    "pycharm": {
     "name": "#%%\n"
    }
   }
  },
  {
   "cell_type": "code",
   "execution_count": 27,
   "outputs": [],
   "source": [
    "a_layer = pricing.option_pricing(option_type = 'call', position = 'long', time_to_maturity = 1, spot_price = 423.94, strike_price = 0.6 * 429.94 , risk_free=0.0165, dividend_yield=0.02, implied_vol=0.20)\n",
    "b_layer = pricing.option_pricing(option_type = 'put' , position = 'short', time_to_maturity = 1, spot_price = 423.94, strike_price = 0.6 * 429.94 , risk_free=0.0165, dividend_yield=0.02, implied_vol=0.20)\n",
    "c_layer = pricing.option_pricing(option_type = 'put' , position = 'long', time_to_maturity = 1, spot_price = 423.94, strike_price = 1.2 * 429.94 , risk_free=0.0165, dividend_yield=0.02, implied_vol=0.20)\n",
    "d_layer = pricing.option_pricing(option_type = 'call', position = 'short', time_to_maturity = 1, spot_price = 423.94, strike_price = 1.2 * 429.94 , risk_free=0.0165, dividend_yield=0.02, implied_vol=0.20)\n",
    "f_layer = pricing.option_pricing(option_type = 'put' , position = 'short', time_to_maturity = 1, spot_price = 423.94, strike_price = 0.85 * 429.94, risk_free=0.0165, dividend_yield=0.02, implied_vol=0.20)\n",
    "g_layer = pricing.option_pricing(option_type = 'put' , position = 'long', time_to_maturity = 1, spot_price = 423.94, strike_price = 1.0 * 429.94 , risk_free=0.0165, dividend_yield=0.02, implied_vol=0.20)\n",
    "h_layer = pricing.option_pricing(option_type = 'call' , position = 'short', time_to_maturity = 1, spot_price = 423.94, strike_price = 1.1 * 429.94 , risk_free=0.0165, dividend_yield=0.02, implied_vol=0.20)"
   ],
   "metadata": {
    "collapsed": false,
    "pycharm": {
     "name": "#%%\n"
    }
   }
  },
  {
   "cell_type": "code",
   "execution_count": 28,
   "outputs": [
    {
     "name": "stdout",
     "output_type": "stream",
     "text": [
      "[ 14.20620961  14.21620961  14.22620961 ... 110.5507395  110.5507395\n",
      " 110.5507395 ]\n",
      "100.4092100393444\n"
     ]
    }
   ],
   "source": [
    "result_payoff = (2*a_layer.option_payoff()) + (2*b_layer.option_payoff()) + c_layer.option_payoff() + d_layer.option_payoff() + f_layer.option_payoff() + g_layer.option_payoff() +(h_layer.option_payoff())\n",
    "print(result_payoff)\n",
    "print(result_payoff[int(len(result_payoff) / 2)])"
   ],
   "metadata": {
    "collapsed": false,
    "pycharm": {
     "name": "#%%\n"
    }
   }
  },
  {
   "cell_type": "code",
   "execution_count": 29,
   "outputs": [
    {
     "data": {
      "text/plain": "[<matplotlib.lines.Line2D at 0x221653f35e0>]"
     },
     "execution_count": 29,
     "metadata": {},
     "output_type": "execute_result"
    },
    {
     "data": {
      "text/plain": "<Figure size 432x288 with 1 Axes>",
      "image/png": "[encoded data removed]"
     },
     "metadata": {
      "needs_background": "light"
     },
     "output_type": "display_data"
    }
   ],
   "source": [
    "plt.plot(result_payoff)"
   ],
   "metadata": {
    "collapsed": false,
    "pycharm": {
     "name": "#%%\n"
    }
   }
  },
  {
   "cell_type": "code",
   "execution_count": 30,
   "outputs": [
    {
     "name": "stdout",
     "output_type": "stream",
     "text": [
      "[121.69835354 121.68835354 121.67835354 ...   0.           0.\n",
      "   0.        ]\n",
      "[121.46347016 121.45347016 121.44347016 ...  -0.23488338  -0.23488338\n",
      "  -0.23488338]\n",
      "20000 20000\n",
      "0.23488338047451474\n",
      "21.463470160120863\n"
     ]
    }
   ],
   "source": [
    "print(c_layer.plain_payoff())\n",
    "print(c_layer.option_payoff())\n",
    "print(len(c_layer.option_payoff()) , len(c_layer.plain_payoff()))\n",
    "print(c_layer.bsm() /c_layer.spot_price)\n",
    "print(c_layer.option_payoff()[int(len(result_payoff) / 2)])"
   ],
   "metadata": {
    "collapsed": false,
    "pycharm": {
     "name": "#%%\n"
    }
   }
  },
  {
   "cell_type": "code",
   "execution_count": 6,
   "outputs": [],
   "source": [],
   "metadata": {
    "collapsed": false,
    "pycharm": {
     "name": "#%%\n"
    }
   }
  },
  {
   "cell_type": "code",
   "execution_count": 31,
   "outputs": [
    {
     "data": {
      "text/plain": "[<matplotlib.lines.Line2D at 0x221655bf820>]"
     },
     "execution_count": 31,
     "metadata": {},
     "output_type": "execute_result"
    },
    {
     "data": {
      "text/plain": "<Figure size 432x288 with 1 Axes>",
      "image/png": "[encoded data removed]"
     },
     "metadata": {
      "needs_background": "light"
     },
     "output_type": "display_data"
    }
   ],
   "source": [],
   "metadata": {
    "collapsed": false,
    "pycharm": {
     "name": "#%%\n"
    }
   }
  }
 ],
 "metadata": {
  "kernelspec": {
   "display_name": "Python 3",
   "language": "python",
   "name": "python3"
  },
  "language_info": {
   "codemirror_mode": {
    "name": "ipython",
    "version": 2
   },
   "file_extension": ".py",
   "mimetype": "text/x-python",
   "name": "python",
   "nbconvert_exporter": "python",
   "pygments_lexer": "ipython2",
   "version": "2.7.6"
  }
 },
 "nbformat": 4,
 "nbformat_minor": 0
}