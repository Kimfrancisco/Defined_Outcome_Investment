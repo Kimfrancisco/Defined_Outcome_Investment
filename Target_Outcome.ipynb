{
 "cells": [
  {
   "cell_type": "code",
   "execution_count": 1,
   "metadata": {
    "collapsed": true
   },
   "outputs": [],
   "source": [
    "### Target Outcome Fund Aims to achieve return profile with certainty\n",
    "## It is also known as Defined Outcome"
   ]
  },
  {
   "cell_type": "code",
   "execution_count": 1,
   "outputs": [],
   "source": [
    "import os\n",
    "import pandas as pd\n",
    "import numpy as np\n",
    "import matplotlib.pyplot as plt"
   ],
   "metadata": {
    "collapsed": false,
    "pycharm": {
     "name": "#%%\n"
    }
   }
  },
  {
   "cell_type": "code",
   "execution_count": null,
   "outputs": [],
   "source": [
    "import pricing"
   ],
   "metadata": {
    "collapsed": false,
    "pycharm": {
     "name": "#%%\n"
    }
   }
  },
  {
   "cell_type": "code",
   "execution_count": 2,
   "outputs": [],
   "source": [
    "BASE_DIR = 'C:\\work\\Defined_Outcome_Investment'\n",
    "data_dir =  os.path.join(BASE_DIR , 'Data')\n",
    "\n",
    "risk_free_historical = pd.read_csv(os.path.join(data_dir,'DTB3.csv'))\n",
    "dividend_yield_historical = pd.read_csv(os.path.join(data_dir,'MULTPL-SP500_DIV_YIELD_MONTH.csv'))"
   ],
   "metadata": {
    "collapsed": false,
    "pycharm": {
     "name": "#%%\n"
    }
   }
  },
  {
   "cell_type": "code",
   "execution_count": 4,
   "outputs": [],
   "source": [
    "a_layer = pricing.option_pricing(option_type = 'call', position = 'long' , time_to_maturity = 1, spot_price = 423.94, strike_price = 0.6 * 429.94 , risk_free=0.0165, dividend_yield=0.02, implied_vol=0.20)\n",
    "b_layer = pricing.option_pricing(option_type = 'put' , position = 'short', time_to_maturity = 1, spot_price = 423.94, strike_price = 0.6 * 429.94 , risk_free=0.0165, dividend_yield=0.02, implied_vol=0.20)\n",
    "c_layer = pricing.option_pricing(option_type = 'put' , position = 'long' , time_to_maturity = 1, spot_price = 423.94, strike_price = 1.2 * 429.94 , risk_free=0.0165, dividend_yield=0.02, implied_vol=0.20)\n",
    "d_layer = pricing.option_pricing(option_type = 'call', position = 'short', time_to_maturity = 1, spot_price = 423.94, strike_price = 1.2 * 429.94 , risk_free=0.0165, dividend_yield=0.02, implied_vol=0.20)\n",
    "f_layer = pricing.option_pricing(option_type = 'put' , position = 'short', time_to_maturity = 1, spot_price = 423.94, strike_price = 0.85 * 429.94, risk_free=0.0165, dividend_yield=0.02, implied_vol=0.20)\n",
    "g_layer = pricing.option_pricing(option_type = 'put' , position = 'long' , time_to_maturity = 1, spot_price = 423.94, strike_price = 1.0 * 429.94 , risk_free=0.0165, dividend_yield=0.02, implied_vol=0.20)\n",
    "h_layer = pricing.option_pricing(option_type = 'call', position = 'short', time_to_maturity = 1, spot_price = 423.94, strike_price = 1.1 * 429.94 , risk_free=0.0165, dividend_yield=0.02, implied_vol=0.20)"
   ],
   "metadata": {
    "collapsed": false,
    "pycharm": {
     "name": "#%%\n"
    }
   }
  },
  {
   "cell_type": "code",
   "execution_count": 5,
   "outputs": [
    {
     "name": "stdout",
     "output_type": "stream",
     "text": [
      "[ 14.20620961  15.20620961  16.20620961  17.20620961  18.20620961\n",
      "  19.20620961  20.20620961  21.20620961  22.20620961  23.20620961\n",
      "  24.20620961  25.20620961  26.20620961  27.20620961  28.20620961\n",
      "  29.20620961  30.20620961  31.20620961  32.20620961  33.20620961\n",
      "  34.20620961  35.20620961  36.20620961  37.20620961  38.20620961\n",
      "  39.20620961  40.20620961  41.20620961  42.20620961  43.20620961\n",
      "  44.20620961  45.20620961  46.20620961  47.20620961  48.20620961\n",
      "  49.20620961  50.20620961  51.20620961  52.20620961  53.20620961\n",
      "  54.20620961  55.20620961  56.20620961  57.20620961  58.20620961\n",
      "  59.20620961  60.20620961  61.20620961  62.20620961  63.20620961\n",
      "  64.20620961  65.20620961  66.20620961  67.20620961  68.20620961\n",
      "  69.20620961  70.20620961  71.20620961  72.20620961  73.20620961\n",
      "  74.20620961  75.20620961  76.20620961  77.20620961  78.20620961\n",
      "  79.20620961  80.20620961  81.20620961  82.20620961  83.20620961\n",
      "  84.20620961  85.20620961  86.20620961  87.20620961  88.20620961\n",
      "  89.20620961  90.20620961  91.20620961  92.20620961  93.20620961\n",
      "  94.20620961  95.20620961  96.20620961  97.20620961  98.20620961\n",
      "  99.20620961 100.20620961 100.40921004 100.40921004 100.40921004\n",
      " 100.40921004 100.40921004 100.40921004 100.40921004 100.40921004\n",
      " 100.40921004 100.40921004 100.40921004 100.40921004 100.40921004\n",
      " 100.40921004 100.40921004 100.99391542 101.99391542 102.99391542\n",
      " 103.99391542 104.99391542 105.99391542 106.99391542 107.99391542\n",
      " 108.99391542 109.99391542 110.5507395  110.5507395  110.5507395\n",
      " 110.5507395  110.5507395  110.5507395  110.5507395  110.5507395\n",
      " 110.5507395  110.5507395  110.5507395  110.5507395  110.5507395\n",
      " 110.5507395  110.5507395  110.5507395  110.5507395  110.5507395\n",
      " 110.5507395  110.5507395  110.5507395  110.5507395  110.5507395\n",
      " 110.5507395  110.5507395  110.5507395  110.5507395  110.5507395\n",
      " 110.5507395  110.5507395  110.5507395  110.5507395  110.5507395\n",
      " 110.5507395  110.5507395  110.5507395  110.5507395  110.5507395\n",
      " 110.5507395  110.5507395  110.5507395  110.5507395  110.5507395\n",
      " 110.5507395  110.5507395  110.5507395  110.5507395  110.5507395\n",
      " 110.5507395  110.5507395  110.5507395  110.5507395  110.5507395\n",
      " 110.5507395  110.5507395  110.5507395  110.5507395  110.5507395\n",
      " 110.5507395  110.5507395  110.5507395  110.5507395  110.5507395\n",
      " 110.5507395  110.5507395  110.5507395  110.5507395  110.5507395\n",
      " 110.5507395  110.5507395  110.5507395  110.5507395  110.5507395\n",
      " 110.5507395  110.5507395  110.5507395  110.5507395  110.5507395\n",
      " 110.5507395  110.5507395  110.5507395  110.5507395  110.5507395\n",
      " 110.5507395  110.5507395  110.5507395  110.5507395  110.5507395 ]\n",
      "100.4092100393444\n"
     ]
    }
   ],
   "source": [
    "result_payoff = (2*a_layer.option_payoff()) + (2*b_layer.option_payoff()) + c_layer.option_payoff() + d_layer.option_payoff() + f_layer.option_payoff() + g_layer.option_payoff() +(h_layer.option_payoff())\n",
    "print(result_payoff)\n",
    "print(result_payoff[int(len(result_payoff) / 2)])"
   ],
   "metadata": {
    "collapsed": false,
    "pycharm": {
     "name": "#%%\n"
    }
   }
  },
  {
   "cell_type": "code",
   "execution_count": 6,
   "outputs": [
    {
     "data": {
      "text/plain": "[<matplotlib.lines.Line2D at 0x1fd81e89340>]"
     },
     "execution_count": 6,
     "metadata": {},
     "output_type": "execute_result"
    },
    {
     "data": {
      "text/plain": "<Figure size 432x288 with 1 Axes>",
      "image/png": "[encoded data removed]"
     },
     "metadata": {
      "needs_background": "light"
     },
     "output_type": "display_data"
    }
   ],
   "source": [
    "plt.plot(result_payoff)"
   ],
   "metadata": {
    "collapsed": false,
    "pycharm": {
     "name": "#%%\n"
    }
   }
  },
  {
   "cell_type": "code",
   "execution_count": 7,
   "outputs": [
    {
     "name": "stdout",
     "output_type": "stream",
     "text": [
      "[121.69835354 120.69835354 119.69835354 118.69835354 117.69835354\n",
      " 116.69835354 115.69835354 114.69835354 113.69835354 112.69835354\n",
      " 111.69835354 110.69835354 109.69835354 108.69835354 107.69835354\n",
      " 106.69835354 105.69835354 104.69835354 103.69835354 102.69835354\n",
      " 101.69835354 100.69835354  99.69835354  98.69835354  97.69835354\n",
      "  96.69835354  95.69835354  94.69835354  93.69835354  92.69835354\n",
      "  91.69835354  90.69835354  89.69835354  88.69835354  87.69835354\n",
      "  86.69835354  85.69835354  84.69835354  83.69835354  82.69835354\n",
      "  81.69835354  80.69835354  79.69835354  78.69835354  77.69835354\n",
      "  76.69835354  75.69835354  74.69835354  73.69835354  72.69835354\n",
      "  71.69835354  70.69835354  69.69835354  68.69835354  67.69835354\n",
      "  66.69835354  65.69835354  64.69835354  63.69835354  62.69835354\n",
      "  61.69835354  60.69835354  59.69835354  58.69835354  57.69835354\n",
      "  56.69835354  55.69835354  54.69835354  53.69835354  52.69835354\n",
      "  51.69835354  50.69835354  49.69835354  48.69835354  47.69835354\n",
      "  46.69835354  45.69835354  44.69835354  43.69835354  42.69835354\n",
      "  41.69835354  40.69835354  39.69835354  38.69835354  37.69835354\n",
      "  36.69835354  35.69835354  34.69835354  33.69835354  32.69835354\n",
      "  31.69835354  30.69835354  29.69835354  28.69835354  27.69835354\n",
      "  26.69835354  25.69835354  24.69835354  23.69835354  22.69835354\n",
      "  21.69835354  20.69835354  19.69835354  18.69835354  17.69835354\n",
      "  16.69835354  15.69835354  14.69835354  13.69835354  12.69835354\n",
      "  11.69835354  10.69835354   9.69835354   8.69835354   7.69835354\n",
      "   6.69835354   5.69835354   4.69835354   3.69835354   2.69835354\n",
      "   1.69835354   0.69835354   0.           0.           0.\n",
      "   0.           0.           0.           0.           0.\n",
      "   0.           0.           0.           0.           0.\n",
      "   0.           0.           0.           0.           0.\n",
      "   0.           0.           0.           0.           0.\n",
      "   0.           0.           0.           0.           0.\n",
      "   0.           0.           0.           0.           0.\n",
      "   0.           0.           0.           0.           0.\n",
      "   0.           0.           0.           0.           0.\n",
      "   0.           0.           0.           0.           0.\n",
      "   0.           0.           0.           0.           0.\n",
      "   0.           0.           0.           0.           0.\n",
      "   0.           0.           0.           0.           0.\n",
      "   0.           0.           0.           0.           0.\n",
      "   0.           0.           0.           0.           0.\n",
      "   0.           0.           0.           0.           0.        ]\n",
      "[121.46347016 120.46347016 119.46347016 118.46347016 117.46347016\n",
      " 116.46347016 115.46347016 114.46347016 113.46347016 112.46347016\n",
      " 111.46347016 110.46347016 109.46347016 108.46347016 107.46347016\n",
      " 106.46347016 105.46347016 104.46347016 103.46347016 102.46347016\n",
      " 101.46347016 100.46347016  99.46347016  98.46347016  97.46347016\n",
      "  96.46347016  95.46347016  94.46347016  93.46347016  92.46347016\n",
      "  91.46347016  90.46347016  89.46347016  88.46347016  87.46347016\n",
      "  86.46347016  85.46347016  84.46347016  83.46347016  82.46347016\n",
      "  81.46347016  80.46347016  79.46347016  78.46347016  77.46347016\n",
      "  76.46347016  75.46347016  74.46347016  73.46347016  72.46347016\n",
      "  71.46347016  70.46347016  69.46347016  68.46347016  67.46347016\n",
      "  66.46347016  65.46347016  64.46347016  63.46347016  62.46347016\n",
      "  61.46347016  60.46347016  59.46347016  58.46347016  57.46347016\n",
      "  56.46347016  55.46347016  54.46347016  53.46347016  52.46347016\n",
      "  51.46347016  50.46347016  49.46347016  48.46347016  47.46347016\n",
      "  46.46347016  45.46347016  44.46347016  43.46347016  42.46347016\n",
      "  41.46347016  40.46347016  39.46347016  38.46347016  37.46347016\n",
      "  36.46347016  35.46347016  34.46347016  33.46347016  32.46347016\n",
      "  31.46347016  30.46347016  29.46347016  28.46347016  27.46347016\n",
      "  26.46347016  25.46347016  24.46347016  23.46347016  22.46347016\n",
      "  21.46347016  20.46347016  19.46347016  18.46347016  17.46347016\n",
      "  16.46347016  15.46347016  14.46347016  13.46347016  12.46347016\n",
      "  11.46347016  10.46347016   9.46347016   8.46347016   7.46347016\n",
      "   6.46347016   5.46347016   4.46347016   3.46347016   2.46347016\n",
      "   1.46347016   0.46347016  -0.23488338  -0.23488338  -0.23488338\n",
      "  -0.23488338  -0.23488338  -0.23488338  -0.23488338  -0.23488338\n",
      "  -0.23488338  -0.23488338  -0.23488338  -0.23488338  -0.23488338\n",
      "  -0.23488338  -0.23488338  -0.23488338  -0.23488338  -0.23488338\n",
      "  -0.23488338  -0.23488338  -0.23488338  -0.23488338  -0.23488338\n",
      "  -0.23488338  -0.23488338  -0.23488338  -0.23488338  -0.23488338\n",
      "  -0.23488338  -0.23488338  -0.23488338  -0.23488338  -0.23488338\n",
      "  -0.23488338  -0.23488338  -0.23488338  -0.23488338  -0.23488338\n",
      "  -0.23488338  -0.23488338  -0.23488338  -0.23488338  -0.23488338\n",
      "  -0.23488338  -0.23488338  -0.23488338  -0.23488338  -0.23488338\n",
      "  -0.23488338  -0.23488338  -0.23488338  -0.23488338  -0.23488338\n",
      "  -0.23488338  -0.23488338  -0.23488338  -0.23488338  -0.23488338\n",
      "  -0.23488338  -0.23488338  -0.23488338  -0.23488338  -0.23488338\n",
      "  -0.23488338  -0.23488338  -0.23488338  -0.23488338  -0.23488338\n",
      "  -0.23488338  -0.23488338  -0.23488338  -0.23488338  -0.23488338\n",
      "  -0.23488338  -0.23488338  -0.23488338  -0.23488338  -0.23488338]\n",
      "200 200\n",
      "0.23488338047451474\n",
      "21.463470160120863\n"
     ]
    }
   ],
   "source": [
    "print(c_layer.plain_payoff())\n",
    "print(c_layer.option_payoff())\n",
    "print(len(c_layer.option_payoff()) , len(c_layer.plain_payoff()))\n",
    "print(c_layer.bsm() /c_layer.spot_price)\n",
    "print(c_layer.option_payoff()[int(len(result_payoff) / 2)])"
   ],
   "metadata": {
    "collapsed": false,
    "pycharm": {
     "name": "#%%\n"
    }
   }
  },
  {
   "cell_type": "code",
   "execution_count": 6,
   "outputs": [],
   "source": [],
   "metadata": {
    "collapsed": false,
    "pycharm": {
     "name": "#%%\n"
    }
   }
  }
 ],
 "metadata": {
  "kernelspec": {
   "display_name": "Python 3",
   "language": "python",
   "name": "python3"
  },
  "language_info": {
   "codemirror_mode": {
    "name": "ipython",
    "version": 2
   },
   "file_extension": ".py",
   "mimetype": "text/x-python",
   "name": "python",
   "nbconvert_exporter": "python",
   "pygments_lexer": "ipython2",
   "version": "2.7.6"
  }
 },
 "nbformat": 4,
 "nbformat_minor": 0
}